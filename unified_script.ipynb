{
  "nbformat": 4,
  "nbformat_minor": 0,
  "metadata": {
    "colab": {
      "name": "unified_script.ipynb",
      "provenance": [],
      "collapsed_sections": [],
      "authorship_tag": "ABX9TyPECV1XBOMjw/2qU0HecUo4",
      "include_colab_link": true
    },
    "kernelspec": {
      "name": "python3",
      "display_name": "Python 3"
    },
    "language_info": {
      "name": "python"
    }
  },
  "cells": [
    {
      "cell_type": "markdown",
      "metadata": {
        "id": "view-in-github",
        "colab_type": "text"
      },
      "source": [
        "<a href=\"https://colab.research.google.com/github/julianflowers/herbivores_ghg/blob/master/unified_script.ipynb\" target=\"_parent\"><img src=\"https://colab.research.google.com/assets/colab-badge.svg\" alt=\"Open In Colab\"/></a>"
      ]
    },
    {
      "cell_type": "code",
      "execution_count": 1,
      "metadata": {
        "id": "o98aVudq_p1w"
      },
      "outputs": [],
      "source": [
        "%load_ext rpy2.ipython"
      ]
    },
    {
      "cell_type": "code",
      "source": [
        "%%R\n",
        "install.packages(\"remotes\")\n",
        "remotes::install_github(\"kth-library/semanticscholar\", dependencies = TRUE)"
      ],
      "metadata": {
        "colab": {
          "base_uri": "https://localhost:8080/"
        },
        "id": "Vu0UKxl0_tvo",
        "outputId": "62ccd4bc-2662-4459-afcb-198050cacfe2"
      },
      "execution_count": 2,
      "outputs": [
        {
          "output_type": "stream",
          "name": "stderr",
          "text": [
            "WARNING:rpy2.rinterface_lib.callbacks:R[write to console]: Installing package into ‘/usr/local/lib/R/site-library’\n",
            "(as ‘lib’ is unspecified)\n",
            "\n",
            "WARNING:rpy2.rinterface_lib.callbacks:R[write to console]: trying URL 'https://cran.rstudio.com/src/contrib/remotes_2.4.2.tar.gz'\n",
            "\n",
            "WARNING:rpy2.rinterface_lib.callbacks:R[write to console]: Content type 'application/x-gzip'\n",
            "WARNING:rpy2.rinterface_lib.callbacks:R[write to console]:  length 152540 bytes (148 KB)\n",
            "\n",
            "WARNING:rpy2.rinterface_lib.callbacks:R[write to console]: =\n",
            "WARNING:rpy2.rinterface_lib.callbacks:R[write to console]: =\n",
            "WARNING:rpy2.rinterface_lib.callbacks:R[write to console]: =\n",
            "WARNING:rpy2.rinterface_lib.callbacks:R[write to console]: =\n",
            "WARNING:rpy2.rinterface_lib.callbacks:R[write to console]: =\n",
            "WARNING:rpy2.rinterface_lib.callbacks:R[write to console]: =\n",
            "WARNING:rpy2.rinterface_lib.callbacks:R[write to console]: =\n",
            "WARNING:rpy2.rinterface_lib.callbacks:R[write to console]: =\n",
            "WARNING:rpy2.rinterface_lib.callbacks:R[write to console]: =\n",
            "WARNING:rpy2.rinterface_lib.callbacks:R[write to console]: =\n",
            "WARNING:rpy2.rinterface_lib.callbacks:R[write to console]: =\n",
            "WARNING:rpy2.rinterface_lib.callbacks:R[write to console]: =\n",
            "WARNING:rpy2.rinterface_lib.callbacks:R[write to console]: =\n",
            "WARNING:rpy2.rinterface_lib.callbacks:R[write to console]: =\n",
            "WARNING:rpy2.rinterface_lib.callbacks:R[write to console]: =\n",
            "WARNING:rpy2.rinterface_lib.callbacks:R[write to console]: =\n",
            "WARNING:rpy2.rinterface_lib.callbacks:R[write to console]: =\n",
            "WARNING:rpy2.rinterface_lib.callbacks:R[write to console]: =\n",
            "WARNING:rpy2.rinterface_lib.callbacks:R[write to console]: =\n",
            "WARNING:rpy2.rinterface_lib.callbacks:R[write to console]: =\n",
            "WARNING:rpy2.rinterface_lib.callbacks:R[write to console]: =\n",
            "WARNING:rpy2.rinterface_lib.callbacks:R[write to console]: =\n",
            "WARNING:rpy2.rinterface_lib.callbacks:R[write to console]: =\n",
            "WARNING:rpy2.rinterface_lib.callbacks:R[write to console]: =\n",
            "WARNING:rpy2.rinterface_lib.callbacks:R[write to console]: =\n",
            "WARNING:rpy2.rinterface_lib.callbacks:R[write to console]: =\n",
            "WARNING:rpy2.rinterface_lib.callbacks:R[write to console]: =\n",
            "WARNING:rpy2.rinterface_lib.callbacks:R[write to console]: =\n",
            "WARNING:rpy2.rinterface_lib.callbacks:R[write to console]: =\n",
            "WARNING:rpy2.rinterface_lib.callbacks:R[write to console]: =\n",
            "WARNING:rpy2.rinterface_lib.callbacks:R[write to console]: =\n",
            "WARNING:rpy2.rinterface_lib.callbacks:R[write to console]: =\n",
            "WARNING:rpy2.rinterface_lib.callbacks:R[write to console]: =\n",
            "WARNING:rpy2.rinterface_lib.callbacks:R[write to console]: =\n",
            "WARNING:rpy2.rinterface_lib.callbacks:R[write to console]: =\n",
            "WARNING:rpy2.rinterface_lib.callbacks:R[write to console]: =\n",
            "WARNING:rpy2.rinterface_lib.callbacks:R[write to console]: =\n",
            "WARNING:rpy2.rinterface_lib.callbacks:R[write to console]: =\n",
            "WARNING:rpy2.rinterface_lib.callbacks:R[write to console]: =\n",
            "WARNING:rpy2.rinterface_lib.callbacks:R[write to console]: =\n",
            "WARNING:rpy2.rinterface_lib.callbacks:R[write to console]: =\n",
            "WARNING:rpy2.rinterface_lib.callbacks:R[write to console]: =\n",
            "WARNING:rpy2.rinterface_lib.callbacks:R[write to console]: =\n",
            "WARNING:rpy2.rinterface_lib.callbacks:R[write to console]: =\n",
            "WARNING:rpy2.rinterface_lib.callbacks:R[write to console]: =\n",
            "WARNING:rpy2.rinterface_lib.callbacks:R[write to console]: =\n",
            "WARNING:rpy2.rinterface_lib.callbacks:R[write to console]: =\n",
            "WARNING:rpy2.rinterface_lib.callbacks:R[write to console]: =\n",
            "WARNING:rpy2.rinterface_lib.callbacks:R[write to console]: =\n",
            "WARNING:rpy2.rinterface_lib.callbacks:R[write to console]: =\n",
            "WARNING:rpy2.rinterface_lib.callbacks:R[write to console]: \n",
            "\n",
            "WARNING:rpy2.rinterface_lib.callbacks:R[write to console]: downloaded 148 KB\n",
            "\n",
            "\n",
            "WARNING:rpy2.rinterface_lib.callbacks:R[write to console]: \n",
            "\n",
            "WARNING:rpy2.rinterface_lib.callbacks:R[write to console]: \n",
            "WARNING:rpy2.rinterface_lib.callbacks:R[write to console]: The downloaded source packages are in\n",
            "\t‘/tmp/RtmpLlHL3U/downloaded_packages’\n",
            "WARNING:rpy2.rinterface_lib.callbacks:R[write to console]: \n",
            "WARNING:rpy2.rinterface_lib.callbacks:R[write to console]: \n",
            "\n",
            "WARNING:rpy2.rinterface_lib.callbacks:R[write to console]: Skipping install of 'semanticscholar' from a github remote, the SHA1 (c3edf8e3) has not changed since last install.\n",
            "  Use `force = TRUE` to force installation\n",
            "\n"
          ]
        }
      ]
    },
    {
      "cell_type": "code",
      "source": [
        "%%R\n",
        "library(semanticscholar)"
      ],
      "metadata": {
        "id": "FG0_leHEHR70"
      },
      "execution_count": 3,
      "outputs": []
    },
    {
      "cell_type": "code",
      "source": [
        "%%R\n",
        "search <- \"herbivory climate change\"\n",
        "s2_search <- semanticscholar::S2_search_papers(keyword = search, offset = 1, limit = 100)\n",
        "s2_search"
      ],
      "metadata": {
        "colab": {
          "base_uri": "https://localhost:8080/"
        },
        "id": "hkdJ8_28IE2q",
        "outputId": "4436b4b2-c576-48d6-84b0-594f64003ca1"
      },
      "execution_count": 4,
      "outputs": [
        {
          "output_type": "stream",
          "name": "stdout",
          "text": [
            "$total\n",
            "[1] 617520\n",
            "\n",
            "$offset\n",
            "[1] 1\n",
            "\n",
            "$`next`\n",
            "[1] 101\n",
            "\n",
            "$data\n",
            "# A tibble: 100 × 2\n",
            "   paperId                                  title                               \n",
            " * <chr>                                    <chr>                               \n",
            " 1 a9ce39a660c48a3602c00296d5d8f24ea14ecb10 Potential of Climate Change and Her…\n",
            " 2 16e220c74ab95d69c96a34e1cd79adeb03390bce Asymmetric Responses to Climate Cha…\n",
            " 3 44ab5396ac4ef4dd865f8c1875ee27f46f68fcc9 Potential for an Impact of Global C…\n",
            " 4 a90799b9e3fe74b7e506503be8ad647038e87e46 Long-term changes in the primary pr…\n",
            " 5 c17b737748a922c5339873e2720a89520814331c Cloud cover and delayed herbivory r…\n",
            " 6 1bcfc008e53548f3271a64d2f5f2b59ef6dd33f6 Circumpolar arctic tundra biomass a…\n",
            " 7 5880b50f3c06e61056cb94ec1e636a67cada44d8 Physiological and biochemical respo…\n",
            " 8 88caa8935016636c578bf00f8e57b5c8950e6afc Climate change alters plant-herbivo…\n",
            " 9 78e45f7368cb7f344b4a11117b92b6fce80621dd Synergistic effects of insect herbi…\n",
            "10 1ab15bbfc0c912fcf805ceb5b60c62a6e40b57cd Ecological interactions mediate pro…\n",
            "# … with 90 more rows\n",
            "# ℹ Use `print(n = ...)` to see more rows\n",
            "\n"
          ]
        }
      ]
    },
    {
      "cell_type": "code",
      "source": [
        "%%R\n",
        "library(tidyverse)"
      ],
      "metadata": {
        "colab": {
          "base_uri": "https://localhost:8080/"
        },
        "id": "QsWHKgmvIeaG",
        "outputId": "30723ff9-dbcb-4306-ba3d-04c2164d1147"
      },
      "execution_count": 5,
      "outputs": [
        {
          "output_type": "stream",
          "name": "stderr",
          "text": [
            "WARNING:rpy2.rinterface_lib.callbacks:R[write to console]: ── Attaching packages ─────────────────────────────────────── tidyverse 1.3.1 ──\n",
            "\n",
            "WARNING:rpy2.rinterface_lib.callbacks:R[write to console]: ✔ ggplot2 3.3.6     ✔ purrr   0.3.4\n",
            "✔ tibble  3.1.8     ✔ dplyr   1.0.9\n",
            "✔ tidyr   1.2.0     ✔ stringr 1.4.0\n",
            "✔ readr   2.1.2     ✔ forcats 0.5.1\n",
            "\n",
            "WARNING:rpy2.rinterface_lib.callbacks:R[write to console]: ── Conflicts ────────────────────────────────────────── tidyverse_conflicts() ──\n",
            "✖ dplyr::filter() masks stats::filter()\n",
            "✖ dplyr::lag()    masks stats::lag()\n",
            "\n"
          ]
        }
      ]
    },
    {
      "cell_type": "code",
      "source": [
        "%%R\n",
        "\n",
        "ids <- pluck(s2_search$data, \"paperId\")\n",
        "\n",
        "papers <- map(ids, S2_paper)\n",
        "\n",
        "papid <- map(papers, \"paperId\") |>\n",
        "  enframe()\n",
        "\n",
        "abstract <- map(papers, \"abstract\") |>\n",
        "  enframe()\n",
        "\n",
        "topics <- map(papers, \"topics\") |>\n",
        "  enframe()\n",
        "\n",
        "doi <- map(papers, \"doi\") |>\n",
        "  enframe()\n",
        "\n",
        "title <- map(papers, \"title\") |>\n",
        "  enframe()\n",
        "\n",
        "corpusId <- map(papers, \"corpusId\") |>\n",
        "  enframe()\n",
        "\n",
        "fos <- map(papers, \"fieldsOfStudy\") |>\n",
        "  enframe()\n",
        "\n",
        "combined <- papid |>\n",
        "  left_join(title, by = \"name\") |>\n",
        "  left_join(abstract, by = \"name\") |>\n",
        "  left_join(fos, by = \"name\") |>\n",
        "  left_join(topics, by = \"name\") |>\n",
        "  left_join(corpusId, by = \"name\") |>\n",
        "  left_join(doi, by = \"name\")\n",
        "\n",
        "combined <- combined |> \n",
        "  rename(id = value.x, \n",
        "         title = value.y, \n",
        "         abstract = value.x.x, \n",
        "         fos = value.y.y, \n",
        "         topics = value.x.x.x, \n",
        "         corpusId = value.y.y.y, \n",
        "         doi = value)\n"
      ],
      "metadata": {
        "id": "RQxPSeRFISNt"
      },
      "execution_count": 6,
      "outputs": []
    },
    {
      "cell_type": "code",
      "source": [
        "%%R\n",
        "comb <- combined |>\n",
        "  unnest(cols = \"topics\") |>\n",
        "  unnest(cols = \"fos\") |>\n",
        "  group_by(name) |>\n",
        "  select(-c(topicId, url)) |>\n",
        "  summarise(topic = paste(topic, collapse = \"; \")) \n",
        "\n",
        "  comb"
      ],
      "metadata": {
        "colab": {
          "base_uri": "https://localhost:8080/"
        },
        "id": "QxjZ8mf8ISCQ",
        "outputId": "5c0b21a0-8d23-47b4-8dc9-4fb93376ed9b"
      },
      "execution_count": 7,
      "outputs": [
        {
          "output_type": "stream",
          "name": "stdout",
          "text": [
            "# A tibble: 44 × 2\n",
            "    name topic                                                                  \n",
            "   <int> <chr>                                                                  \n",
            " 1     2 Herbivory; Herbivory; GLUCOSE OXIDASE; GLUCOSE OXIDASE; Lycopersicon e…\n",
            " 2     4 Reindeer; Herbivory; Labrador retriever; Population; Interaction; Habi…\n",
            " 3     5 Onset (audio); Onset (audio); Ephrin Type-B Receptor 1, human; Ephrin …\n",
            " 4     6 Herbivory; Herbivory; Arctic Tundra; Arctic Tundra; Climate Change; Cl…\n",
            " 5     7 Carbon Dioxide; Carbon Dioxide; Sea urchin (invertebrate); Sea urchin …\n",
            " 6    11 Herbivory                                                              \n",
            " 7    15 Plant Development; Plant Development; Herbivory; Herbivory; Pinus <gen…\n",
            " 8    21 Tea; Carbon Dioxide; Climate Change; Herbivory; Other Toxicity Studies…\n",
            " 9    22 Coral Reefs; Coral Reefs; Fishes; Fishes; Herbivory; Herbivory; Seawee…\n",
            "10    23 Herbivory; Herbivory; Trees (plant); Trees (plant); Gradient; Gradient…\n",
            "# … with 34 more rows\n",
            "# ℹ Use `print(n = ...)` to see more rows\n"
          ]
        }
      ]
    },
    {
      "cell_type": "code",
      "source": [
        "%%R\n",
        "comb |>\n",
        "  write_delim(\"test.txt\")\n",
        "  "
      ],
      "metadata": {
        "id": "bejWISDGL9yk"
      },
      "execution_count": 8,
      "outputs": []
    },
    {
      "cell_type": "code",
      "source": [
        "%%R\n",
        "abstracts <- combined |>\n",
        "    select(id, abstract)\n",
        "abstracts |>\n",
        "    unnest(col = c(\"abstract\")) |>\n",
        "    write_delim(\"abstract.txt\")"
      ],
      "metadata": {
        "id": "COUW-xPiMruJ"
      },
      "execution_count": 9,
      "outputs": []
    },
    {
      "cell_type": "code",
      "source": [
        "%pip install taxonerd\n",
        "%pip install https://github.com/nleguillarme/taxonerd/releases/download/v1.3.0/en_ner_eco_biobert-1.0.0.tar.gz"
      ],
      "metadata": {
        "colab": {
          "base_uri": "https://localhost:8080/"
        },
        "id": "xiTqpz4TIR0Y",
        "outputId": "c838c604-91f3-46c9-9ec5-3b578ca48494"
      },
      "execution_count": 10,
      "outputs": [
        {
          "output_type": "stream",
          "name": "stdout",
          "text": [
            "Looking in indexes: https://pypi.org/simple, https://us-python.pkg.dev/colab-wheels/public/simple/\n",
            "Requirement already satisfied: taxonerd in /usr/local/lib/python3.7/dist-packages (1.3.3)\n",
            "Collecting spacy<3.1.0,>=3.0.5\n",
            "  Using cached spacy-3.0.8-cp37-cp37m-manylinux_2_17_x86_64.manylinux2014_x86_64.whl (5.8 MB)\n",
            "Requirement already satisfied: spacy-transformers<1.0.5,>=1.0.2 in /usr/local/lib/python3.7/dist-packages (from taxonerd) (1.0.4)\n",
            "Requirement already satisfied: click<7.2.0,>=7.1.1 in /usr/local/lib/python3.7/dist-packages (from taxonerd) (7.1.2)\n",
            "Requirement already satisfied: pandas>=0.24.2 in /usr/local/lib/python3.7/dist-packages (from taxonerd) (1.3.5)\n",
            "Requirement already satisfied: scispacy==0.4.0 in /usr/local/lib/python3.7/dist-packages (from taxonerd) (0.4.0)\n",
            "Requirement already satisfied: textract>=1.6.3 in /usr/local/lib/python3.7/dist-packages (from taxonerd) (1.6.5)\n",
            "Requirement already satisfied: pysbd in /usr/local/lib/python3.7/dist-packages (from scispacy==0.4.0->taxonerd) (0.3.4)\n",
            "Requirement already satisfied: conllu in /usr/local/lib/python3.7/dist-packages (from scispacy==0.4.0->taxonerd) (4.5.2)\n",
            "Requirement already satisfied: requests<3.0.0,>=2.0.0 in /usr/local/lib/python3.7/dist-packages (from scispacy==0.4.0->taxonerd) (2.28.1)\n",
            "Requirement already satisfied: joblib in /usr/local/lib/python3.7/dist-packages (from scispacy==0.4.0->taxonerd) (1.1.0)\n",
            "Requirement already satisfied: nmslib>=1.7.3.6 in /usr/local/lib/python3.7/dist-packages (from scispacy==0.4.0->taxonerd) (2.1.1)\n",
            "Requirement already satisfied: numpy in /usr/local/lib/python3.7/dist-packages (from scispacy==0.4.0->taxonerd) (1.21.6)\n",
            "Requirement already satisfied: scikit-learn>=0.20.3 in /usr/local/lib/python3.7/dist-packages (from scispacy==0.4.0->taxonerd) (1.0.2)\n",
            "Requirement already satisfied: pybind11<2.6.2 in /usr/local/lib/python3.7/dist-packages (from nmslib>=1.7.3.6->scispacy==0.4.0->taxonerd) (2.6.1)\n",
            "Requirement already satisfied: psutil in /usr/local/lib/python3.7/dist-packages (from nmslib>=1.7.3.6->scispacy==0.4.0->taxonerd) (5.4.8)\n",
            "Requirement already satisfied: python-dateutil>=2.7.3 in /usr/local/lib/python3.7/dist-packages (from pandas>=0.24.2->taxonerd) (2.8.2)\n",
            "Requirement already satisfied: pytz>=2017.3 in /usr/local/lib/python3.7/dist-packages (from pandas>=0.24.2->taxonerd) (2022.1)\n",
            "Requirement already satisfied: six>=1.5 in /usr/local/lib/python3.7/dist-packages (from python-dateutil>=2.7.3->pandas>=0.24.2->taxonerd) (1.12.0)\n",
            "Requirement already satisfied: charset-normalizer<3,>=2 in /usr/local/lib/python3.7/dist-packages (from requests<3.0.0,>=2.0.0->scispacy==0.4.0->taxonerd) (2.1.0)\n",
            "Requirement already satisfied: certifi>=2017.4.17 in /usr/local/lib/python3.7/dist-packages (from requests<3.0.0,>=2.0.0->scispacy==0.4.0->taxonerd) (2022.6.15)\n",
            "Requirement already satisfied: urllib3<1.27,>=1.21.1 in /usr/local/lib/python3.7/dist-packages (from requests<3.0.0,>=2.0.0->scispacy==0.4.0->taxonerd) (1.24.3)\n",
            "Requirement already satisfied: idna<4,>=2.5 in /usr/local/lib/python3.7/dist-packages (from requests<3.0.0,>=2.0.0->scispacy==0.4.0->taxonerd) (2.10)\n",
            "Requirement already satisfied: threadpoolctl>=2.0.0 in /usr/local/lib/python3.7/dist-packages (from scikit-learn>=0.20.3->scispacy==0.4.0->taxonerd) (3.1.0)\n",
            "Requirement already satisfied: scipy>=1.1.0 in /usr/local/lib/python3.7/dist-packages (from scikit-learn>=0.20.3->scispacy==0.4.0->taxonerd) (1.7.3)\n",
            "Requirement already satisfied: typing-extensions<4.0.0.0,>=3.7.4 in /usr/local/lib/python3.7/dist-packages (from spacy<3.1.0,>=3.0.5->taxonerd) (3.10.0.2)\n",
            "Requirement already satisfied: thinc<8.1.0,>=8.0.3 in /usr/local/lib/python3.7/dist-packages (from spacy<3.1.0,>=3.0.5->taxonerd) (8.0.17)\n",
            "Requirement already satisfied: blis<0.8.0,>=0.4.0 in /usr/local/lib/python3.7/dist-packages (from spacy<3.1.0,>=3.0.5->taxonerd) (0.7.8)\n",
            "Requirement already satisfied: spacy-legacy<3.1.0,>=3.0.5 in /usr/local/lib/python3.7/dist-packages (from spacy<3.1.0,>=3.0.5->taxonerd) (3.0.9)\n",
            "Requirement already satisfied: pydantic!=1.8,!=1.8.1,<1.9.0,>=1.7.4 in /usr/local/lib/python3.7/dist-packages (from spacy<3.1.0,>=3.0.5->taxonerd) (1.8.2)\n",
            "Requirement already satisfied: preshed<3.1.0,>=3.0.2 in /usr/local/lib/python3.7/dist-packages (from spacy<3.1.0,>=3.0.5->taxonerd) (3.0.6)\n",
            "Requirement already satisfied: tqdm<5.0.0,>=4.38.0 in /usr/local/lib/python3.7/dist-packages (from spacy<3.1.0,>=3.0.5->taxonerd) (4.64.0)\n",
            "Requirement already satisfied: pathy>=0.3.5 in /usr/local/lib/python3.7/dist-packages (from spacy<3.1.0,>=3.0.5->taxonerd) (0.6.2)\n",
            "Requirement already satisfied: murmurhash<1.1.0,>=0.28.0 in /usr/local/lib/python3.7/dist-packages (from spacy<3.1.0,>=3.0.5->taxonerd) (1.0.7)\n",
            "Requirement already satisfied: jinja2 in /usr/local/lib/python3.7/dist-packages (from spacy<3.1.0,>=3.0.5->taxonerd) (2.11.3)\n",
            "Requirement already satisfied: setuptools in /usr/local/lib/python3.7/dist-packages (from spacy<3.1.0,>=3.0.5->taxonerd) (57.4.0)\n",
            "Requirement already satisfied: srsly<3.0.0,>=2.4.1 in /usr/local/lib/python3.7/dist-packages (from spacy<3.1.0,>=3.0.5->taxonerd) (2.4.4)\n",
            "Requirement already satisfied: wasabi<1.1.0,>=0.8.1 in /usr/local/lib/python3.7/dist-packages (from spacy<3.1.0,>=3.0.5->taxonerd) (0.10.1)\n",
            "Requirement already satisfied: cymem<2.1.0,>=2.0.2 in /usr/local/lib/python3.7/dist-packages (from spacy<3.1.0,>=3.0.5->taxonerd) (2.0.6)\n",
            "Requirement already satisfied: catalogue<2.1.0,>=2.0.4 in /usr/local/lib/python3.7/dist-packages (from spacy<3.1.0,>=3.0.5->taxonerd) (2.0.8)\n",
            "Requirement already satisfied: typer<0.4.0,>=0.3.0 in /usr/local/lib/python3.7/dist-packages (from spacy<3.1.0,>=3.0.5->taxonerd) (0.3.2)\n",
            "Requirement already satisfied: packaging>=20.0 in /usr/local/lib/python3.7/dist-packages (from spacy<3.1.0,>=3.0.5->taxonerd) (21.3)\n",
            "Requirement already satisfied: zipp>=0.5 in /usr/local/lib/python3.7/dist-packages (from catalogue<2.1.0,>=2.0.4->spacy<3.1.0,>=3.0.5->taxonerd) (3.8.1)\n",
            "Requirement already satisfied: pyparsing!=3.0.5,>=2.0.2 in /usr/local/lib/python3.7/dist-packages (from packaging>=20.0->spacy<3.1.0,>=3.0.5->taxonerd) (3.0.9)\n",
            "Requirement already satisfied: smart-open<6.0.0,>=5.2.1 in /usr/local/lib/python3.7/dist-packages (from pathy>=0.3.5->spacy<3.1.0,>=3.0.5->taxonerd) (5.2.1)\n",
            "Requirement already satisfied: torch>=1.5.0 in /usr/local/lib/python3.7/dist-packages (from spacy-transformers<1.0.5,>=1.0.2->taxonerd) (1.12.0+cu113)\n",
            "Requirement already satisfied: transformers<4.10.0,>=3.4.0 in /usr/local/lib/python3.7/dist-packages (from spacy-transformers<1.0.5,>=1.0.2->taxonerd) (4.9.2)\n",
            "Requirement already satisfied: spacy-alignments<1.0.0,>=0.7.2 in /usr/local/lib/python3.7/dist-packages (from spacy-transformers<1.0.5,>=1.0.2->taxonerd) (0.8.5)\n",
            "Requirement already satisfied: pdfminer.six==20191110 in /usr/local/lib/python3.7/dist-packages (from textract>=1.6.3->taxonerd) (20191110)\n",
            "Requirement already satisfied: beautifulsoup4~=4.8.0 in /usr/local/lib/python3.7/dist-packages (from textract>=1.6.3->taxonerd) (4.8.2)\n",
            "Requirement already satisfied: python-pptx~=0.6.18 in /usr/local/lib/python3.7/dist-packages (from textract>=1.6.3->taxonerd) (0.6.21)\n",
            "Requirement already satisfied: argcomplete~=1.10.0 in /usr/local/lib/python3.7/dist-packages (from textract>=1.6.3->taxonerd) (1.10.3)\n",
            "Requirement already satisfied: docx2txt~=0.8 in /usr/local/lib/python3.7/dist-packages (from textract>=1.6.3->taxonerd) (0.8)\n",
            "Requirement already satisfied: SpeechRecognition~=3.8.1 in /usr/local/lib/python3.7/dist-packages (from textract>=1.6.3->taxonerd) (3.8.1)\n",
            "Requirement already satisfied: xlrd~=1.2.0 in /usr/local/lib/python3.7/dist-packages (from textract>=1.6.3->taxonerd) (1.2.0)\n",
            "Requirement already satisfied: chardet==3.* in /usr/local/lib/python3.7/dist-packages (from textract>=1.6.3->taxonerd) (3.0.4)\n",
            "Requirement already satisfied: extract-msg<=0.29.* in /usr/local/lib/python3.7/dist-packages (from textract>=1.6.3->taxonerd) (0.28.7)\n",
            "Requirement already satisfied: sortedcontainers in /usr/local/lib/python3.7/dist-packages (from pdfminer.six==20191110->textract>=1.6.3->taxonerd) (2.4.0)\n",
            "Requirement already satisfied: pycryptodome in /usr/local/lib/python3.7/dist-packages (from pdfminer.six==20191110->textract>=1.6.3->taxonerd) (3.15.0)\n",
            "Requirement already satisfied: soupsieve>=1.2 in /usr/local/lib/python3.7/dist-packages (from beautifulsoup4~=4.8.0->textract>=1.6.3->taxonerd) (2.3.2.post1)\n",
            "Requirement already satisfied: compressed-rtf>=1.0.6 in /usr/local/lib/python3.7/dist-packages (from extract-msg<=0.29.*->textract>=1.6.3->taxonerd) (1.0.6)\n",
            "Requirement already satisfied: imapclient==2.1.0 in /usr/local/lib/python3.7/dist-packages (from extract-msg<=0.29.*->textract>=1.6.3->taxonerd) (2.1.0)\n",
            "Requirement already satisfied: tzlocal>=2.1 in /usr/local/lib/python3.7/dist-packages (from extract-msg<=0.29.*->textract>=1.6.3->taxonerd) (4.2)\n",
            "Requirement already satisfied: ebcdic>=1.1.1 in /usr/local/lib/python3.7/dist-packages (from extract-msg<=0.29.*->textract>=1.6.3->taxonerd) (1.1.1)\n",
            "Requirement already satisfied: olefile>=0.46 in /usr/local/lib/python3.7/dist-packages (from extract-msg<=0.29.*->textract>=1.6.3->taxonerd) (0.46)\n",
            "Requirement already satisfied: XlsxWriter>=0.5.7 in /usr/local/lib/python3.7/dist-packages (from python-pptx~=0.6.18->textract>=1.6.3->taxonerd) (3.0.3)\n",
            "Requirement already satisfied: lxml>=3.1.0 in /usr/local/lib/python3.7/dist-packages (from python-pptx~=0.6.18->textract>=1.6.3->taxonerd) (4.9.1)\n",
            "Requirement already satisfied: Pillow>=3.3.2 in /usr/local/lib/python3.7/dist-packages (from python-pptx~=0.6.18->textract>=1.6.3->taxonerd) (7.1.2)\n",
            "Requirement already satisfied: filelock in /usr/local/lib/python3.7/dist-packages (from transformers<4.10.0,>=3.4.0->spacy-transformers<1.0.5,>=1.0.2->taxonerd) (3.7.1)\n",
            "Requirement already satisfied: sacremoses in /usr/local/lib/python3.7/dist-packages (from transformers<4.10.0,>=3.4.0->spacy-transformers<1.0.5,>=1.0.2->taxonerd) (0.0.53)\n",
            "Requirement already satisfied: tokenizers<0.11,>=0.10.1 in /usr/local/lib/python3.7/dist-packages (from transformers<4.10.0,>=3.4.0->spacy-transformers<1.0.5,>=1.0.2->taxonerd) (0.10.3)\n",
            "Requirement already satisfied: importlib-metadata in /usr/local/lib/python3.7/dist-packages (from transformers<4.10.0,>=3.4.0->spacy-transformers<1.0.5,>=1.0.2->taxonerd) (3.10.1)\n",
            "Requirement already satisfied: pyyaml>=5.1 in /usr/local/lib/python3.7/dist-packages (from transformers<4.10.0,>=3.4.0->spacy-transformers<1.0.5,>=1.0.2->taxonerd) (6.0)\n",
            "Requirement already satisfied: huggingface-hub==0.0.12 in /usr/local/lib/python3.7/dist-packages (from transformers<4.10.0,>=3.4.0->spacy-transformers<1.0.5,>=1.0.2->taxonerd) (0.0.12)\n",
            "Requirement already satisfied: regex!=2019.12.17 in /usr/local/lib/python3.7/dist-packages (from transformers<4.10.0,>=3.4.0->spacy-transformers<1.0.5,>=1.0.2->taxonerd) (2022.6.2)\n",
            "Requirement already satisfied: pytz-deprecation-shim in /usr/local/lib/python3.7/dist-packages (from tzlocal>=2.1->extract-msg<=0.29.*->textract>=1.6.3->taxonerd) (0.1.0.post0)\n",
            "Requirement already satisfied: backports.zoneinfo in /usr/local/lib/python3.7/dist-packages (from tzlocal>=2.1->extract-msg<=0.29.*->textract>=1.6.3->taxonerd) (0.2.1)\n",
            "Requirement already satisfied: MarkupSafe>=0.23 in /usr/local/lib/python3.7/dist-packages (from jinja2->spacy<3.1.0,>=3.0.5->taxonerd) (2.0.1)\n",
            "Requirement already satisfied: tzdata in /usr/local/lib/python3.7/dist-packages (from pytz-deprecation-shim->tzlocal>=2.1->extract-msg<=0.29.*->textract>=1.6.3->taxonerd) (2022.1)\n",
            "Installing collected packages: spacy\n",
            "  Attempting uninstall: spacy\n",
            "    Found existing installation: spacy 3.2.4\n",
            "    Uninstalling spacy-3.2.4:\n",
            "      Successfully uninstalled spacy-3.2.4\n",
            "\u001b[31mERROR: pip's dependency resolver does not currently take into account all the packages that are installed. This behaviour is the source of the following dependency conflicts.\n",
            "en-core-web-sm 3.4.0 requires spacy<3.5.0,>=3.4.0, but you have spacy 3.0.8 which is incompatible.\n",
            "en-core-sci-sm 0.5.0 requires spacy<3.3.0,>=3.2.3, but you have spacy 3.0.8 which is incompatible.\u001b[0m\n",
            "Successfully installed spacy-3.0.8\n",
            "Looking in indexes: https://pypi.org/simple, https://us-python.pkg.dev/colab-wheels/public/simple/\n",
            "Collecting https://github.com/nleguillarme/taxonerd/releases/download/v1.3.0/en_ner_eco_biobert-1.0.0.tar.gz\n",
            "  Downloading https://github.com/nleguillarme/taxonerd/releases/download/v1.3.0/en_ner_eco_biobert-1.0.0.tar.gz (402.1 MB)\n",
            "\u001b[K     |████████████████████████████████| 402.1 MB 26 kB/s \n",
            "\u001b[?25hRequirement already satisfied: spacy<3.1.0,>=3.0.5 in /usr/local/lib/python3.7/dist-packages (from en-ner-eco-biobert==1.0.0) (3.0.8)\n",
            "Requirement already satisfied: murmurhash<1.1.0,>=0.28.0 in /usr/local/lib/python3.7/dist-packages (from spacy<3.1.0,>=3.0.5->en-ner-eco-biobert==1.0.0) (1.0.7)\n",
            "Requirement already satisfied: thinc<8.1.0,>=8.0.3 in /usr/local/lib/python3.7/dist-packages (from spacy<3.1.0,>=3.0.5->en-ner-eco-biobert==1.0.0) (8.0.17)\n",
            "Requirement already satisfied: numpy>=1.15.0 in /usr/local/lib/python3.7/dist-packages (from spacy<3.1.0,>=3.0.5->en-ner-eco-biobert==1.0.0) (1.21.6)\n",
            "Requirement already satisfied: pathy>=0.3.5 in /usr/local/lib/python3.7/dist-packages (from spacy<3.1.0,>=3.0.5->en-ner-eco-biobert==1.0.0) (0.6.2)\n",
            "Requirement already satisfied: pydantic!=1.8,!=1.8.1,<1.9.0,>=1.7.4 in /usr/local/lib/python3.7/dist-packages (from spacy<3.1.0,>=3.0.5->en-ner-eco-biobert==1.0.0) (1.8.2)\n",
            "Requirement already satisfied: packaging>=20.0 in /usr/local/lib/python3.7/dist-packages (from spacy<3.1.0,>=3.0.5->en-ner-eco-biobert==1.0.0) (21.3)\n",
            "Requirement already satisfied: wasabi<1.1.0,>=0.8.1 in /usr/local/lib/python3.7/dist-packages (from spacy<3.1.0,>=3.0.5->en-ner-eco-biobert==1.0.0) (0.10.1)\n",
            "Requirement already satisfied: setuptools in /usr/local/lib/python3.7/dist-packages (from spacy<3.1.0,>=3.0.5->en-ner-eco-biobert==1.0.0) (57.4.0)\n",
            "Requirement already satisfied: jinja2 in /usr/local/lib/python3.7/dist-packages (from spacy<3.1.0,>=3.0.5->en-ner-eco-biobert==1.0.0) (2.11.3)\n",
            "Requirement already satisfied: catalogue<2.1.0,>=2.0.4 in /usr/local/lib/python3.7/dist-packages (from spacy<3.1.0,>=3.0.5->en-ner-eco-biobert==1.0.0) (2.0.8)\n",
            "Requirement already satisfied: spacy-legacy<3.1.0,>=3.0.5 in /usr/local/lib/python3.7/dist-packages (from spacy<3.1.0,>=3.0.5->en-ner-eco-biobert==1.0.0) (3.0.9)\n",
            "Requirement already satisfied: requests<3.0.0,>=2.13.0 in /usr/local/lib/python3.7/dist-packages (from spacy<3.1.0,>=3.0.5->en-ner-eco-biobert==1.0.0) (2.28.1)\n",
            "Requirement already satisfied: typer<0.4.0,>=0.3.0 in /usr/local/lib/python3.7/dist-packages (from spacy<3.1.0,>=3.0.5->en-ner-eco-biobert==1.0.0) (0.3.2)\n",
            "Requirement already satisfied: cymem<2.1.0,>=2.0.2 in /usr/local/lib/python3.7/dist-packages (from spacy<3.1.0,>=3.0.5->en-ner-eco-biobert==1.0.0) (2.0.6)\n",
            "Requirement already satisfied: typing-extensions<4.0.0.0,>=3.7.4 in /usr/local/lib/python3.7/dist-packages (from spacy<3.1.0,>=3.0.5->en-ner-eco-biobert==1.0.0) (3.10.0.2)\n",
            "Requirement already satisfied: srsly<3.0.0,>=2.4.1 in /usr/local/lib/python3.7/dist-packages (from spacy<3.1.0,>=3.0.5->en-ner-eco-biobert==1.0.0) (2.4.4)\n",
            "Requirement already satisfied: blis<0.8.0,>=0.4.0 in /usr/local/lib/python3.7/dist-packages (from spacy<3.1.0,>=3.0.5->en-ner-eco-biobert==1.0.0) (0.7.8)\n",
            "Requirement already satisfied: tqdm<5.0.0,>=4.38.0 in /usr/local/lib/python3.7/dist-packages (from spacy<3.1.0,>=3.0.5->en-ner-eco-biobert==1.0.0) (4.64.0)\n",
            "Requirement already satisfied: preshed<3.1.0,>=3.0.2 in /usr/local/lib/python3.7/dist-packages (from spacy<3.1.0,>=3.0.5->en-ner-eco-biobert==1.0.0) (3.0.6)\n",
            "Requirement already satisfied: zipp>=0.5 in /usr/local/lib/python3.7/dist-packages (from catalogue<2.1.0,>=2.0.4->spacy<3.1.0,>=3.0.5->en-ner-eco-biobert==1.0.0) (3.8.1)\n",
            "Requirement already satisfied: pyparsing!=3.0.5,>=2.0.2 in /usr/local/lib/python3.7/dist-packages (from packaging>=20.0->spacy<3.1.0,>=3.0.5->en-ner-eco-biobert==1.0.0) (3.0.9)\n",
            "Requirement already satisfied: smart-open<6.0.0,>=5.2.1 in /usr/local/lib/python3.7/dist-packages (from pathy>=0.3.5->spacy<3.1.0,>=3.0.5->en-ner-eco-biobert==1.0.0) (5.2.1)\n",
            "Requirement already satisfied: urllib3<1.27,>=1.21.1 in /usr/local/lib/python3.7/dist-packages (from requests<3.0.0,>=2.13.0->spacy<3.1.0,>=3.0.5->en-ner-eco-biobert==1.0.0) (1.24.3)\n",
            "Requirement already satisfied: certifi>=2017.4.17 in /usr/local/lib/python3.7/dist-packages (from requests<3.0.0,>=2.13.0->spacy<3.1.0,>=3.0.5->en-ner-eco-biobert==1.0.0) (2022.6.15)\n",
            "Requirement already satisfied: idna<4,>=2.5 in /usr/local/lib/python3.7/dist-packages (from requests<3.0.0,>=2.13.0->spacy<3.1.0,>=3.0.5->en-ner-eco-biobert==1.0.0) (2.10)\n",
            "Requirement already satisfied: charset-normalizer<3,>=2 in /usr/local/lib/python3.7/dist-packages (from requests<3.0.0,>=2.13.0->spacy<3.1.0,>=3.0.5->en-ner-eco-biobert==1.0.0) (2.1.0)\n",
            "Requirement already satisfied: click<7.2.0,>=7.1.1 in /usr/local/lib/python3.7/dist-packages (from typer<0.4.0,>=0.3.0->spacy<3.1.0,>=3.0.5->en-ner-eco-biobert==1.0.0) (7.1.2)\n",
            "Requirement already satisfied: MarkupSafe>=0.23 in /usr/local/lib/python3.7/dist-packages (from jinja2->spacy<3.1.0,>=3.0.5->en-ner-eco-biobert==1.0.0) (2.0.1)\n"
          ]
        }
      ]
    },
    {
      "cell_type": "code",
      "source": [
        "from taxonerd import TaxoNERD"
      ],
      "metadata": {
        "id": "1sah5XzcIQ7d"
      },
      "execution_count": 11,
      "outputs": []
    },
    {
      "cell_type": "code",
      "source": [
        "ner = TaxoNERD(model=\"en_ner_eco_biobert\", prefer_gpu=True, with_linking=\"taxref\", with_abbrev=True) # Add with_linking=\"gbif_backbone\" or with_linking=\"taxref\" to activate entity linking\n"
      ],
      "metadata": {
        "id": "UgY5_cwkLnx_"
      },
      "execution_count": 12,
      "outputs": []
    },
    {
      "cell_type": "markdown",
      "source": [
        ""
      ],
      "metadata": {
        "id": "nxfQtAncHRbx"
      }
    },
    {
      "cell_type": "code",
      "source": [
        "doc = ner.find_in_file(\"/content/test.txt\")\n"
      ],
      "metadata": {
        "id": "3VlK6jTZMOmC"
      },
      "execution_count": 13,
      "outputs": []
    },
    {
      "cell_type": "code",
      "source": [
        "doc"
      ],
      "metadata": {
        "colab": {
          "base_uri": "https://localhost:8080/",
          "height": 424
        },
        "id": "02KY3F6nMiXa",
        "outputId": "465ccbc9-41b7-40e9-cb21-b4bc1891e167"
      },
      "execution_count": 14,
      "outputs": [
        {
          "output_type": "execute_result",
          "data": {
            "text/plain": [
              "              offsets                     text  \\\n",
              "T0         LIVB 70 93  Lycopersicon esculentum   \n",
              "T1        LIVB 95 118  Lycopersicon esculentum   \n",
              "T2       LIVB 162 177          Helicoverpa zea   \n",
              "T3       LIVB 179 194          Helicoverpa zea   \n",
              "T4       LIVB 409 417                 Reindeer   \n",
              "..                ...                      ...   \n",
              "T60    LIVB 9607 9612                    Pinus   \n",
              "T61    LIVB 9622 9633              Pinus taeda   \n",
              "T62    LIVB 9780 9792             Pinus edulis   \n",
              "T63  LIVB 12064 12085    Plesiastrea versipora   \n",
              "T64  LIVB 12161 12176          Influenza virus   \n",
              "\n",
              "                                                entity  \n",
              "T0     [(TAXREF:124070, Lycopersicon esculentum, 1.0)]  \n",
              "T1     [(TAXREF:124070, Lycopersicon esculentum, 1.0)]  \n",
              "T2             [(TAXREF:646124, Helicoverpa zea, 1.0)]  \n",
              "T3             [(TAXREF:646124, Helicoverpa zea, 1.0)]  \n",
              "T4                     [(TAXREF:61064, Reindeer, 1.0)]  \n",
              "..                                                 ...  \n",
              "T60       [(TAXREF:196293, Pinus, 0.9999999403953552)]  \n",
              "T61                [(TAXREF:446381, Pinus taeda, 1.0)]  \n",
              "T62               [(TAXREF:717410, Pinus edulis, 1.0)]  \n",
              "T63      [(TAXREF:445226, Plesiastrea versipora, 1.0)]  \n",
              "T64  [(TAXREF:94332, Orchis x influenza, 0.74505996...  \n",
              "\n",
              "[65 rows x 3 columns]"
            ],
            "text/html": [
              "\n",
              "  <div id=\"df-559dd93f-74eb-4cf1-8b35-7f4869f68629\">\n",
              "    <div class=\"colab-df-container\">\n",
              "      <div>\n",
              "<style scoped>\n",
              "    .dataframe tbody tr th:only-of-type {\n",
              "        vertical-align: middle;\n",
              "    }\n",
              "\n",
              "    .dataframe tbody tr th {\n",
              "        vertical-align: top;\n",
              "    }\n",
              "\n",
              "    .dataframe thead th {\n",
              "        text-align: right;\n",
              "    }\n",
              "</style>\n",
              "<table border=\"1\" class=\"dataframe\">\n",
              "  <thead>\n",
              "    <tr style=\"text-align: right;\">\n",
              "      <th></th>\n",
              "      <th>offsets</th>\n",
              "      <th>text</th>\n",
              "      <th>entity</th>\n",
              "    </tr>\n",
              "  </thead>\n",
              "  <tbody>\n",
              "    <tr>\n",
              "      <th>T0</th>\n",
              "      <td>LIVB 70 93</td>\n",
              "      <td>Lycopersicon esculentum</td>\n",
              "      <td>[(TAXREF:124070, Lycopersicon esculentum, 1.0)]</td>\n",
              "    </tr>\n",
              "    <tr>\n",
              "      <th>T1</th>\n",
              "      <td>LIVB 95 118</td>\n",
              "      <td>Lycopersicon esculentum</td>\n",
              "      <td>[(TAXREF:124070, Lycopersicon esculentum, 1.0)]</td>\n",
              "    </tr>\n",
              "    <tr>\n",
              "      <th>T2</th>\n",
              "      <td>LIVB 162 177</td>\n",
              "      <td>Helicoverpa zea</td>\n",
              "      <td>[(TAXREF:646124, Helicoverpa zea, 1.0)]</td>\n",
              "    </tr>\n",
              "    <tr>\n",
              "      <th>T3</th>\n",
              "      <td>LIVB 179 194</td>\n",
              "      <td>Helicoverpa zea</td>\n",
              "      <td>[(TAXREF:646124, Helicoverpa zea, 1.0)]</td>\n",
              "    </tr>\n",
              "    <tr>\n",
              "      <th>T4</th>\n",
              "      <td>LIVB 409 417</td>\n",
              "      <td>Reindeer</td>\n",
              "      <td>[(TAXREF:61064, Reindeer, 1.0)]</td>\n",
              "    </tr>\n",
              "    <tr>\n",
              "      <th>...</th>\n",
              "      <td>...</td>\n",
              "      <td>...</td>\n",
              "      <td>...</td>\n",
              "    </tr>\n",
              "    <tr>\n",
              "      <th>T60</th>\n",
              "      <td>LIVB 9607 9612</td>\n",
              "      <td>Pinus</td>\n",
              "      <td>[(TAXREF:196293, Pinus, 0.9999999403953552)]</td>\n",
              "    </tr>\n",
              "    <tr>\n",
              "      <th>T61</th>\n",
              "      <td>LIVB 9622 9633</td>\n",
              "      <td>Pinus taeda</td>\n",
              "      <td>[(TAXREF:446381, Pinus taeda, 1.0)]</td>\n",
              "    </tr>\n",
              "    <tr>\n",
              "      <th>T62</th>\n",
              "      <td>LIVB 9780 9792</td>\n",
              "      <td>Pinus edulis</td>\n",
              "      <td>[(TAXREF:717410, Pinus edulis, 1.0)]</td>\n",
              "    </tr>\n",
              "    <tr>\n",
              "      <th>T63</th>\n",
              "      <td>LIVB 12064 12085</td>\n",
              "      <td>Plesiastrea versipora</td>\n",
              "      <td>[(TAXREF:445226, Plesiastrea versipora, 1.0)]</td>\n",
              "    </tr>\n",
              "    <tr>\n",
              "      <th>T64</th>\n",
              "      <td>LIVB 12161 12176</td>\n",
              "      <td>Influenza virus</td>\n",
              "      <td>[(TAXREF:94332, Orchis x influenza, 0.74505996...</td>\n",
              "    </tr>\n",
              "  </tbody>\n",
              "</table>\n",
              "<p>65 rows × 3 columns</p>\n",
              "</div>\n",
              "      <button class=\"colab-df-convert\" onclick=\"convertToInteractive('df-559dd93f-74eb-4cf1-8b35-7f4869f68629')\"\n",
              "              title=\"Convert this dataframe to an interactive table.\"\n",
              "              style=\"display:none;\">\n",
              "        \n",
              "  <svg xmlns=\"http://www.w3.org/2000/svg\" height=\"24px\"viewBox=\"0 0 24 24\"\n",
              "       width=\"24px\">\n",
              "    <path d=\"M0 0h24v24H0V0z\" fill=\"none\"/>\n",
              "    <path d=\"M18.56 5.44l.94 2.06.94-2.06 2.06-.94-2.06-.94-.94-2.06-.94 2.06-2.06.94zm-11 1L8.5 8.5l.94-2.06 2.06-.94-2.06-.94L8.5 2.5l-.94 2.06-2.06.94zm10 10l.94 2.06.94-2.06 2.06-.94-2.06-.94-.94-2.06-.94 2.06-2.06.94z\"/><path d=\"M17.41 7.96l-1.37-1.37c-.4-.4-.92-.59-1.43-.59-.52 0-1.04.2-1.43.59L10.3 9.45l-7.72 7.72c-.78.78-.78 2.05 0 2.83L4 21.41c.39.39.9.59 1.41.59.51 0 1.02-.2 1.41-.59l7.78-7.78 2.81-2.81c.8-.78.8-2.07 0-2.86zM5.41 20L4 18.59l7.72-7.72 1.47 1.35L5.41 20z\"/>\n",
              "  </svg>\n",
              "      </button>\n",
              "      \n",
              "  <style>\n",
              "    .colab-df-container {\n",
              "      display:flex;\n",
              "      flex-wrap:wrap;\n",
              "      gap: 12px;\n",
              "    }\n",
              "\n",
              "    .colab-df-convert {\n",
              "      background-color: #E8F0FE;\n",
              "      border: none;\n",
              "      border-radius: 50%;\n",
              "      cursor: pointer;\n",
              "      display: none;\n",
              "      fill: #1967D2;\n",
              "      height: 32px;\n",
              "      padding: 0 0 0 0;\n",
              "      width: 32px;\n",
              "    }\n",
              "\n",
              "    .colab-df-convert:hover {\n",
              "      background-color: #E2EBFA;\n",
              "      box-shadow: 0px 1px 2px rgba(60, 64, 67, 0.3), 0px 1px 3px 1px rgba(60, 64, 67, 0.15);\n",
              "      fill: #174EA6;\n",
              "    }\n",
              "\n",
              "    [theme=dark] .colab-df-convert {\n",
              "      background-color: #3B4455;\n",
              "      fill: #D2E3FC;\n",
              "    }\n",
              "\n",
              "    [theme=dark] .colab-df-convert:hover {\n",
              "      background-color: #434B5C;\n",
              "      box-shadow: 0px 1px 3px 1px rgba(0, 0, 0, 0.15);\n",
              "      filter: drop-shadow(0px 1px 2px rgba(0, 0, 0, 0.3));\n",
              "      fill: #FFFFFF;\n",
              "    }\n",
              "  </style>\n",
              "\n",
              "      <script>\n",
              "        const buttonEl =\n",
              "          document.querySelector('#df-559dd93f-74eb-4cf1-8b35-7f4869f68629 button.colab-df-convert');\n",
              "        buttonEl.style.display =\n",
              "          google.colab.kernel.accessAllowed ? 'block' : 'none';\n",
              "\n",
              "        async function convertToInteractive(key) {\n",
              "          const element = document.querySelector('#df-559dd93f-74eb-4cf1-8b35-7f4869f68629');\n",
              "          const dataTable =\n",
              "            await google.colab.kernel.invokeFunction('convertToInteractive',\n",
              "                                                     [key], {});\n",
              "          if (!dataTable) return;\n",
              "\n",
              "          const docLinkHtml = 'Like what you see? Visit the ' +\n",
              "            '<a target=\"_blank\" href=https://colab.research.google.com/notebooks/data_table.ipynb>data table notebook</a>'\n",
              "            + ' to learn more about interactive tables.';\n",
              "          element.innerHTML = '';\n",
              "          dataTable['output_type'] = 'display_data';\n",
              "          await google.colab.output.renderOutput(dataTable, element);\n",
              "          const docLink = document.createElement('div');\n",
              "          docLink.innerHTML = docLinkHtml;\n",
              "          element.appendChild(docLink);\n",
              "        }\n",
              "      </script>\n",
              "    </div>\n",
              "  </div>\n",
              "  "
            ]
          },
          "metadata": {},
          "execution_count": 14
        }
      ]
    },
    {
      "cell_type": "code",
      "source": [
        "doc1 = ner.find_in_file(\"/content/abstract.txt\")\n",
        "doc1"
      ],
      "metadata": {
        "colab": {
          "base_uri": "https://localhost:8080/",
          "height": 424
        },
        "id": "R-ZvEXB1NkNw",
        "outputId": "ec1b1bfd-4498-478a-85b4-44e4736cb56d"
      },
      "execution_count": 15,
      "outputs": [
        {
          "output_type": "execute_result",
          "data": {
            "text/plain": [
              "                 offsets                     text  \\\n",
              "T0        LIVB 1632 1647          Geometrid moths   \n",
              "T1        LIVB 5392 5400                 Rangifer   \n",
              "T2        LIVB 6123 6131                 Rangifer   \n",
              "T3        LIVB 8163 8169                   Insect   \n",
              "T4        LIVB 8735 8746              dwarf birch   \n",
              "...                  ...                      ...   \n",
              "T230  LIVB 137155 137164                sea hares   \n",
              "T231  LIVB 143143 143154              butterflies   \n",
              "T232  LIVB 143159 143164                    moths   \n",
              "T233  LIVB 144272 144295  Ambrosia artemisiifolia   \n",
              "T234  LIVB 145123 145131                 Ambrosia   \n",
              "\n",
              "                                                 entity  \n",
              "T0    [(TAXREF:185259, geometer moths, 0.80506289005...  \n",
              "T1                     [(TAXREF:197043, Rangifer, 1.0)]  \n",
              "T2                     [(TAXREF:197043, Rangifer, 1.0)]  \n",
              "T3    [(TAXREF:51868, Water Stick Insect, 0.70065522...  \n",
              "T4                  [(TAXREF:762263, Dwarf birch, 1.0)]  \n",
              "...                                                 ...  \n",
              "T230                  [(TAXREF:188096, sea hares, 1.0)]  \n",
              "T231  [(TAXREF:185214, butterflies and moths, 0.7505...  \n",
              "T232  [(TAXREF:185244, case moths, 0.8185053467750549)]  \n",
              "T233     [(TAXREF:82080, Ambrosia artemisiifolia, 1.0)]  \n",
              "T234                   [(TAXREF:189037, Ambrosia, 1.0)]  \n",
              "\n",
              "[235 rows x 3 columns]"
            ],
            "text/html": [
              "\n",
              "  <div id=\"df-57da4242-21da-4a18-9327-7b4c6bd4c01b\">\n",
              "    <div class=\"colab-df-container\">\n",
              "      <div>\n",
              "<style scoped>\n",
              "    .dataframe tbody tr th:only-of-type {\n",
              "        vertical-align: middle;\n",
              "    }\n",
              "\n",
              "    .dataframe tbody tr th {\n",
              "        vertical-align: top;\n",
              "    }\n",
              "\n",
              "    .dataframe thead th {\n",
              "        text-align: right;\n",
              "    }\n",
              "</style>\n",
              "<table border=\"1\" class=\"dataframe\">\n",
              "  <thead>\n",
              "    <tr style=\"text-align: right;\">\n",
              "      <th></th>\n",
              "      <th>offsets</th>\n",
              "      <th>text</th>\n",
              "      <th>entity</th>\n",
              "    </tr>\n",
              "  </thead>\n",
              "  <tbody>\n",
              "    <tr>\n",
              "      <th>T0</th>\n",
              "      <td>LIVB 1632 1647</td>\n",
              "      <td>Geometrid moths</td>\n",
              "      <td>[(TAXREF:185259, geometer moths, 0.80506289005...</td>\n",
              "    </tr>\n",
              "    <tr>\n",
              "      <th>T1</th>\n",
              "      <td>LIVB 5392 5400</td>\n",
              "      <td>Rangifer</td>\n",
              "      <td>[(TAXREF:197043, Rangifer, 1.0)]</td>\n",
              "    </tr>\n",
              "    <tr>\n",
              "      <th>T2</th>\n",
              "      <td>LIVB 6123 6131</td>\n",
              "      <td>Rangifer</td>\n",
              "      <td>[(TAXREF:197043, Rangifer, 1.0)]</td>\n",
              "    </tr>\n",
              "    <tr>\n",
              "      <th>T3</th>\n",
              "      <td>LIVB 8163 8169</td>\n",
              "      <td>Insect</td>\n",
              "      <td>[(TAXREF:51868, Water Stick Insect, 0.70065522...</td>\n",
              "    </tr>\n",
              "    <tr>\n",
              "      <th>T4</th>\n",
              "      <td>LIVB 8735 8746</td>\n",
              "      <td>dwarf birch</td>\n",
              "      <td>[(TAXREF:762263, Dwarf birch, 1.0)]</td>\n",
              "    </tr>\n",
              "    <tr>\n",
              "      <th>...</th>\n",
              "      <td>...</td>\n",
              "      <td>...</td>\n",
              "      <td>...</td>\n",
              "    </tr>\n",
              "    <tr>\n",
              "      <th>T230</th>\n",
              "      <td>LIVB 137155 137164</td>\n",
              "      <td>sea hares</td>\n",
              "      <td>[(TAXREF:188096, sea hares, 1.0)]</td>\n",
              "    </tr>\n",
              "    <tr>\n",
              "      <th>T231</th>\n",
              "      <td>LIVB 143143 143154</td>\n",
              "      <td>butterflies</td>\n",
              "      <td>[(TAXREF:185214, butterflies and moths, 0.7505...</td>\n",
              "    </tr>\n",
              "    <tr>\n",
              "      <th>T232</th>\n",
              "      <td>LIVB 143159 143164</td>\n",
              "      <td>moths</td>\n",
              "      <td>[(TAXREF:185244, case moths, 0.8185053467750549)]</td>\n",
              "    </tr>\n",
              "    <tr>\n",
              "      <th>T233</th>\n",
              "      <td>LIVB 144272 144295</td>\n",
              "      <td>Ambrosia artemisiifolia</td>\n",
              "      <td>[(TAXREF:82080, Ambrosia artemisiifolia, 1.0)]</td>\n",
              "    </tr>\n",
              "    <tr>\n",
              "      <th>T234</th>\n",
              "      <td>LIVB 145123 145131</td>\n",
              "      <td>Ambrosia</td>\n",
              "      <td>[(TAXREF:189037, Ambrosia, 1.0)]</td>\n",
              "    </tr>\n",
              "  </tbody>\n",
              "</table>\n",
              "<p>235 rows × 3 columns</p>\n",
              "</div>\n",
              "      <button class=\"colab-df-convert\" onclick=\"convertToInteractive('df-57da4242-21da-4a18-9327-7b4c6bd4c01b')\"\n",
              "              title=\"Convert this dataframe to an interactive table.\"\n",
              "              style=\"display:none;\">\n",
              "        \n",
              "  <svg xmlns=\"http://www.w3.org/2000/svg\" height=\"24px\"viewBox=\"0 0 24 24\"\n",
              "       width=\"24px\">\n",
              "    <path d=\"M0 0h24v24H0V0z\" fill=\"none\"/>\n",
              "    <path d=\"M18.56 5.44l.94 2.06.94-2.06 2.06-.94-2.06-.94-.94-2.06-.94 2.06-2.06.94zm-11 1L8.5 8.5l.94-2.06 2.06-.94-2.06-.94L8.5 2.5l-.94 2.06-2.06.94zm10 10l.94 2.06.94-2.06 2.06-.94-2.06-.94-.94-2.06-.94 2.06-2.06.94z\"/><path d=\"M17.41 7.96l-1.37-1.37c-.4-.4-.92-.59-1.43-.59-.52 0-1.04.2-1.43.59L10.3 9.45l-7.72 7.72c-.78.78-.78 2.05 0 2.83L4 21.41c.39.39.9.59 1.41.59.51 0 1.02-.2 1.41-.59l7.78-7.78 2.81-2.81c.8-.78.8-2.07 0-2.86zM5.41 20L4 18.59l7.72-7.72 1.47 1.35L5.41 20z\"/>\n",
              "  </svg>\n",
              "      </button>\n",
              "      \n",
              "  <style>\n",
              "    .colab-df-container {\n",
              "      display:flex;\n",
              "      flex-wrap:wrap;\n",
              "      gap: 12px;\n",
              "    }\n",
              "\n",
              "    .colab-df-convert {\n",
              "      background-color: #E8F0FE;\n",
              "      border: none;\n",
              "      border-radius: 50%;\n",
              "      cursor: pointer;\n",
              "      display: none;\n",
              "      fill: #1967D2;\n",
              "      height: 32px;\n",
              "      padding: 0 0 0 0;\n",
              "      width: 32px;\n",
              "    }\n",
              "\n",
              "    .colab-df-convert:hover {\n",
              "      background-color: #E2EBFA;\n",
              "      box-shadow: 0px 1px 2px rgba(60, 64, 67, 0.3), 0px 1px 3px 1px rgba(60, 64, 67, 0.15);\n",
              "      fill: #174EA6;\n",
              "    }\n",
              "\n",
              "    [theme=dark] .colab-df-convert {\n",
              "      background-color: #3B4455;\n",
              "      fill: #D2E3FC;\n",
              "    }\n",
              "\n",
              "    [theme=dark] .colab-df-convert:hover {\n",
              "      background-color: #434B5C;\n",
              "      box-shadow: 0px 1px 3px 1px rgba(0, 0, 0, 0.15);\n",
              "      filter: drop-shadow(0px 1px 2px rgba(0, 0, 0, 0.3));\n",
              "      fill: #FFFFFF;\n",
              "    }\n",
              "  </style>\n",
              "\n",
              "      <script>\n",
              "        const buttonEl =\n",
              "          document.querySelector('#df-57da4242-21da-4a18-9327-7b4c6bd4c01b button.colab-df-convert');\n",
              "        buttonEl.style.display =\n",
              "          google.colab.kernel.accessAllowed ? 'block' : 'none';\n",
              "\n",
              "        async function convertToInteractive(key) {\n",
              "          const element = document.querySelector('#df-57da4242-21da-4a18-9327-7b4c6bd4c01b');\n",
              "          const dataTable =\n",
              "            await google.colab.kernel.invokeFunction('convertToInteractive',\n",
              "                                                     [key], {});\n",
              "          if (!dataTable) return;\n",
              "\n",
              "          const docLinkHtml = 'Like what you see? Visit the ' +\n",
              "            '<a target=\"_blank\" href=https://colab.research.google.com/notebooks/data_table.ipynb>data table notebook</a>'\n",
              "            + ' to learn more about interactive tables.';\n",
              "          element.innerHTML = '';\n",
              "          dataTable['output_type'] = 'display_data';\n",
              "          await google.colab.output.renderOutput(dataTable, element);\n",
              "          const docLink = document.createElement('div');\n",
              "          docLink.innerHTML = docLinkHtml;\n",
              "          element.appendChild(docLink);\n",
              "        }\n",
              "      </script>\n",
              "    </div>\n",
              "  </div>\n",
              "  "
            ]
          },
          "metadata": {},
          "execution_count": 15
        }
      ]
    },
    {
      "cell_type": "code",
      "source": [
        "!pip install flair\n",
        "!pip install -U spacy\n",
        "!pip install scispacy\n",
        "!pip install https://s3-us-west-2.amazonaws.com/ai2-s2-scispacy/releases/v0.5.0/en_core_sci_sm-0.5.0.tar.gz\n",
        "\n",
        "\n",
        "import flair\n",
        "from flair.data import Sentence\n",
        "from flair.models import SequenceTagger\n",
        "import spacy\n",
        "import scispacy\n",
        "from flair.models import MultiTagger\n",
        "from flair.tokenization import SciSpacyTokenizer"
      ],
      "metadata": {
        "id": "carbtpscPGvi"
      },
      "execution_count": null,
      "outputs": []
    },
    {
      "cell_type": "code",
      "source": [
        "tagger = SequenceTagger.load(\"flair/ner-english-ontonotes-large\")\n"
      ],
      "metadata": {
        "colab": {
          "base_uri": "https://localhost:8080/"
        },
        "id": "OqfJm8JLPifj",
        "outputId": "d1fd3cb7-f7d7-4904-d796-3d759eac7cfb"
      },
      "execution_count": 17,
      "outputs": [
        {
          "output_type": "stream",
          "name": "stdout",
          "text": [
            "2022-08-12 11:55:45,909 loading file /root/.flair/models/ner-english-ontonotes-large/2da6c2cdd76e59113033adf670340bfd820f0301ae2e39204d67ba2dc276cc28.ec1bdb304b6c66111532c3b1fc6e522460ae73f1901848a4d0362cdf9760edb1\n",
            "2022-08-12 11:56:24,180 SequenceTagger predicts: Dictionary with 76 tags: <unk>, O, B-CARDINAL, E-CARDINAL, S-PERSON, S-CARDINAL, S-PRODUCT, B-PRODUCT, I-PRODUCT, E-PRODUCT, B-WORK_OF_ART, I-WORK_OF_ART, E-WORK_OF_ART, B-PERSON, E-PERSON, S-GPE, B-DATE, I-DATE, E-DATE, S-ORDINAL, S-LANGUAGE, I-PERSON, S-EVENT, S-DATE, B-QUANTITY, E-QUANTITY, S-TIME, B-TIME, I-TIME, E-TIME, B-GPE, E-GPE, S-ORG, I-GPE, S-NORP, B-FAC, I-FAC, E-FAC, B-NORP, E-NORP, S-PERCENT, B-ORG, E-ORG, B-LANGUAGE, E-LANGUAGE, I-CARDINAL, I-ORG, S-WORK_OF_ART, I-QUANTITY, B-MONEY\n"
          ]
        }
      ]
    },
    {
      "cell_type": "code",
      "source": [
        "import pandas as pd\n",
        "dataset=pd.read_csv(\"/content/abstract.txt\",delimiter=\"\\t\")\n",
        "\n",
        "dataset"
      ],
      "metadata": {
        "colab": {
          "base_uri": "https://localhost:8080/",
          "height": 424
        },
        "id": "_7vr2iuOPibI",
        "outputId": "b47f3e6b-ad8f-4260-b462-fdc22c3303f6"
      },
      "execution_count": 18,
      "outputs": [
        {
          "output_type": "execute_result",
          "data": {
            "text/plain": [
              "                                           id abstract\n",
              "0     \"Compared to most other forest ecosystems, ci...\n",
              "1     \"Rapid warming in northern ecosystems over th...\n",
              "2     \"Satellite remote sensing data have indicated...\n",
              "3     \"Plant-herbivore interactions have evolved in...\n",
              "4     \"Climate change increases the insect abundanc...\n",
              "..                                                 ...\n",
              "96                                         CONCLUSIONS\n",
              "97   Range-expansion by plants may result in above-...\n",
              "98    \"Abstract This chapter discusses the abiotic ...\n",
              "99    \"Predicting how ecological interactions will ...\n",
              "100   \"Abstract Climate change may affect plant–her...\n",
              "\n",
              "[101 rows x 1 columns]"
            ],
            "text/html": [
              "\n",
              "  <div id=\"df-f358c7d5-c88d-427a-8488-2a685a10d7de\">\n",
              "    <div class=\"colab-df-container\">\n",
              "      <div>\n",
              "<style scoped>\n",
              "    .dataframe tbody tr th:only-of-type {\n",
              "        vertical-align: middle;\n",
              "    }\n",
              "\n",
              "    .dataframe tbody tr th {\n",
              "        vertical-align: top;\n",
              "    }\n",
              "\n",
              "    .dataframe thead th {\n",
              "        text-align: right;\n",
              "    }\n",
              "</style>\n",
              "<table border=\"1\" class=\"dataframe\">\n",
              "  <thead>\n",
              "    <tr style=\"text-align: right;\">\n",
              "      <th></th>\n",
              "      <th>id abstract</th>\n",
              "    </tr>\n",
              "  </thead>\n",
              "  <tbody>\n",
              "    <tr>\n",
              "      <th>0</th>\n",
              "      <td>\"Compared to most other forest ecosystems, ci...</td>\n",
              "    </tr>\n",
              "    <tr>\n",
              "      <th>1</th>\n",
              "      <td>\"Rapid warming in northern ecosystems over th...</td>\n",
              "    </tr>\n",
              "    <tr>\n",
              "      <th>2</th>\n",
              "      <td>\"Satellite remote sensing data have indicated...</td>\n",
              "    </tr>\n",
              "    <tr>\n",
              "      <th>3</th>\n",
              "      <td>\"Plant-herbivore interactions have evolved in...</td>\n",
              "    </tr>\n",
              "    <tr>\n",
              "      <th>4</th>\n",
              "      <td>\"Climate change increases the insect abundanc...</td>\n",
              "    </tr>\n",
              "    <tr>\n",
              "      <th>...</th>\n",
              "      <td>...</td>\n",
              "    </tr>\n",
              "    <tr>\n",
              "      <th>96</th>\n",
              "      <td>CONCLUSIONS</td>\n",
              "    </tr>\n",
              "    <tr>\n",
              "      <th>97</th>\n",
              "      <td>Range-expansion by plants may result in above-...</td>\n",
              "    </tr>\n",
              "    <tr>\n",
              "      <th>98</th>\n",
              "      <td>\"Abstract This chapter discusses the abiotic ...</td>\n",
              "    </tr>\n",
              "    <tr>\n",
              "      <th>99</th>\n",
              "      <td>\"Predicting how ecological interactions will ...</td>\n",
              "    </tr>\n",
              "    <tr>\n",
              "      <th>100</th>\n",
              "      <td>\"Abstract Climate change may affect plant–her...</td>\n",
              "    </tr>\n",
              "  </tbody>\n",
              "</table>\n",
              "<p>101 rows × 1 columns</p>\n",
              "</div>\n",
              "      <button class=\"colab-df-convert\" onclick=\"convertToInteractive('df-f358c7d5-c88d-427a-8488-2a685a10d7de')\"\n",
              "              title=\"Convert this dataframe to an interactive table.\"\n",
              "              style=\"display:none;\">\n",
              "        \n",
              "  <svg xmlns=\"http://www.w3.org/2000/svg\" height=\"24px\"viewBox=\"0 0 24 24\"\n",
              "       width=\"24px\">\n",
              "    <path d=\"M0 0h24v24H0V0z\" fill=\"none\"/>\n",
              "    <path d=\"M18.56 5.44l.94 2.06.94-2.06 2.06-.94-2.06-.94-.94-2.06-.94 2.06-2.06.94zm-11 1L8.5 8.5l.94-2.06 2.06-.94-2.06-.94L8.5 2.5l-.94 2.06-2.06.94zm10 10l.94 2.06.94-2.06 2.06-.94-2.06-.94-.94-2.06-.94 2.06-2.06.94z\"/><path d=\"M17.41 7.96l-1.37-1.37c-.4-.4-.92-.59-1.43-.59-.52 0-1.04.2-1.43.59L10.3 9.45l-7.72 7.72c-.78.78-.78 2.05 0 2.83L4 21.41c.39.39.9.59 1.41.59.51 0 1.02-.2 1.41-.59l7.78-7.78 2.81-2.81c.8-.78.8-2.07 0-2.86zM5.41 20L4 18.59l7.72-7.72 1.47 1.35L5.41 20z\"/>\n",
              "  </svg>\n",
              "      </button>\n",
              "      \n",
              "  <style>\n",
              "    .colab-df-container {\n",
              "      display:flex;\n",
              "      flex-wrap:wrap;\n",
              "      gap: 12px;\n",
              "    }\n",
              "\n",
              "    .colab-df-convert {\n",
              "      background-color: #E8F0FE;\n",
              "      border: none;\n",
              "      border-radius: 50%;\n",
              "      cursor: pointer;\n",
              "      display: none;\n",
              "      fill: #1967D2;\n",
              "      height: 32px;\n",
              "      padding: 0 0 0 0;\n",
              "      width: 32px;\n",
              "    }\n",
              "\n",
              "    .colab-df-convert:hover {\n",
              "      background-color: #E2EBFA;\n",
              "      box-shadow: 0px 1px 2px rgba(60, 64, 67, 0.3), 0px 1px 3px 1px rgba(60, 64, 67, 0.15);\n",
              "      fill: #174EA6;\n",
              "    }\n",
              "\n",
              "    [theme=dark] .colab-df-convert {\n",
              "      background-color: #3B4455;\n",
              "      fill: #D2E3FC;\n",
              "    }\n",
              "\n",
              "    [theme=dark] .colab-df-convert:hover {\n",
              "      background-color: #434B5C;\n",
              "      box-shadow: 0px 1px 3px 1px rgba(0, 0, 0, 0.15);\n",
              "      filter: drop-shadow(0px 1px 2px rgba(0, 0, 0, 0.3));\n",
              "      fill: #FFFFFF;\n",
              "    }\n",
              "  </style>\n",
              "\n",
              "      <script>\n",
              "        const buttonEl =\n",
              "          document.querySelector('#df-f358c7d5-c88d-427a-8488-2a685a10d7de button.colab-df-convert');\n",
              "        buttonEl.style.display =\n",
              "          google.colab.kernel.accessAllowed ? 'block' : 'none';\n",
              "\n",
              "        async function convertToInteractive(key) {\n",
              "          const element = document.querySelector('#df-f358c7d5-c88d-427a-8488-2a685a10d7de');\n",
              "          const dataTable =\n",
              "            await google.colab.kernel.invokeFunction('convertToInteractive',\n",
              "                                                     [key], {});\n",
              "          if (!dataTable) return;\n",
              "\n",
              "          const docLinkHtml = 'Like what you see? Visit the ' +\n",
              "            '<a target=\"_blank\" href=https://colab.research.google.com/notebooks/data_table.ipynb>data table notebook</a>'\n",
              "            + ' to learn more about interactive tables.';\n",
              "          element.innerHTML = '';\n",
              "          dataTable['output_type'] = 'display_data';\n",
              "          await google.colab.output.renderOutput(dataTable, element);\n",
              "          const docLink = document.createElement('div');\n",
              "          docLink.innerHTML = docLinkHtml;\n",
              "          element.appendChild(docLink);\n",
              "        }\n",
              "      </script>\n",
              "    </div>\n",
              "  </div>\n",
              "  "
            ]
          },
          "metadata": {},
          "execution_count": 18
        }
      ]
    },
    {
      "cell_type": "code",
      "source": [
        "dataset[\"id abstract\"]\n",
        "b = dataset['id abstract']\n",
        "b"
      ],
      "metadata": {
        "colab": {
          "base_uri": "https://localhost:8080/"
        },
        "id": "l1lOXDVaPiX2",
        "outputId": "dfd99b5f-5967-491b-d7c9-70efb103b0ba"
      },
      "execution_count": 19,
      "outputs": [
        {
          "output_type": "execute_result",
          "data": {
            "text/plain": [
              "0       \"Compared to most other forest ecosystems, ci...\n",
              "1       \"Rapid warming in northern ecosystems over th...\n",
              "2       \"Satellite remote sensing data have indicated...\n",
              "3       \"Plant-herbivore interactions have evolved in...\n",
              "4       \"Climate change increases the insect abundanc...\n",
              "                             ...                        \n",
              "96                                           CONCLUSIONS\n",
              "97     Range-expansion by plants may result in above-...\n",
              "98      \"Abstract This chapter discusses the abiotic ...\n",
              "99      \"Predicting how ecological interactions will ...\n",
              "100     \"Abstract Climate change may affect plant–her...\n",
              "Name: id abstract, Length: 101, dtype: object"
            ]
          },
          "metadata": {},
          "execution_count": 19
        }
      ]
    },
    {
      "cell_type": "code",
      "source": [
        "s = b[4]"
      ],
      "metadata": {
        "id": "2lumv4fgnD3D"
      },
      "execution_count": 49,
      "outputs": []
    },
    {
      "cell_type": "code",
      "source": [
        "text = Sentence(s)\n",
        "\n",
        "ner = tagger.predict(text)"
      ],
      "metadata": {
        "id": "CxUDBR0zPiQp"
      },
      "execution_count": 50,
      "outputs": []
    },
    {
      "cell_type": "code",
      "source": [
        "tagger1 = MultiTagger.load(\"hunflair\")"
      ],
      "metadata": {
        "colab": {
          "base_uri": "https://localhost:8080/"
        },
        "id": "DiEB369yPiIK",
        "outputId": "b15aff96-e524-4928-b7c8-795660a6d482"
      },
      "execution_count": 39,
      "outputs": [
        {
          "output_type": "stream",
          "name": "stdout",
          "text": [
            "2022-08-12 14:19:51,133 loading file /root/.flair/models/hunflair-celline-v1.0.pt\n",
            "2022-08-12 14:20:10,385 SequenceTagger predicts: Dictionary with 8 tags: <unk>, O, S-CellLine, B-CellLine, I-CellLine, E-CellLine, <START>, <STOP>\n",
            "2022-08-12 14:20:10,836 loading file /root/.flair/models/hunflair-chemical-full-v1.0.pt\n",
            "2022-08-12 14:20:29,711 SequenceTagger predicts: Dictionary with 8 tags: <unk>, O, S-Chemical, B-Chemical, I-Chemical, E-Chemical, <START>, <STOP>\n",
            "2022-08-12 14:20:30,135 loading file /root/.flair/models/hunflair-disease-full-v1.0.pt\n",
            "2022-08-12 14:20:44,511 SequenceTagger predicts: Dictionary with 8 tags: <unk>, O, B-Disease, E-Disease, I-Disease, S-Disease, <START>, <STOP>\n",
            "2022-08-12 14:20:44,971 loading file /root/.flair/models/hunflair-gene-full-v1.0.pt\n",
            "2022-08-12 14:21:06,095 SequenceTagger predicts: Dictionary with 8 tags: <unk>, O, S-Gene, B-Gene, I-Gene, E-Gene, <START>, <STOP>\n",
            "2022-08-12 14:21:06,619 loading file /root/.flair/models/hunflair-species-full-v1.1.pt\n",
            "2022-08-12 14:21:21,310 SequenceTagger predicts: Dictionary with 8 tags: <unk>, O, S-Species, B-Species, I-Species, E-Species, <START>, <STOP>\n"
          ]
        }
      ]
    },
    {
      "cell_type": "code",
      "source": [
        "tagger1.predict(text)\n",
        "\n",
        "for annotation_layer in text.annotation_layers.keys():\n",
        "    for entity in text.get_spans(annotation_layer):\n",
        "        print(entity)"
      ],
      "metadata": {
        "colab": {
          "base_uri": "https://localhost:8080/"
        },
        "id": "Q_Uke9eGqv6f",
        "outputId": "a86e4cf5-e81f-4923-f1bd-2b4cbf1d08c7"
      },
      "execution_count": 51,
      "outputs": [
        {
          "output_type": "stream",
          "name": "stdout",
          "text": [
            "Span[160:161]: \"sesquiterpene\" → Chemical (0.8883)\n",
            "Span[162:163]: \"homoterpene\" → Chemical (0.9141)\n",
            "Span[107:109]: \"dwarf birch\" → Species (0.7591)\n",
            "Span[110:112]: \"Betula nana\" → Species (0.9611)\n",
            "Span[124:126]: \"autumnal moth\" → Species (0.881)\n",
            "Span[127:129]: \"Epirrita autumnata\" → Species (0.9454)\n",
            "Span[132:134]: \"winter moth\" → Species (0.8626)\n",
            "Span[135:137]: \"Operophtera brumata\" → Species (0.8825)\n",
            "Span[144:146]: \"B. nana\" → Species (0.7793)\n"
          ]
        }
      ]
    },
    {
      "cell_type": "code",
      "source": [
        "print('The following NER tags are found:')\n",
        "# iterate over entities and print\n",
        "for entity in text.get_spans('ner'):\n",
        "    print(entity)"
      ],
      "metadata": {
        "colab": {
          "base_uri": "https://localhost:8080/"
        },
        "id": "ni7w6Ux4PiMK",
        "outputId": "5b7e98db-457a-46f7-af27-55a62723bd32"
      },
      "execution_count": 52,
      "outputs": [
        {
          "output_type": "stream",
          "name": "stdout",
          "text": [
            "The following NER tags are found:\n"
          ]
        }
      ]
    },
    {
      "cell_type": "markdown",
      "source": [
        ""
      ],
      "metadata": {
        "id": "8FcmBuN4PGVQ"
      }
    }
  ]
}