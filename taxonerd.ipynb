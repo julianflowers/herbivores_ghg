{
  "nbformat": 4,
  "nbformat_minor": 0,
  "metadata": {
    "colab": {
      "name": "taxonerd.ipynb",
      "provenance": [],
      "collapsed_sections": [],
      "authorship_tag": "ABX9TyNYGvlo64C+RsDMK99MGEdE",
      "include_colab_link": true
    },
    "kernelspec": {
      "name": "python3",
      "display_name": "Python 3"
    },
    "language_info": {
      "name": "python"
    }
  },
  "cells": [
    {
      "cell_type": "markdown",
      "metadata": {
        "id": "view-in-github",
        "colab_type": "text"
      },
      "source": [
        "<a href=\"https://colab.research.google.com/github/julianflowers/herbivores_ghg/blob/master/taxonerd.ipynb\" target=\"_parent\"><img src=\"https://colab.research.google.com/assets/colab-badge.svg\" alt=\"Open In Colab\"/></a>"
      ]
    },
    {
      "cell_type": "code",
      "execution_count": null,
      "metadata": {
        "id": "UoVREyYsAQcY"
      },
      "outputs": [],
      "source": [
        "!pip install taxonerd"
      ]
    },
    {
      "cell_type": "code",
      "source": [
        "!pip install https://github.com/nleguillarme/taxonerd/releases/download/v1.3.0/en_ner_eco_md-1.0.0.tar.gz\n",
        "!pip install https://github.com/nleguillarme/taxonerd/releases/download/v1.3.0/en_ner_eco_biobert-1.0.0.tar.gz"
      ],
      "metadata": {
        "id": "zGXDT2NGCyWz"
      },
      "execution_count": null,
      "outputs": []
    },
    {
      "cell_type": "code",
      "source": [
        "from taxonerd import TaxoNERD"
      ],
      "metadata": {
        "id": "hikUa6bSCCrF"
      },
      "execution_count": 3,
      "outputs": []
    },
    {
      "cell_type": "code",
      "source": [
        "ner = TaxoNERD(model=\"en_ner_eco_biobert\", prefer_gpu=True, with_linking=\"taxref\", with_abbrev=True) # Add with_linking=\"gbif_backbone\" or with_linking=\"taxref\" to activate entity linking\n"
      ],
      "metadata": {
        "id": "eknnQ9G9Ch5C"
      },
      "execution_count": 4,
      "outputs": []
    },
    {
      "cell_type": "code",
      "source": [
        "out = ner.find_in_text(\"Only a few herbivory change the profile of volatile organic chemicals (VOCs) studies have demonstrated that drought stress has a negative effect emitted by the host plant; (3) parasitoids avoid aphid hosts feeding on aphid parasitism success [39,42]. on plants under drought stress and root herbivory. The system Root herbivores can affect plant growth [43–45], reproduction comprised Brassica oleracea as the host plant; the belowground [46,47], density [46,48] and nutrient status [49,50] and thus may herbivore was the cabbage root fly Delia radicum; the aboveground strongly affect the quality and quantity of resources available to herbivores were the generalist aphid Myzus persicae, and the foliar herbivores [36]. This can have differential effects on foliar specialist aphid Brevicoryne brassicae; and at the third trophic level insects and their associated natural enemies. Root herbivory had a the parasitoids Aphidius colemani and Diaeretialla rapae were used. negative impact on the performance of aphids and other insects due to the increased levels of defence compounds in several studies Results [6,19,36,51–57] and/or a decrease in nitrogen concentration [19] and leaf water content [58]. Root herbivores can be responsible for Parasitism Performance and Percentage Parasitism the change in growth and development of foliar herbivores a) Percentage parasitism. Percentage parasitism was signif- through plant mediated changes and thus may have indirect icantly affected by the interaction between drought stress, De. impact on parasitoid fitness [19,59,60] and the impact can also be radicum and parasitoid species (F1, 72 = 7.50; P,0.01). seen on the fourth trophic level [19]. The negative impact of high Drought stress (F1, 72 = 121.39; P,0.001) and the presence drought stress on aphid performance and abundance can be of De. radicum (F1, 72 = 10.27; P,0.01) had a negative impact exacerbated under root herbivory [36,39,61] and thus we predict on percentage parasitism by both parasitoid species com- that natural enemies may avoid these plants due to the low quality pared with well watered plants, but their effects were greater of their aphid hosts. for the specialist parasitoid species (D. rapae) than for the Multitrophic interactions frequently involve complex plant generalist parasitoid species (A. colemani, Figure 1a). Drought defences [10,14,62] involving the release of volatile organic stress partially reversed the negative effect of De. radicum on compounds (VOCs) following herbivore attack that enhance the parasitism by A. colemani (Figure 1a; Tukey’s HSD, P,0.05). effectiveness of natural enemies [63–67]. In response to insect Parasitism by D. rapae followed the same pattern, but the herbivory, plants release VOCs which can be used by natural difference between drought stressed plants with or without enemies of the insect herbivores to find their hosts [59]. The plant De. radicum was not significant (Figure 1a). VOC emissions induced by foliar herbivores can be influenced by b) Sex ratio. Sex ratio was significantly affected by the root herbivores [59] and drought stress [68]. These studies showed interaction between De. radicum treatment and parasitoid compound specific responses for natural enemies under biotic and species (F1, 75 = 7.35; P,0.01). The main effects of drought abiotic stresses. Therefore, plant VOC emissions are influenced by stress (F 1, 75 = 19.65; P,0.001) and De. radicum (F1, biotic and abiotic stresses [68–73]. These plants may become less 75 = 215.93; P,0.001) were also significant for the sex ratio attractive to foraging parasitoids [74,75] and thus may interfere of both parasitoid species. The proportion of males of both directly with herbivore-parasitoid interactions [59]. species was significantly greater on drought stressed plants The behaviour and performance of natural enemies can be with De. radicum compared with well watered treatments influenced by their host, host diet, environmental factors (Figure 1b). Delia radicum increased the proportion of male D. (including water stress) and the presence of other herbivores such rapae on both drought stressed plants and well watered plants as root feeders [26,42,59,79–81]. Parasitoid development has been compared with plants that were not infested with root linked with the quality of internal environment of their hosts [59]. herbivore (Tukey’s HSD, P,0.05). Delia radicum feeding did For example, phytotoxin concentration can increase under not affect the sex ratio of A. colemani under either the drought drought stress [25] and root herbivory [59] and these toxins are or well watered treatments (Tukey’s HSD, P,0.05). repeatedly consumed by insect herbivores [59]. These phytotoxins often accumulate in the fat body and hemolymph of insect c\")"
      ],
      "metadata": {
        "id": "ydSrD3QcCpsu"
      },
      "execution_count": 5,
      "outputs": []
    },
    {
      "cell_type": "code",
      "source": [
        "out"
      ],
      "metadata": {
        "id": "7CHCmYWaD9Yb"
      },
      "execution_count": null,
      "outputs": []
    },
    {
      "cell_type": "code",
      "source": [
        "ner.find_in_file(\"/content/9995c9d0bab3b678e4835d05490b4c993120.pdf\")"
      ],
      "metadata": {
        "id": "j-oqVyRRIBUL"
      },
      "execution_count": null,
      "outputs": []
    },
    {
      "cell_type": "code",
      "source": [
        "ner.find_in_file(\"/content/agronomy-11-01421-v2.pdf\")"
      ],
      "metadata": {
        "id": "8jRB3S3TIpOk"
      },
      "execution_count": null,
      "outputs": []
    },
    {
      "cell_type": "code",
      "source": [
        "ner.find_in_file(\"/content/s42452-020-03538-9.pdf\")"
      ],
      "metadata": {
        "id": "lsNzQDmCLDk3"
      },
      "execution_count": null,
      "outputs": []
    },
    {
      "cell_type": "code",
      "source": [
        "ner.find_in_file(\"/content/sustainability-12-02425-v2.pdf\")"
      ],
      "metadata": {
        "id": "ZM1Xnw7uLDqD"
      },
      "execution_count": null,
      "outputs": []
    }
  ]
}