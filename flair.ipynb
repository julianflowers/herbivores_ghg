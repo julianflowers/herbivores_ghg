{
  "nbformat": 4,
  "nbformat_minor": 0,
  "metadata": {
    "colab": {
      "name": "flair.ipynb",
      "provenance": [],
      "authorship_tag": "ABX9TyOD89YB0X3Xe6UpRYL5LMCu",
      "include_colab_link": true
    },
    "kernelspec": {
      "name": "python3",
      "display_name": "Python 3"
    },
    "language_info": {
      "name": "python"
    }
  },
  "cells": [
    {
      "cell_type": "markdown",
      "metadata": {
        "id": "view-in-github",
        "colab_type": "text"
      },
      "source": [
        "<a href=\"https://colab.research.google.com/github/julianflowers/herbivores_ghg/blob/master/flair.ipynb\" target=\"_parent\"><img src=\"https://colab.research.google.com/assets/colab-badge.svg\" alt=\"Open In Colab\"/></a>"
      ]
    },
    {
      "cell_type": "code",
      "execution_count": 1,
      "metadata": {
        "id": "MqpOSX6yHvTO"
      },
      "outputs": [],
      "source": [
        "!pip install flair\n"
      ]
    },
    {
      "cell_type": "code",
      "source": [
        "import flair"
      ],
      "metadata": {
        "id": "ni2o7fubH1j-"
      },
      "execution_count": 2,
      "outputs": []
    },
    {
      "cell_type": "code",
      "source": [
        "from flair.data import Sentence\n",
        "from flair.models import SequenceTagger"
      ],
      "metadata": {
        "id": "Vb7Ss04mIBwI"
      },
      "execution_count": 3,
      "outputs": []
    },
    {
      "cell_type": "code",
      "source": [
        "tagger = SequenceTagger.load(\"flair/ner-english-ontonotes-large\")\n"
      ],
      "metadata": {
        "colab": {
          "base_uri": "https://localhost:8080/"
        },
        "id": "RMJzoi6EIqHy",
        "outputId": "d796bdb0-1835-4ebf-9988-846fd3b7283f"
      },
      "execution_count": 4,
      "outputs": [
        {
          "output_type": "stream",
          "name": "stdout",
          "text": [
            "2022-07-15 09:37:02,715 loading file /root/.flair/models/ner-english-ontonotes-large/2da6c2cdd76e59113033adf670340bfd820f0301ae2e39204d67ba2dc276cc28.ec1bdb304b6c66111532c3b1fc6e522460ae73f1901848a4d0362cdf9760edb1\n"
          ]
        },
        {
          "output_type": "stream",
          "name": "stderr",
          "text": [
            "/usr/local/lib/python3.7/dist-packages/huggingface_hub/file_download.py:563: FutureWarning: `cached_download` is the legacy way to download files from the HF hub, please consider upgrading to `hf_hub_download`\n",
            "  FutureWarning,\n"
          ]
        },
        {
          "output_type": "stream",
          "name": "stdout",
          "text": [
            "2022-07-15 09:37:25,448 SequenceTagger predicts: Dictionary with 76 tags: <unk>, O, B-CARDINAL, E-CARDINAL, S-PERSON, S-CARDINAL, S-PRODUCT, B-PRODUCT, I-PRODUCT, E-PRODUCT, B-WORK_OF_ART, I-WORK_OF_ART, E-WORK_OF_ART, B-PERSON, E-PERSON, S-GPE, B-DATE, I-DATE, E-DATE, S-ORDINAL, S-LANGUAGE, I-PERSON, S-EVENT, S-DATE, B-QUANTITY, E-QUANTITY, S-TIME, B-TIME, I-TIME, E-TIME, B-GPE, E-GPE, S-ORG, I-GPE, S-NORP, B-FAC, I-FAC, E-FAC, B-NORP, E-NORP, S-PERCENT, B-ORG, E-ORG, B-LANGUAGE, E-LANGUAGE, I-CARDINAL, I-ORG, S-WORK_OF_ART, I-QUANTITY, B-MONEY\n"
          ]
        }
      ]
    },
    {
      "cell_type": "code",
      "source": [
        "sentence = Sentence(\"On September 1st George won 1 dollar while watching Game of Thrones.\")\n"
      ],
      "metadata": {
        "id": "rXLCwuHCJGpR"
      },
      "execution_count": 5,
      "outputs": []
    },
    {
      "cell_type": "code",
      "source": [
        "tagger.predict(sentence)\n"
      ],
      "metadata": {
        "id": "uUcHm8X4JLpk"
      },
      "execution_count": 6,
      "outputs": []
    },
    {
      "cell_type": "code",
      "source": [
        "print(sentence)"
      ],
      "metadata": {
        "colab": {
          "base_uri": "https://localhost:8080/"
        },
        "id": "YvP2ZGRTJL3Z",
        "outputId": "0ee0af53-067a-4cd6-87d4-ee6267362601"
      },
      "execution_count": 7,
      "outputs": [
        {
          "output_type": "stream",
          "name": "stdout",
          "text": [
            "Sentence: \"On September 1st George won 1 dollar while watching Game of Thrones .\" → [\"September 1st\"/DATE, \"George\"/PERSON, \"1 dollar\"/MONEY, \"Game of Thrones\"/WORK_OF_ART]\n"
          ]
        }
      ]
    },
    {
      "cell_type": "code",
      "source": [
        "# print predicted NER spans\n",
        "print('The following NER tags are found:')\n",
        "# iterate over entities and print\n",
        "for entity in sentence.get_spans('ner'):\n",
        "    print(entity)"
      ],
      "metadata": {
        "colab": {
          "base_uri": "https://localhost:8080/"
        },
        "id": "H0thK-iKJL6L",
        "outputId": "095c83f8-4b7a-4c66-fa2b-992b5d66e8d5"
      },
      "execution_count": 8,
      "outputs": [
        {
          "output_type": "stream",
          "name": "stdout",
          "text": [
            "The following NER tags are found:\n",
            "Span[1:3]: \"September 1st\" → DATE (1.0)\n",
            "Span[3:4]: \"George\" → PERSON (1.0)\n",
            "Span[5:7]: \"1 dollar\" → MONEY (1.0)\n",
            "Span[9:12]: \"Game of Thrones\" → WORK_OF_ART (1.0)\n"
          ]
        }
      ]
    },
    {
      "cell_type": "code",
      "source": [
        "text1 = Sentence(\"George Washington went to Washington on Monday, 1st December 1890\")"
      ],
      "metadata": {
        "id": "P6K9xUJROT5g"
      },
      "execution_count": 10,
      "outputs": []
    },
    {
      "cell_type": "code",
      "source": [
        "tagger.predict(text1)"
      ],
      "metadata": {
        "id": "fs6Do65fOcWa"
      },
      "execution_count": 11,
      "outputs": []
    },
    {
      "cell_type": "code",
      "source": [
        "print('The following NER tags are found:')\n",
        "# iterate over entities and print\n",
        "for entity in text1.get_spans('ner'):\n",
        "    print(entity)"
      ],
      "metadata": {
        "colab": {
          "base_uri": "https://localhost:8080/"
        },
        "id": "b614J5HROmp-",
        "outputId": "ca697a7e-55fd-4d51-bc18-29d66d875b86"
      },
      "execution_count": 12,
      "outputs": [
        {
          "output_type": "stream",
          "name": "stdout",
          "text": [
            "The following NER tags are found:\n",
            "Span[0:2]: \"George Washington\" → PERSON (1.0)\n",
            "Span[4:5]: \"Washington\" → GPE (1.0)\n",
            "Span[6:11]: \"Monday , 1st December 1890\" → DATE (1.0)\n"
          ]
        }
      ]
    },
    {
      "cell_type": "code",
      "source": [
        "!pip install spacy\n",
        "!pip install scispacy\n",
        "!pip install https://s3-us-west-2.amazonaws.com/ai2-s2-scispacy/releases/v0.5.0/en_core_sci_sm-0.5.0.tar.gz\n"
      ],
      "metadata": {
        "id": "21Y5qEJwJL8y"
      },
      "execution_count": null,
      "outputs": []
    },
    {
      "cell_type": "code",
      "source": [
        "import spacy\n",
        "from flair.models import MultiTagger\n",
        "from flair.tokenization import SciSpacyTokenizer"
      ],
      "metadata": {
        "id": "0C2wy6UuJL_p"
      },
      "execution_count": 14,
      "outputs": []
    },
    {
      "cell_type": "code",
      "source": [
        "!python -m spacy download en_core_sci_sm"
      ],
      "metadata": {
        "colab": {
          "base_uri": "https://localhost:8080/"
        },
        "id": "HO4KpHb-LOjS",
        "outputId": "2c17dbed-c19d-432b-fe8b-fcee2b85b954"
      },
      "execution_count": 33,
      "outputs": [
        {
          "output_type": "stream",
          "name": "stdout",
          "text": [
            "\n",
            "\u001b[38;5;1m✘ No compatible model found for 'en_core_sci_sm' (spaCy v2.3.7).\u001b[0m\n",
            "\n"
          ]
        }
      ]
    },
    {
      "cell_type": "code",
      "source": [
        "sentence1 = Sentence(\"Behavioral abnormalities in the Fmr1 KO2 Mouse Model of Fragile X Syndrome\",\n",
        "                    use_tokenizer=SciSpacyTokenizer())"
      ],
      "metadata": {
        "id": "PApCYRPAJMCg"
      },
      "execution_count": 15,
      "outputs": []
    },
    {
      "cell_type": "code",
      "source": [
        "tagger = MultiTagger.load(\"hunflair\")"
      ],
      "metadata": {
        "colab": {
          "base_uri": "https://localhost:8080/"
        },
        "id": "I1ze2-dqJMFp",
        "outputId": "f72dc546-c22c-4fee-89c2-6646fbba09cf"
      },
      "execution_count": 16,
      "outputs": [
        {
          "output_type": "stream",
          "name": "stdout",
          "text": [
            "2022-07-15 09:42:13,205 https://nlp.informatik.hu-berlin.de/resources/models/hunflair_smallish_models/cellline/hunflair-celline-v1.0.pt not found in cache, downloading to /tmp/tmpsxcun_qp\n"
          ]
        },
        {
          "output_type": "stream",
          "name": "stderr",
          "text": [
            "100%|██████████| 1104886372/1104886372 [00:51<00:00, 21479204.87B/s]"
          ]
        },
        {
          "output_type": "stream",
          "name": "stdout",
          "text": [
            "2022-07-15 09:43:05,099 copying /tmp/tmpsxcun_qp to cache at /root/.flair/models/hunflair-celline-v1.0.pt\n"
          ]
        },
        {
          "output_type": "stream",
          "name": "stderr",
          "text": [
            "\n"
          ]
        },
        {
          "output_type": "stream",
          "name": "stdout",
          "text": [
            "2022-07-15 09:43:09,115 removing temp file /tmp/tmpsxcun_qp\n",
            "2022-07-15 09:43:09,277 loading file /root/.flair/models/hunflair-celline-v1.0.pt\n",
            "2022-07-15 09:43:17,106 SequenceTagger predicts: Dictionary with 8 tags: <unk>, O, S-CellLine, B-CellLine, I-CellLine, E-CellLine, <START>, <STOP>\n",
            "2022-07-15 09:43:18,058 https://nlp.informatik.hu-berlin.de/resources/models/hunflair_allcorpus_models/huner-chemical/hunflair-chemical-full-v1.0.pt not found in cache, downloading to /tmp/tmpyfxr2427\n"
          ]
        },
        {
          "output_type": "stream",
          "name": "stderr",
          "text": [
            "100%|██████████| 1104888221/1104888221 [00:49<00:00, 22396054.51B/s]\n"
          ]
        },
        {
          "output_type": "stream",
          "name": "stdout",
          "text": [
            "2022-07-15 09:44:07,831 copying /tmp/tmpyfxr2427 to cache at /root/.flair/models/hunflair-chemical-full-v1.0.pt\n",
            "2022-07-15 09:44:12,087 removing temp file /tmp/tmpyfxr2427\n",
            "2022-07-15 09:44:12,238 loading file /root/.flair/models/hunflair-chemical-full-v1.0.pt\n",
            "2022-07-15 09:44:18,697 SequenceTagger predicts: Dictionary with 8 tags: <unk>, O, S-Chemical, B-Chemical, I-Chemical, E-Chemical, <START>, <STOP>\n",
            "2022-07-15 09:44:19,850 https://nlp.informatik.hu-berlin.de/resources/models/hunflair_allcorpus_models/huner-disease/hunflair-disease-full-v1.0.pt not found in cache, downloading to /tmp/tmp801v_dqg\n"
          ]
        },
        {
          "output_type": "stream",
          "name": "stderr",
          "text": [
            "100%|██████████| 1104886193/1104886193 [00:49<00:00, 22473216.59B/s]"
          ]
        },
        {
          "output_type": "stream",
          "name": "stdout",
          "text": [
            "2022-07-15 09:45:09,479 copying /tmp/tmp801v_dqg to cache at /root/.flair/models/hunflair-disease-full-v1.0.pt\n"
          ]
        },
        {
          "output_type": "stream",
          "name": "stderr",
          "text": [
            "\n"
          ]
        },
        {
          "output_type": "stream",
          "name": "stdout",
          "text": [
            "2022-07-15 09:45:15,378 removing temp file /tmp/tmp801v_dqg\n",
            "2022-07-15 09:45:15,542 loading file /root/.flair/models/hunflair-disease-full-v1.0.pt\n",
            "2022-07-15 09:45:22,947 SequenceTagger predicts: Dictionary with 8 tags: <unk>, O, B-Disease, E-Disease, I-Disease, S-Disease, <START>, <STOP>\n",
            "2022-07-15 09:45:23,901 https://nlp.informatik.hu-berlin.de/resources/models/hunflair_allcorpus_models/huner-gene/hunflair-gene-full-v1.0.pt not found in cache, downloading to /tmp/tmpieqb10qr\n"
          ]
        },
        {
          "output_type": "stream",
          "name": "stderr",
          "text": [
            "100%|██████████| 1104887211/1104887211 [00:50<00:00, 21906126.72B/s]"
          ]
        },
        {
          "output_type": "stream",
          "name": "stdout",
          "text": [
            "2022-07-15 09:46:14,797 copying /tmp/tmpieqb10qr to cache at /root/.flair/models/hunflair-gene-full-v1.0.pt\n"
          ]
        },
        {
          "output_type": "stream",
          "name": "stderr",
          "text": [
            "\n"
          ]
        },
        {
          "output_type": "stream",
          "name": "stdout",
          "text": [
            "2022-07-15 09:46:18,747 removing temp file /tmp/tmpieqb10qr\n",
            "2022-07-15 09:46:18,900 loading file /root/.flair/models/hunflair-gene-full-v1.0.pt\n",
            "2022-07-15 09:46:25,550 SequenceTagger predicts: Dictionary with 8 tags: <unk>, O, S-Gene, B-Gene, I-Gene, E-Gene, <START>, <STOP>\n",
            "2022-07-15 09:46:26,491 https://nlp.informatik.hu-berlin.de/resources/models/hunflair_allcorpus_models/huner-species/hunflair-species-full-v1.1.pt not found in cache, downloading to /tmp/tmp0ppbgyia\n"
          ]
        },
        {
          "output_type": "stream",
          "name": "stderr",
          "text": [
            "100%|██████████| 1104886931/1104886931 [00:48<00:00, 22552602.83B/s]"
          ]
        },
        {
          "output_type": "stream",
          "name": "stdout",
          "text": [
            "2022-07-15 09:47:15,921 copying /tmp/tmp0ppbgyia to cache at /root/.flair/models/hunflair-species-full-v1.1.pt\n"
          ]
        },
        {
          "output_type": "stream",
          "name": "stderr",
          "text": [
            "\n"
          ]
        },
        {
          "output_type": "stream",
          "name": "stdout",
          "text": [
            "2022-07-15 09:47:20,063 removing temp file /tmp/tmp0ppbgyia\n",
            "2022-07-15 09:47:20,306 loading file /root/.flair/models/hunflair-species-full-v1.1.pt\n",
            "2022-07-15 09:47:27,261 SequenceTagger predicts: Dictionary with 8 tags: <unk>, O, S-Species, B-Species, I-Species, E-Species, <START>, <STOP>\n"
          ]
        }
      ]
    },
    {
      "cell_type": "code",
      "source": [
        "tagger.predict(sentence1)\n",
        "for annotation_layer in sentence1.annotation_layers.keys():\n",
        "    for entity in sentence1.get_spans(annotation_layer):\n",
        "        print(entity)"
      ],
      "metadata": {
        "colab": {
          "base_uri": "https://localhost:8080/"
        },
        "id": "dYvQX5PMPTHB",
        "outputId": "fada7928-c5cf-4873-d95d-3984425c5e23"
      },
      "execution_count": 20,
      "outputs": [
        {
          "output_type": "stream",
          "name": "stdout",
          "text": [
            "Span[0:2]: \"Behavioral abnormalities\" → Disease (0.6736)\n",
            "Span[9:12]: \"Fragile X Syndrome\" → Disease (0.99)\n",
            "Span[4:5]: \"Fmr1\" → Gene (0.838)\n",
            "Span[6:7]: \"Mouse\" → Species (0.9979)\n"
          ]
        }
      ]
    }
  ]
}