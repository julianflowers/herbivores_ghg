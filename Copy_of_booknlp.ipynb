{
  "nbformat": 4,
  "nbformat_minor": 0,
  "metadata": {
    "colab": {
      "provenance": [],
      "collapsed_sections": [],
      "mount_file_id": "1HsxkHdxdw1HC-kPfF09bYOeUaQt2IBCb",
      "authorship_tag": "ABX9TyPRE+YqrocIaqxKTc1215wt",
      "include_colab_link": true
    },
    "kernelspec": {
      "name": "python3",
      "display_name": "Python 3"
    },
    "language_info": {
      "name": "python"
    },
    "accelerator": "TPU"
  },
  "cells": [
    {
      "cell_type": "markdown",
      "metadata": {
        "id": "view-in-github",
        "colab_type": "text"
      },
      "source": [
        "<a href=\"https://colab.research.google.com/github/julianflowers/herbivores_ghg/blob/master/Copy_of_booknlp.ipynb\" target=\"_parent\"><img src=\"https://colab.research.google.com/assets/colab-badge.svg\" alt=\"Open In Colab\"/></a>"
      ]
    },
    {
      "cell_type": "code",
      "source": [],
      "metadata": {
        "id": "uYHEBYd9ERMk"
      },
      "execution_count": null,
      "outputs": []
    },
    {
      "cell_type": "markdown",
      "source": [
        "## Install packages and models"
      ],
      "metadata": {
        "id": "45bHzmvz_f4q"
      }
    },
    {
      "cell_type": "code",
      "execution_count": null,
      "metadata": {
        "id": "Tt0fqPtvz8dv"
      },
      "outputs": [],
      "source": [
        "%pip install booknlp\n",
        "!pip install https://github.com/explosion/spacy-models/releases/download/en_core_web_sm-3.0.0/en_core_web_sm-3.0.0-py3-none-any.whl\n",
        "!pip install taxonerd\n",
        "!pip install https://github.com/nleguillarme/taxonerd/releases/download/v1.3.0/en_ner_eco_biobert-1.0.0.tar.gz"
      ]
    },
    {
      "cell_type": "code",
      "source": [
        "! pip install spacy\n",
        "import spacy\n",
        "from spacy import displacy\n",
        "!pip install https://github.com/explosion/spacy-models/releases/download/en_core_web_lg-3.0.0/en_core_web_lg-3.0.0-py3-none-any.whl\n",
        "!pip install scispacy\n",
        "!pip install https://s3-us-west-2.amazonaws.com/ai2-s2-scispacy/releases/v0.5.0/en_core_sci_sm-0.5.0.tar.gz\n",
        "!pip install spacy-transformers\n",
        "!pip install spacypdfreader\n"
      ],
      "metadata": {
        "id": "AT6V8J7TCmzY"
      },
      "execution_count": null,
      "outputs": []
    },
    {
      "cell_type": "markdown",
      "source": [
        "## Import modules\n"
      ],
      "metadata": {
        "id": "PEtC_OA__teU"
      }
    },
    {
      "cell_type": "code",
      "source": [
        "import spacy_transformers\n",
        "from spacypdfreader import pdf_reader \n",
        "from taxonerd import TaxoNERD\n",
        "\n",
        "from booknlp.booknlp import BookNLP\n",
        "\n",
        "model_params={\n",
        "\t\t\"pipeline\":\"entity\", \n",
        "\t\t\"model\":\"big\"\n",
        "\t}\n",
        "\t\n",
        "booknlp=BookNLP(\"en\", model_params)"
      ],
      "metadata": {
        "colab": {
          "base_uri": "https://localhost:8080/"
        },
        "id": "hzS3yEa82ES9",
        "outputId": "03987af3-0119-4e01-96aa-38c2b2f47279"
      },
      "execution_count": null,
      "outputs": [
        {
          "output_type": "stream",
          "name": "stdout",
          "text": [
            "{'pipeline': 'entity', 'model': 'big'}\n",
            "--- startup: 5.617 seconds ---\n"
          ]
        }
      ]
    },
    {
      "cell_type": "markdown",
      "source": [
        "## Load models"
      ],
      "metadata": {
        "id": "bKE4Y-0j_zrU"
      }
    },
    {
      "cell_type": "code",
      "source": [
        "ner = TaxoNERD(model=\"en_ner_eco_biobert\", with_sentence=True, prefer_gpu=True, with_linking=\"taxref\", with_abbrev=True, ) # Add with_linking=\"gbif_backbone\" or with_linking=\"taxref\" to activate entity linking\n"
      ],
      "metadata": {
        "id": "NBsPlD2p-6wZ"
      },
      "execution_count": null,
      "outputs": []
    },
    {
      "cell_type": "code",
      "source": [
        "from google.colab import files\n",
        "\n",
        "uploaded = files.upload()"
      ],
      "metadata": {
        "colab": {
          "base_uri": "https://localhost:8080/",
          "height": 1000
        },
        "id": "BI40_YwvFgBS",
        "outputId": "44850128-c63b-4cfa-f29c-8e8ed51526a1"
      },
      "execution_count": null,
      "outputs": [
        {
          "output_type": "display_data",
          "data": {
            "text/plain": [
              "<IPython.core.display.HTML object>"
            ],
            "text/html": [
              "\n",
              "     <input type=\"file\" id=\"files-53703143-e69c-4223-b74c-8898ff0b6865\" name=\"files[]\" multiple disabled\n",
              "        style=\"border:none\" />\n",
              "     <output id=\"result-53703143-e69c-4223-b74c-8898ff0b6865\">\n",
              "      Upload widget is only available when the cell has been executed in the\n",
              "      current browser session. Please rerun this cell to enable.\n",
              "      </output>\n",
              "      <script>// Copyright 2017 Google LLC\n",
              "//\n",
              "// Licensed under the Apache License, Version 2.0 (the \"License\");\n",
              "// you may not use this file except in compliance with the License.\n",
              "// You may obtain a copy of the License at\n",
              "//\n",
              "//      http://www.apache.org/licenses/LICENSE-2.0\n",
              "//\n",
              "// Unless required by applicable law or agreed to in writing, software\n",
              "// distributed under the License is distributed on an \"AS IS\" BASIS,\n",
              "// WITHOUT WARRANTIES OR CONDITIONS OF ANY KIND, either express or implied.\n",
              "// See the License for the specific language governing permissions and\n",
              "// limitations under the License.\n",
              "\n",
              "/**\n",
              " * @fileoverview Helpers for google.colab Python module.\n",
              " */\n",
              "(function(scope) {\n",
              "function span(text, styleAttributes = {}) {\n",
              "  const element = document.createElement('span');\n",
              "  element.textContent = text;\n",
              "  for (const key of Object.keys(styleAttributes)) {\n",
              "    element.style[key] = styleAttributes[key];\n",
              "  }\n",
              "  return element;\n",
              "}\n",
              "\n",
              "// Max number of bytes which will be uploaded at a time.\n",
              "const MAX_PAYLOAD_SIZE = 100 * 1024;\n",
              "\n",
              "function _uploadFiles(inputId, outputId) {\n",
              "  const steps = uploadFilesStep(inputId, outputId);\n",
              "  const outputElement = document.getElementById(outputId);\n",
              "  // Cache steps on the outputElement to make it available for the next call\n",
              "  // to uploadFilesContinue from Python.\n",
              "  outputElement.steps = steps;\n",
              "\n",
              "  return _uploadFilesContinue(outputId);\n",
              "}\n",
              "\n",
              "// This is roughly an async generator (not supported in the browser yet),\n",
              "// where there are multiple asynchronous steps and the Python side is going\n",
              "// to poll for completion of each step.\n",
              "// This uses a Promise to block the python side on completion of each step,\n",
              "// then passes the result of the previous step as the input to the next step.\n",
              "function _uploadFilesContinue(outputId) {\n",
              "  const outputElement = document.getElementById(outputId);\n",
              "  const steps = outputElement.steps;\n",
              "\n",
              "  const next = steps.next(outputElement.lastPromiseValue);\n",
              "  return Promise.resolve(next.value.promise).then((value) => {\n",
              "    // Cache the last promise value to make it available to the next\n",
              "    // step of the generator.\n",
              "    outputElement.lastPromiseValue = value;\n",
              "    return next.value.response;\n",
              "  });\n",
              "}\n",
              "\n",
              "/**\n",
              " * Generator function which is called between each async step of the upload\n",
              " * process.\n",
              " * @param {string} inputId Element ID of the input file picker element.\n",
              " * @param {string} outputId Element ID of the output display.\n",
              " * @return {!Iterable<!Object>} Iterable of next steps.\n",
              " */\n",
              "function* uploadFilesStep(inputId, outputId) {\n",
              "  const inputElement = document.getElementById(inputId);\n",
              "  inputElement.disabled = false;\n",
              "\n",
              "  const outputElement = document.getElementById(outputId);\n",
              "  outputElement.innerHTML = '';\n",
              "\n",
              "  const pickedPromise = new Promise((resolve) => {\n",
              "    inputElement.addEventListener('change', (e) => {\n",
              "      resolve(e.target.files);\n",
              "    });\n",
              "  });\n",
              "\n",
              "  const cancel = document.createElement('button');\n",
              "  inputElement.parentElement.appendChild(cancel);\n",
              "  cancel.textContent = 'Cancel upload';\n",
              "  const cancelPromise = new Promise((resolve) => {\n",
              "    cancel.onclick = () => {\n",
              "      resolve(null);\n",
              "    };\n",
              "  });\n",
              "\n",
              "  // Wait for the user to pick the files.\n",
              "  const files = yield {\n",
              "    promise: Promise.race([pickedPromise, cancelPromise]),\n",
              "    response: {\n",
              "      action: 'starting',\n",
              "    }\n",
              "  };\n",
              "\n",
              "  cancel.remove();\n",
              "\n",
              "  // Disable the input element since further picks are not allowed.\n",
              "  inputElement.disabled = true;\n",
              "\n",
              "  if (!files) {\n",
              "    return {\n",
              "      response: {\n",
              "        action: 'complete',\n",
              "      }\n",
              "    };\n",
              "  }\n",
              "\n",
              "  for (const file of files) {\n",
              "    const li = document.createElement('li');\n",
              "    li.append(span(file.name, {fontWeight: 'bold'}));\n",
              "    li.append(span(\n",
              "        `(${file.type || 'n/a'}) - ${file.size} bytes, ` +\n",
              "        `last modified: ${\n",
              "            file.lastModifiedDate ? file.lastModifiedDate.toLocaleDateString() :\n",
              "                                    'n/a'} - `));\n",
              "    const percent = span('0% done');\n",
              "    li.appendChild(percent);\n",
              "\n",
              "    outputElement.appendChild(li);\n",
              "\n",
              "    const fileDataPromise = new Promise((resolve) => {\n",
              "      const reader = new FileReader();\n",
              "      reader.onload = (e) => {\n",
              "        resolve(e.target.result);\n",
              "      };\n",
              "      reader.readAsArrayBuffer(file);\n",
              "    });\n",
              "    // Wait for the data to be ready.\n",
              "    let fileData = yield {\n",
              "      promise: fileDataPromise,\n",
              "      response: {\n",
              "        action: 'continue',\n",
              "      }\n",
              "    };\n",
              "\n",
              "    // Use a chunked sending to avoid message size limits. See b/62115660.\n",
              "    let position = 0;\n",
              "    do {\n",
              "      const length = Math.min(fileData.byteLength - position, MAX_PAYLOAD_SIZE);\n",
              "      const chunk = new Uint8Array(fileData, position, length);\n",
              "      position += length;\n",
              "\n",
              "      const base64 = btoa(String.fromCharCode.apply(null, chunk));\n",
              "      yield {\n",
              "        response: {\n",
              "          action: 'append',\n",
              "          file: file.name,\n",
              "          data: base64,\n",
              "        },\n",
              "      };\n",
              "\n",
              "      let percentDone = fileData.byteLength === 0 ?\n",
              "          100 :\n",
              "          Math.round((position / fileData.byteLength) * 100);\n",
              "      percent.textContent = `${percentDone}% done`;\n",
              "\n",
              "    } while (position < fileData.byteLength);\n",
              "  }\n",
              "\n",
              "  // All done.\n",
              "  yield {\n",
              "    response: {\n",
              "      action: 'complete',\n",
              "    }\n",
              "  };\n",
              "}\n",
              "\n",
              "scope.google = scope.google || {};\n",
              "scope.google.colab = scope.google.colab || {};\n",
              "scope.google.colab._files = {\n",
              "  _uploadFiles,\n",
              "  _uploadFilesContinue,\n",
              "};\n",
              "})(self);\n",
              "</script> "
            ]
          },
          "metadata": {}
        },
        {
          "output_type": "stream",
          "name": "stdout",
          "text": [
            "Saving J of Env Quality - 1999 - Yamulki - Methane Emission and Uptake from Soils as Influenced by Excreta Deposition from Grazing.pdf to J of Env Quality - 1999 - Yamulki - Methane Emission and Uptake from Soils as Influenced by Excreta Deposition from Grazing.pdf\n",
            "Saving 1-s2.0-S0038071797001454-main.pdf to 1-s2.0-S0038071797001454-main.pdf\n",
            "Saving 1-s2.0-S0048969712011783-main.pdf to 1-s2.0-S0048969712011783-main.pdf\n",
            "Saving 1-s2.0-S0921344921003736-main.pdf to 1-s2.0-S0921344921003736-main.pdf\n",
            "Saving 1-s2.0-S0269749111006440-main.pdf to 1-s2.0-S0269749111006440-main.pdf\n",
            "Saving 1-s2.0-S0167880916300871-main.pdf to 1-s2.0-S0167880916300871-main.pdf\n",
            "Saving 1-s2.0-S001670611200119X-main.pdf to 1-s2.0-S001670611200119X-main.pdf\n",
            "Saving Rafique2011_Article_NitrousOxideEmissionFromGrazed.pdf to Rafique2011_Article_NitrousOxideEmissionFromGrazed.pdf\n",
            "Saving 1-s2.0-S0038071710004396-main.pdf to 1-s2.0-S0038071710004396-main.pdf\n",
            "Saving Effect of grazing intensity and soil characteristics on soil organic carbon and nitrogen stocks in a temperate long term grassland.pdf to Effect of grazing intensity and soil characteristics on soil organic carbon and nitrogen stocks in a temperate long term grassland.pdf\n",
            "Saving A-1012654928177.pdf to A-1012654928177.pdf\n",
            "Saving 1-s2.0-S0038071704003761-main.pdf to 1-s2.0-S0038071704003761-main.pdf\n",
            "Saving 1-s2.0-S0167880911004385-main.pdf to 1-s2.0-S0167880911004385-main.pdf\n",
            "Saving 1-s2.0-S0167880997000807-main.pdf to 1-s2.0-S0167880997000807-main.pdf\n",
            "Saving 1-s2.0-026974919500009G-main.pdf to 1-s2.0-026974919500009G-main.pdf\n",
            "Saving Modeling of net ecosystem exchange and its components for a humid grassland ecosystem - Lawton - 200.pdf to Modeling of net ecosystem exchange and its components for a humid grassland ecosystem - Lawton - 200.pdf\n",
            "Saving 1-s2.0-003807179500092S-main.pdf to 1-s2.0-003807179500092S-main.pdf\n",
            "Saving s10705-006-9026-x.pdf to s10705-006-9026-x.pdf\n",
            "Saving 1-s2.0-S0038071703002992-main.pdf to 1-s2.0-S0038071703002992-main.pdf\n",
            "Saving 09596830094971.pdf to 09596830094971.pdf\n",
            "Saving Journal of Geophysical Research  Biogeosciences - 2010 - Clay - Carbon budgets of an upland blanket bog managed by.pdf to Journal of Geophysical Research  Biogeosciences - 2010 - Clay - Carbon budgets of an upland blanket bog managed by.pdf\n",
            "Saving 1-s2.0-S0048969718325233-main.pdf to 1-s2.0-S0048969718325233-main.pdf\n",
            "Saving 1-s2.0-S0048969714017100-main.pdf to 1-s2.0-S0048969714017100-main.pdf\n",
            "Saving 1-s2.0-S0016706114001761-main.pdf to 1-s2.0-S0016706114001761-main.pdf\n",
            "Saving 1-s2.0-0038071795001867-main.pdf to 1-s2.0-0038071795001867-main.pdf\n",
            "Saving 1-s2.0-S0167880906004324-main.pdf to 1-s2.0-S0167880906004324-main.pdf\n",
            "Saving European J Soil Science - 2020 - Zani - Grazed temporary grass%E2%80%90clover leys in crop rotations can have a positive impact on.pdf to European J Soil Science - 2020 - Zani - Grazed temporary grass%E2%80%90clover leys in crop rotations can have a positive impact on.pdf\n",
            "Saving GCB-21-3036.pdf to GCB-21-3036.pdf\n",
            "Saving 1-s2.0-S0048969718320837-main.pdf to 1-s2.0-S0048969718320837-main.pdf\n",
            "Saving 10.1007-s11367-014-0755-9.pdf to 10.1007-s11367-014-0755-9.pdf\n",
            "Saving 1-s2.0-S1751731112000316-main.pdf to 1-s2.0-S1751731112000316-main.pdf\n",
            "Saving AGSY_102907.pdf to AGSY_102907.pdf\n",
            "Saving 1-s2.0-S0167880921004291-main.pdf to 1-s2.0-S0167880921004291-main.pdf\n",
            "Saving 1-s2.0-S0167880920301638-main.pdf to 1-s2.0-S0167880920301638-main.pdf\n",
            "Saving 1-s2.0-S0959652617324125-main.pdf to 1-s2.0-S0959652617324125-main.pdf\n",
            "Saving 1-s2.0-S0167880919304013-main.pdf to 1-s2.0-S0167880919304013-main.pdf\n",
            "Saving Kolstad+et+al+2017_Cervid+exclusion+alters+boreal+forest+properties+with+little+cascading+impacts+on+soils.pdf to Kolstad+et+al+2017_Cervid+exclusion+alters+boreal+forest+properties+with+little+cascading+impacts+on+soils.pdf\n",
            "Saving bg-14-2069-2017.pdf to bg-14-2069-2017.pdf\n",
            "Saving European J Soil Science - 2017 - Johnston - Changes in soil organic matter over 70 years in continuous arable and ley.pdf to European J Soil Science - 2017 - Johnston - Changes in soil organic matter over 70 years in continuous arable and ley.pdf\n",
            "Saving fevo-07-00151.pdf to fevo-07-00151.pdf\n",
            "Saving 280634.pdf to 280634.pdf\n",
            "Saving Regenerative rotational grazing management of dairy sheep increases springtime grass production and .pdf to Regenerative rotational grazing management of dairy sheep increases springtime grass production and .pdf\n",
            "Saving Charteris et al_Final.pdf to Charteris et al_Final.pdf\n",
            "Saving 1-s2.0-S0167880916305345-main.pdf to 1-s2.0-S0167880916305345-main.pdf\n",
            "Saving 1-s2.0-S0167880914000309-main.pdf to 1-s2.0-S0167880914000309-main.pdf\n",
            "Saving animals-10-01302.pdf to animals-10-01302.pdf\n",
            "Saving 1-s2.0-S0048969722023051-main.pdf to 1-s2.0-S0048969722023051-main.pdf\n",
            "Saving Testing DayCent and DNDC model simulations of N2O fluxes and assessing the impacts of climate change on the gas flux and biomass production from a humid pasture.pdf to Testing DayCent and DNDC model simulations of N2O fluxes and assessing the impacts of climate change on the gas flux and biomass production from a humid pasture.pdf\n",
            "Saving agronomy-11-00558-v2.pdf to agronomy-11-00558-v2.pdf\n",
            "Saving N510712PP.pdf to N510712PP.pdf\n",
            "Saving Ford_et_al._2012_Grazing_abandonment_pre_print_2.pdf to Ford_et_al._2012_Grazing_abandonment_pre_print_2.pdf\n",
            "Saving 1-s2.0-S0272771412003058-main.pdf to 1-s2.0-S0272771412003058-main.pdf\n",
            "Saving 1-s2.0-S0167880912003271-main.pdf to 1-s2.0-S0167880912003271-main.pdf\n",
            "Saving 1-s2.0-S0167880912000849-main.pdf to 1-s2.0-S0167880912000849-main.pdf\n"
          ]
        }
      ]
    },
    {
      "cell_type": "code",
      "source": [],
      "metadata": {
        "id": "H6c9SWRNFNac"
      },
      "execution_count": null,
      "outputs": []
    },
    {
      "cell_type": "code",
      "source": [
        "ner.find_in_corpus(\"upload\", \"ann\")"
      ],
      "metadata": {
        "id": "xj1d1u7qGd3l",
        "colab": {
          "base_uri": "https://localhost:8080/"
        },
        "outputId": "595ba50c-0c40-498a-c1e5-c0aed0a3a497"
      },
      "execution_count": null,
      "outputs": [
        {
          "metadata": {
            "tags": null
          },
          "name": "stderr",
          "output_type": "stream",
          "text": [
            "ERROR:taxonerd.taxonerd:The command `antiword upload/DNDC-model paper edited.doc` failed because the executable\n",
            "`antiword` is not installed on your system. Please make\n",
            "sure the appropriate dependencies are installed before using\n",
            "textract:\n",
            "\n",
            "    http://textract.readthedocs.org/en/latest/installation.html\n",
            ". In file upload/DNDC-model paper edited.doc. Skip.\n"
          ]
        },
        {
          "output_type": "execute_result",
          "data": {
            "text/plain": [
              "{'Modeling of net ecosystem exchange and its components for a humid grassland ecosystem - Lawton - 200.txt': 'ann/Modeling of net ecosystem exchange and its components for a humid grassland ecosystem - Lawton - 200.ann',\n",
              " '1-s2.0-S0048969718325233-main.txt': 'ann/1-s2.0-S0048969718325233-main.ann',\n",
              " '1-s2.0-S0038071710004396-main.txt': 'ann/1-s2.0-S0038071710004396-main.ann',\n",
              " 'J of Env Quality - 1999 - Yamulki - Methane Emission and Uptake from Soils as Influenced by Excreta Deposition from Grazing.txt': 'ann/J of Env Quality - 1999 - Yamulki - Methane Emission and Uptake from Soils as Influenced by Excreta Deposition from Grazing.ann',\n",
              " '1-s2.0-S0048969712011783-main.txt': 'ann/1-s2.0-S0048969712011783-main.ann',\n",
              " '1-s2.0-S0167880912000849-main.txt': 'ann/1-s2.0-S0167880912000849-main.ann',\n",
              " '1-s2.0-S0167880914000309-main.txt': 'ann/1-s2.0-S0167880914000309-main.ann',\n",
              " 's10705-006-9026-x.txt': 'ann/s10705-006-9026-x.ann',\n",
              " '1-s2.0-S0167880906004324-main.txt': 'ann/1-s2.0-S0167880906004324-main.ann',\n",
              " 'Journal of Geophysical Research  Biogeosciences - 2010 - Clay - Carbon budgets of an upland blanket bog managed by.txt': 'ann/Journal of Geophysical Research  Biogeosciences - 2010 - Clay - Carbon budgets of an upland blanket bog managed by.ann',\n",
              " 'agronomy-11-00558-v2.txt': 'ann/agronomy-11-00558-v2.ann',\n",
              " '280634.txt': 'ann/280634.ann',\n",
              " 'Ford_et_al._2012_Grazing_abandonment_pre_print_2.txt': 'ann/Ford_et_al._2012_Grazing_abandonment_pre_print_2.ann',\n",
              " '1-s2.0-S0038071703002992-main.txt': 'ann/1-s2.0-S0038071703002992-main.ann',\n",
              " '1-s2.0-S0269749111006440-main.txt': 'ann/1-s2.0-S0269749111006440-main.ann',\n",
              " 'European J Soil Science - 2020 - Zani - Grazed temporary grass%E2%80%90clover leys in crop rotations can have a positive impact on.txt': 'ann/European J Soil Science - 2020 - Zani - Grazed temporary grass%E2%80%90clover leys in crop rotations can have a positive impact on.ann',\n",
              " '1-s2.0-S0038071704003761-main.txt': 'ann/1-s2.0-S0038071704003761-main.ann',\n",
              " '1-s2.0-S0038071797001454-main.txt': 'ann/1-s2.0-S0038071797001454-main.ann',\n",
              " '1-s2.0-S0272771412003058-main.txt': 'ann/1-s2.0-S0272771412003058-main.ann',\n",
              " '1-s2.0-S0048969718320837-main.txt': 'ann/1-s2.0-S0048969718320837-main.ann',\n",
              " 'Regenerative rotational grazing management of dairy sheep increases springtime grass production and .txt': 'ann/Regenerative rotational grazing management of dairy sheep increases springtime grass production and .ann',\n",
              " 'animals-10-01302.txt': 'ann/animals-10-01302.ann',\n",
              " '1-s2.0-S0921344921003736-main.txt': 'ann/1-s2.0-S0921344921003736-main.ann',\n",
              " 'AGSY_102907.txt': 'ann/AGSY_102907.ann',\n",
              " 'Testing DayCent and DNDC model simulations of N2O fluxes and assessing the impacts of climate change on the gas flux and biomass production from a humid pasture.txt': 'ann/Testing DayCent and DNDC model simulations of N2O fluxes and assessing the impacts of climate change on the gas flux and biomass production from a humid pasture.ann',\n",
              " 'Rafique2011_Article_NitrousOxideEmissionFromGrazed.txt': 'ann/Rafique2011_Article_NitrousOxideEmissionFromGrazed.ann',\n",
              " '1-s2.0-S001670611200119X-main.txt': 'ann/1-s2.0-S001670611200119X-main.ann',\n",
              " '1-s2.0-S1751731112000316-main.txt': 'ann/1-s2.0-S1751731112000316-main.ann',\n",
              " '1-s2.0-S0048969722023051-main.txt': 'ann/1-s2.0-S0048969722023051-main.ann',\n",
              " '1-s2.0-S0048969714017100-main.txt': 'ann/1-s2.0-S0048969714017100-main.ann',\n",
              " '1-s2.0-S0167880916300871-main.txt': 'ann/1-s2.0-S0167880916300871-main.ann',\n",
              " '1-s2.0-S0167880921004291-main.txt': 'ann/1-s2.0-S0167880921004291-main.ann',\n",
              " '1-s2.0-S0167880912003271-main.txt': 'ann/1-s2.0-S0167880912003271-main.ann',\n",
              " '1-s2.0-S0016706114001761-main.txt': 'ann/1-s2.0-S0016706114001761-main.ann',\n",
              " '1-s2.0-S0167880920301638-main.txt': 'ann/1-s2.0-S0167880920301638-main.ann',\n",
              " '09596830094971.txt': 'ann/09596830094971.ann',\n",
              " '1-s2.0-S0959652617324125-main.txt': 'ann/1-s2.0-S0959652617324125-main.ann',\n",
              " '1-s2.0-026974919500009G-main.txt': 'ann/1-s2.0-026974919500009G-main.ann',\n",
              " 'Kolstad+et+al+2017_Cervid+exclusion+alters+boreal+forest+properties+with+little+cascading+impacts+on+soils.txt': 'ann/Kolstad+et+al+2017_Cervid+exclusion+alters+boreal+forest+properties+with+little+cascading+impacts+on+soils.ann',\n",
              " 'Charteris et al_Final.txt': 'ann/Charteris et al_Final.ann',\n",
              " 'plos1.txt': 'ann/plos1.ann',\n",
              " '1-s2.0-S0167880916305345-main.txt': 'ann/1-s2.0-S0167880916305345-main.ann',\n",
              " 'European J Soil Science - 2017 - Johnston - Changes in soil organic matter over 70 years in continuous arable and ley.txt': 'ann/European J Soil Science - 2017 - Johnston - Changes in soil organic matter over 70 years in continuous arable and ley.ann',\n",
              " 'fevo-07-00151.txt': 'ann/fevo-07-00151.ann',\n",
              " 'N510712PP.txt': 'ann/N510712PP.ann',\n",
              " 'bg-14-2069-2017.txt': 'ann/bg-14-2069-2017.ann',\n",
              " '1-s2.0-S0167880919304013-main.txt': 'ann/1-s2.0-S0167880919304013-main.ann',\n",
              " '1-s2.0-003807179500092S-main.txt': 'ann/1-s2.0-003807179500092S-main.ann',\n",
              " 'GCB-21-3036.txt': 'ann/GCB-21-3036.ann',\n",
              " '1-s2.0-S0167880911004385-main.txt': 'ann/1-s2.0-S0167880911004385-main.ann',\n",
              " '10.1007-s11367-014-0755-9.txt': 'ann/10.1007-s11367-014-0755-9.ann',\n",
              " '1-s2.0-0038071795001867-main.txt': 'ann/1-s2.0-0038071795001867-main.ann',\n",
              " 'A-1012654928177.txt': 'ann/A-1012654928177.ann',\n",
              " '1-s2.0-S0167880997000807-main.txt': 'ann/1-s2.0-S0167880997000807-main.ann',\n",
              " 'Effect of grazing intensity and soil characteristics on soil organic carbon and nitrogen stocks in a temperate long term grassland.txt': 'ann/Effect of grazing intensity and soil characteristics on soil organic carbon and nitrogen stocks in a temperate long term grassland.ann'}"
            ]
          },
          "metadata": {},
          "execution_count": 5
        }
      ]
    },
    {
      "cell_type": "markdown",
      "source": [
        "## Extract entities"
      ],
      "metadata": {
        "id": "0qA8pnv3_3dP"
      }
    },
    {
      "cell_type": "markdown",
      "source": [
        "## Using `spacy`"
      ],
      "metadata": {
        "id": "AoHojr_8D1p4"
      }
    },
    {
      "cell_type": "code",
      "source": [
        "#import os\n",
        "\n",
        "path = '/content/upload/' \n",
        "files = os.listdir(path)\n",
        "\n",
        "files_txt = [i for i in files if i.endswith('.txt')]\n",
        "files_pdf = [i for i in files if i.endswith('.pdf')]\n",
        "files_pdf[0]\n"
      ],
      "metadata": {
        "colab": {
          "base_uri": "https://localhost:8080/",
          "height": 35
        },
        "id": "UkAbad4zWE6Z",
        "outputId": "db2a3860-ae60-4d19-94ae-08123d27231f"
      },
      "execution_count": null,
      "outputs": [
        {
          "output_type": "execute_result",
          "data": {
            "text/plain": [
              "'bg-14-2069-2017.pdf'"
            ],
            "application/vnd.google.colaboratory.intrinsic+json": {
              "type": "string"
            }
          },
          "metadata": {},
          "execution_count": 13
        }
      ]
    },
    {
      "cell_type": "code",
      "source": [
        "ner = spacy.load(\"en_core_web_lg\")"
      ],
      "metadata": {
        "id": "QvFTTQjhFbv5"
      },
      "execution_count": null,
      "outputs": []
    },
    {
      "cell_type": "code",
      "source": [
        "i = 5\n",
        "text_spacy = pdf_reader(path + files_pdf[i], ner )\n",
        "\n"
      ],
      "metadata": {
        "id": "GFORzvtGH4Be"
      },
      "execution_count": null,
      "outputs": []
    },
    {
      "cell_type": "code",
      "source": [
        "print(text_spacy)"
      ],
      "metadata": {
        "id": "kurv_vaWKKeo"
      },
      "execution_count": null,
      "outputs": []
    },
    {
      "cell_type": "code",
      "source": [
        "list_of_loc=[]\n",
        "\n",
        "# Appending entities which have the label 'LOC' to the list\n",
        "for entity in text_spacy.ents:\n",
        "  if entity.label_=='LOC':\n",
        "    list_of_loc.append(entity.text)\n",
        "\n",
        "list_of_gpe=[]\n",
        "\n",
        "# Appending entities which have the label 'LOC' to the list\n",
        "for entity in text_spacy.ents:\n",
        "  if entity.label_=='GPE':\n",
        "    list_of_gpe.append(entity.text)"
      ],
      "metadata": {
        "id": "4SVU9G6eIuvz"
      },
      "execution_count": null,
      "outputs": []
    },
    {
      "cell_type": "code",
      "source": [
        "import pandas as pd\n",
        "\n",
        "df = pd.DataFrame (list_of_loc, columns = ['place'])\n",
        "print (df)\n",
        "df.to_csv('locations1.csv')\n",
        "\n",
        "df_gpe = pd.DataFrame (list_of_gpe, columns = ['place'])\n",
        "print (df_gpe)\n",
        "df_gpe.to_csv('locations2.csv')"
      ],
      "metadata": {
        "colab": {
          "base_uri": "https://localhost:8080/"
        },
        "id": "vrZtF9s0JZV2",
        "outputId": "f540c071-bdb9-4cf9-98d4-60746fef5247"
      },
      "execution_count": null,
      "outputs": [
        {
          "output_type": "stream",
          "name": "stdout",
          "text": [
            "                    place\n",
            "0                 Gwynedd\n",
            "1                   Earth\n",
            "2          Welsh Mountain\n",
            "3              North \\n\\n\n",
            "4             Dairy North\n",
            "5              North Wyke\n",
            "6             C. Rainfall\n",
            "7                      TC\n",
            "8               East-West\n",
            "9                Soil Map\n",
            "10                 Europe\n",
            "11             North Wyke\n",
            "12            Dairy North\n",
            "13  the Tellus South \\n\\n\n",
            "          place\n",
            "0    North Wyke\n",
            "1    Okehampton\n",
            "2            UK\n",
            "3        Bangor\n",
            "4            UK\n",
            "..          ...\n",
            "277        D.L.\n",
            "278   Routledge\n",
            "279    New York\n",
            "280         USA\n",
            "281        P.L.\n",
            "\n",
            "[282 rows x 1 columns]\n"
          ]
        }
      ]
    },
    {
      "cell_type": "markdown",
      "source": [
        "## Using `booknlp`"
      ],
      "metadata": {
        "id": "YsZZpKdBDxwr"
      }
    },
    {
      "cell_type": "code",
      "source": [
        "i = 54\n",
        "\n",
        "input_file= path + files_txt[i]\n",
        "\n",
        "# Output directory to store resulting files in\n",
        "output_directory=\"/content/ann\"\n",
        "\n",
        "# File within this directory will be named ${book_id}.entities, ${book_id}.tokens, etc.\n",
        "book_id=files_txt[i]\n",
        "\n",
        "booknlp.process(input_file, output_directory, book_id)"
      ],
      "metadata": {
        "id": "nmt9ta_63WJ9",
        "colab": {
          "base_uri": "https://localhost:8080/",
          "height": 240
        },
        "outputId": "74a90529-9a5c-4011-8661-4bfb42fc69a8"
      },
      "execution_count": null,
      "outputs": [
        {
          "output_type": "error",
          "ename": "IndexError",
          "evalue": "ignored",
          "traceback": [
            "\u001b[0;31m---------------------------------------------------------------------------\u001b[0m",
            "\u001b[0;31mIndexError\u001b[0m                                Traceback (most recent call last)",
            "\u001b[0;32m<ipython-input-81-e85a68b19187>\u001b[0m in \u001b[0;36m<module>\u001b[0;34m\u001b[0m\n\u001b[1;32m      1\u001b[0m \u001b[0mi\u001b[0m \u001b[0;34m=\u001b[0m \u001b[0;36m55\u001b[0m\u001b[0;34m\u001b[0m\u001b[0;34m\u001b[0m\u001b[0m\n\u001b[1;32m      2\u001b[0m \u001b[0;34m\u001b[0m\u001b[0m\n\u001b[0;32m----> 3\u001b[0;31m \u001b[0minput_file\u001b[0m\u001b[0;34m=\u001b[0m \u001b[0mpath\u001b[0m \u001b[0;34m+\u001b[0m \u001b[0mfiles_txt\u001b[0m\u001b[0;34m[\u001b[0m\u001b[0mi\u001b[0m\u001b[0;34m]\u001b[0m\u001b[0;34m\u001b[0m\u001b[0;34m\u001b[0m\u001b[0m\n\u001b[0m\u001b[1;32m      4\u001b[0m \u001b[0;34m\u001b[0m\u001b[0m\n\u001b[1;32m      5\u001b[0m \u001b[0;31m# Output directory to store resulting files in\u001b[0m\u001b[0;34m\u001b[0m\u001b[0;34m\u001b[0m\u001b[0;34m\u001b[0m\u001b[0m\n",
            "\u001b[0;31mIndexError\u001b[0m: list index out of range"
          ]
        }
      ]
    },
    {
      "cell_type": "code",
      "source": [
        "path1 = '/content/ann/' \n",
        "files1 = os.listdir(path1)\n",
        "\n",
        "files1\n",
        "\n",
        "files_txt1 = [i for i in files if i.endswith('.entities')]\n",
        "files_txt1"
      ],
      "metadata": {
        "id": "qVx4Q-AhXfEy"
      },
      "execution_count": null,
      "outputs": []
    },
    {
      "cell_type": "code",
      "source": [
        "!zip -r /content/ann.zip /content/ann/\n",
        "download('/content/ann.zip')"
      ],
      "metadata": {
        "colab": {
          "base_uri": "https://localhost:8080/",
          "height": 1000
        },
        "id": "yISle5iMbNPP",
        "outputId": "8b81c04a-74a4-4e04-af99-72267c7d3812"
      },
      "execution_count": null,
      "outputs": [
        {
          "output_type": "stream",
          "name": "stdout",
          "text": [
            "updating: content/ann/ (stored 0%)\n",
            "updating: content/ann/1-s2.0-S0167880906004324-main.txt.tokens (deflated 71%)\n",
            "updating: content/ann/AGSY_102907.ann (deflated 59%)\n",
            "updating: content/ann/Testing DayCent and DNDC model simulations of N2O fluxes and assessing the impacts of climate change on the gas flux and biomass production from a humid pasture.txt.tokens (deflated 70%)\n",
            "updating: content/ann/N510712PP.ann (deflated 68%)\n",
            "updating: content/ann/Testing DayCent and DNDC model simulations of N2O fluxes and assessing the impacts of climate change on the gas flux and biomass production from a humid pasture.ann (deflated 52%)\n",
            "updating: content/ann/1-s2.0-S0167880912003271-main.txt.tokens (deflated 70%)\n",
            "updating: content/ann/1-s2.0-S0167880921004291-main.txt.entities (deflated 65%)\n",
            "updating: content/ann/10.1007-s11367-014-0755-9.txt.tokens (deflated 71%)\n",
            "updating: content/ann/J of Env Quality - 1999 - Yamulki - Methane Emission and Uptake from Soils as Influenced by Excreta Deposition from Grazing.txt.tokens (deflated 70%)\n",
            "updating: content/ann/bg-14-2069-2017.txt.tokens (deflated 71%)\n",
            "updating: content/ann/Rafique2011_Article_NitrousOxideEmissionFromGrazed.ann (deflated 40%)\n",
            "updating: content/ann/1-s2.0-S0038071710004396-main.txt.tokens (deflated 71%)\n",
            "updating: content/ann/1-s2.0-S0038071797001454-main.txt.entities (deflated 61%)\n",
            "updating: content/ann/N510712PP.txt.entities (deflated 65%)\n",
            "updating: content/ann/1-s2.0-S0167880920301638-main.txt.tokens (deflated 71%)\n",
            "updating: content/ann/GCB-21-3036.txt.entities (deflated 64%)\n",
            "updating: content/ann/Effect of grazing intensity and soil characteristics on soil organic carbon and nitrogen stocks in a temperate long term grassland.txt.tokens (deflated 70%)\n",
            "updating: content/ann/Regenerative rotational grazing management of dairy sheep increases springtime grass production and .txt.tokens (deflated 71%)\n",
            "updating: content/ann/1-s2.0-S0167880921004291-main.txt.tokens (deflated 71%)\n",
            "updating: content/ann/1-s2.0-S0048969712011783-main.txt.tokens (deflated 71%)\n",
            "updating: content/ann/1-s2.0-S0959652617324125-main.txt.entities (deflated 63%)\n",
            "updating: content/ann/Ford_et_al._2012_Grazing_abandonment_pre_print_2.ann (deflated 76%)\n",
            "updating: content/ann/1-s2.0-003807179500092S-main.ann (deflated 43%)\n",
            "updating: content/ann/1-s2.0-S001670611200119X-main.entities (deflated 63%)\n",
            "updating: content/ann/280634.txt.tokens (deflated 70%)\n",
            "updating: content/ann/GCB-21-3036.txt.tokens (deflated 71%)\n",
            "updating: content/ann/AGSY_102907.txt.tokens (deflated 71%)\n",
            "updating: content/ann/1-s2.0-0038071795001867-main.tokens (deflated 70%)\n",
            "updating: content/ann/1-s2.0-S0167880919304013-main.ann (deflated 44%)\n",
            "updating: content/ann/European J Soil Science - 2020 - Zani - Grazed temporary grass%E2%80%90clover leys in crop rotations can have a positive impact on.txt.tokens (deflated 71%)\n",
            "updating: content/ann/1-s2.0-0038071795001867-main.ann (deflated 54%)\n",
            "updating: content/ann/1-s2.0-S0167880916305345-main.ann (deflated 53%)\n",
            "updating: content/ann/1-s2.0-S0016706114001761-main.txt.tokens (deflated 71%)\n",
            "updating: content/ann/1-s2.0-0038071795001867-main.txt.entities (deflated 58%)\n",
            "updating: content/ann/1-s2.0-S0167880916300871-main.txt.entities (deflated 65%)\n",
            "updating: content/ann/1-s2.0-S0048969714017100-main.txt.entities (deflated 64%)\n",
            "updating: content/ann/1-s2.0-S0048969718325233-main.txt.tokens (deflated 70%)\n",
            "updating: content/ann/1-s2.0-S0959652617324125-main.txt.tokens (deflated 70%)\n",
            "updating: content/ann/1-s2.0-S0048969722023051-main.txt.tokens (deflated 71%)\n",
            "updating: content/ann/Modeling of net ecosystem exchange and its components for a humid grassland ecosystem - Lawton - 200.ann (stored 0%)\n",
            "updating: content/ann/J of Env Quality - 1999 - Yamulki - Methane Emission and Uptake from Soils as Influenced by Excreta Deposition from Grazing.txt.entities (deflated 63%)\n",
            "updating: content/ann/1-s2.0-S0038071704003761-main.txt.entities (deflated 64%)\n",
            "updating: content/ann/1-s2.0-S0167880919304013-main.txt.entities (deflated 64%)\n",
            "updating: content/ann/Ford_et_al._2012_Grazing_abandonment_pre_print_2.txt.tokens (deflated 71%)\n",
            "updating: content/ann/1-s2.0-S0048969718325233-main.txt.entities (deflated 64%)\n",
            "updating: content/ann/1-s2.0-S001670611200119X-main.txt.entities (deflated 63%)\n",
            "updating: content/ann/1-s2.0-S0269749111006440-main.txt.entities (deflated 64%)\n",
            "updating: content/ann/plos1.txt.entities (deflated 61%)\n",
            "updating: content/ann/animals-10-01302.ann (deflated 80%)\n",
            "updating: content/ann/09596830094971.txt.tokens (deflated 70%)\n",
            "updating: content/ann/1-s2.0-026974919500009G-main.txt.entities (deflated 71%)\n",
            "updating: content/ann/1-s2.0-0038071795001867-main.txt.tokens (deflated 70%)\n",
            "updating: content/ann/s10705-006-9026-x.ann (deflated 17%)\n",
            "updating: content/ann/1-s2.0-S001670611200119X-main.txt.tokens (deflated 70%)\n",
            "updating: content/ann/1-s2.0-003807179500092S-main.tokens (deflated 69%)\n",
            "updating: content/ann/1-s2.0-S0016706114001761-main.txt.entities (deflated 64%)\n",
            "updating: content/ann/1-s2.0-S0167880912000849-main.txt.tokens (deflated 70%)\n",
            "updating: content/ann/European J Soil Science - 2020 - Zani - Grazed temporary grass%E2%80%90clover leys in crop rotations can have a positive impact on.ann (deflated 60%)\n",
            "updating: content/ann/1-s2.0-S0167880912000849-main.ann (deflated 57%)\n",
            "updating: content/ann/1-s2.0-S1751731112000316-main.txt.tokens (deflated 71%)\n",
            "updating: content/ann/Regenerative rotational grazing management of dairy sheep increases springtime grass production and .ann (deflated 52%)\n",
            "updating: content/ann/fevo-07-00151.ann (deflated 69%)\n",
            "updating: content/ann/1-s2.0-S0038071797001454-main.txt.tokens (deflated 70%)\n",
            "updating: content/ann/1-s2.0-S0921344921003736-main.ann (deflated 62%)\n",
            "updating: content/ann/1-s2.0-S001670611200119X-main.tokens (deflated 70%)\n",
            "updating: content/ann/280634.txt.entities (deflated 65%)\n",
            "updating: content/ann/1-s2.0-S0167880911004385-main.txt.tokens (deflated 70%)\n",
            "updating: content/ann/1-s2.0-S0167880914000309-main.ann (deflated 45%)\n",
            "updating: content/ann/bg-14-2069-2017.ann (deflated 59%)\n",
            "updating: content/ann/1-s2.0-S0167880919304013-main.txt.tokens (deflated 71%)\n",
            "updating: content/ann/European J Soil Science - 2017 - Johnston - Changes in soil organic matter over 70 years in continuous arable and ley.txt.entities (deflated 66%)\n",
            "updating: content/ann/Charteris et al_Final.ann (deflated 63%)\n",
            "updating: content/ann/agronomy-11-00558-v2.txt.tokens (deflated 70%)\n",
            "updating: content/ann/1-s2.0-S0167880921004291-main.ann (deflated 19%)\n",
            "updating: content/ann/European J Soil Science - 2020 - Zani - Grazed temporary grass%E2%80%90clover leys in crop rotations can have a positive impact on.txt.entities (deflated 64%)\n",
            "updating: content/ann/1-s2.0-026974919500009G-main.entities (deflated 71%)\n",
            "updating: content/ann/Regenerative rotational grazing management of dairy sheep increases springtime grass production and .txt.entities (deflated 60%)\n",
            "updating: content/ann/fevo-07-00151.txt.tokens (deflated 71%)\n",
            "updating: content/ann/GCB-21-3036.ann (deflated 80%)\n",
            "updating: content/ann/agronomy-11-00558-v2.ann (deflated 71%)\n",
            "updating: content/ann/09596830094971.txt.entities (deflated 64%)\n",
            "updating: content/ann/10.1007-s11367-014-0755-9.ann (deflated 30%)\n",
            "updating: content/ann/European J Soil Science - 2017 - Johnston - Changes in soil organic matter over 70 years in continuous arable and ley.txt.tokens (deflated 71%)\n",
            "updating: content/ann/1-s2.0-S1751731112000316-main.txt.entities (deflated 64%)\n",
            "updating: content/ann/1-s2.0-S0038071710004396-main.txt.entities (deflated 66%)\n",
            "updating: content/ann/1-s2.0-S0038071703002992-main.txt.tokens (deflated 70%)\n",
            "updating: content/ann/1-s2.0-S0167880916305345-main.txt.entities (deflated 63%)\n",
            "updating: content/ann/1-s2.0-S1751731112000316-main.ann (deflated 68%)\n",
            "updating: content/ann/A-1012654928177.txt.tokens (deflated 68%)\n",
            "updating: content/ann/J of Env Quality - 1999 - Yamulki - Methane Emission and Uptake from Soils as Influenced by Excreta Deposition from Grazing.ann (deflated 12%)\n",
            "updating: content/ann/Rafique2011_Article_NitrousOxideEmissionFromGrazed.txt.entities (deflated 66%)\n",
            "updating: content/ann/A-1012654928177.txt.entities (deflated 61%)\n",
            "updating: content/ann/European J Soil Science - 2017 - Johnston - Changes in soil organic matter over 70 years in continuous arable and ley.ann (deflated 72%)\n",
            "updating: content/ann/1-s2.0-S0167880912003271-main.txt.entities (deflated 63%)\n",
            "updating: content/ann/A-1012654928177.ann (deflated 68%)\n",
            "updating: content/ann/1-s2.0-S0038071797001454-main.ann (stored 0%)\n",
            "updating: content/ann/1-s2.0-026974919500009G-main.ann (stored 0%)\n",
            "updating: content/ann/1-s2.0-S0167880997000807-main.ann (stored 0%)\n",
            "updating: content/ann/1-s2.0-S0167880906004324-main.ann (deflated 52%)\n",
            "updating: content/ann/1-s2.0-S0921344921003736-main.txt.tokens (deflated 71%)\n",
            "updating: content/ann/1-s2.0-026974919500009G-main.tokens (deflated 72%)\n",
            "updating: content/ann/1-s2.0-S001670611200119X-main.ann (deflated 48%)\n",
            "updating: content/ann/Modeling of net ecosystem exchange and its components for a humid grassland ecosystem - Lawton - 200.txt.tokens (deflated 33%)\n",
            "updating: content/ann/1-s2.0-S0167880916300871-main.ann (deflated 65%)\n",
            "updating: content/ann/Effect of grazing intensity and soil characteristics on soil organic carbon and nitrogen stocks in a temperate long term grassland.txt.entities (deflated 60%)\n",
            "updating: content/ann/1-s2.0-S0921344921003736-main.txt.entities (deflated 64%)\n",
            "updating: content/ann/09596830094971.entities (deflated 64%)\n",
            "updating: content/ann/Journal of Geophysical Research  Biogeosciences - 2010 - Clay - Carbon budgets of an upland blanket bog managed by.ann (deflated 72%)\n",
            "updating: content/ann/1-s2.0-S0272771412003058-main.ann (deflated 73%)\n",
            "updating: content/ann/1-s2.0-S0048969718320837-main.ann (deflated 49%)\n",
            "updating: content/ann/1-s2.0-S0016706114001761-main.ann (deflated 52%)\n",
            "updating: content/ann/plos1.ann (deflated 60%)\n",
            "updating: content/ann/1-s2.0-S0959652617324125-main.ann (deflated 60%)\n",
            "updating: content/ann/1-s2.0-S0167880912000849-main.txt.entities (deflated 63%)\n",
            "updating: content/ann/10.1007-s11367-014-0755-9.txt.entities (deflated 63%)\n",
            "updating: content/ann/1-s2.0-003807179500092S-main.txt.entities (deflated 56%)\n",
            "updating: content/ann/09596830094971.ann (deflated 66%)\n",
            "updating: content/ann/1-s2.0-003807179500092S-main.entities (deflated 56%)\n",
            "updating: content/ann/Journal of Geophysical Research  Biogeosciences - 2010 - Clay - Carbon budgets of an upland blanket bog managed by.txt.tokens (deflated 71%)\n",
            "updating: content/ann/1-s2.0-S0167880916305345-main.txt.tokens (deflated 71%)\n",
            "updating: content/ann/Kolstad+et+al+2017_Cervid+exclusion+alters+boreal+forest+properties+with+little+cascading+impacts+on+soils.txt.entities (deflated 64%)\n",
            "updating: content/ann/280634.ann (deflated 63%)\n",
            "updating: content/ann/1-s2.0-S0167880911004385-main.txt.entities (deflated 62%)\n",
            "updating: content/ann/fevo-07-00151.txt.entities (deflated 64%)\n",
            "updating: content/ann/1-s2.0-S0048969722023051-main.txt.entities (deflated 64%)\n",
            "updating: content/ann/bg-14-2069-2017.txt.entities (deflated 64%)\n",
            "updating: content/ann/1-s2.0-S0167880911004385-main.ann (deflated 62%)\n",
            "updating: content/ann/agronomy-11-00558-v2.txt.entities (deflated 62%)\n",
            "updating: content/ann/1-s2.0-S0038071703002992-main.txt.entities (deflated 65%)\n",
            "updating: content/ann/1-s2.0-S0167880914000309-main.txt.entities (deflated 65%)\n",
            "updating: content/ann/Testing DayCent and DNDC model simulations of N2O fluxes and assessing the impacts of climate change on the gas flux and biomass production from a humid pasture.txt.entities (deflated 63%)\n",
            "updating: content/ann/1-s2.0-S0167880916300871-main.txt.tokens (deflated 71%)\n",
            "updating: content/ann/Ford_et_al._2012_Grazing_abandonment_pre_print_2.txt.entities (deflated 65%)\n",
            "updating: content/ann/1-s2.0-S0272771412003058-main.txt.entities (deflated 65%)\n",
            "updating: content/ann/1-s2.0-S0269749111006440-main.txt.tokens (deflated 71%)\n",
            "updating: content/ann/1-s2.0-S0167880997000807-main.txt.tokens (deflated 71%)\n",
            "updating: content/ann/N510712PP.txt.tokens (deflated 70%)\n",
            "updating: content/ann/AGSY_102907.txt.entities (deflated 61%)\n",
            "updating: content/ann/1-s2.0-S0048969712011783-main.ann (deflated 82%)\n",
            "updating: content/ann/Rafique2011_Article_NitrousOxideEmissionFromGrazed.txt.tokens (deflated 71%)\n",
            "updating: content/ann/s10705-006-9026-x.txt.entities (deflated 60%)\n",
            "updating: content/ann/s10705-006-9026-x.txt.tokens (deflated 70%)\n",
            "updating: content/ann/plos1.txt.tokens (deflated 70%)\n",
            "updating: content/ann/Kolstad+et+al+2017_Cervid+exclusion+alters+boreal+forest+properties+with+little+cascading+impacts+on+soils.ann (deflated 71%)\n",
            "updating: content/ann/1-s2.0-S0167880912003271-main.ann (deflated 68%)\n",
            "updating: content/ann/1-s2.0-003807179500092S-main.txt.tokens (deflated 69%)\n",
            "updating: content/ann/1-s2.0-S0048969714017100-main.txt.tokens (deflated 71%)\n",
            "updating: content/ann/1-s2.0-S0048969714017100-main.ann (deflated 43%)\n",
            "updating: content/ann/1-s2.0-S0167880920301638-main.ann (deflated 81%)\n",
            "updating: content/ann/1-s2.0-S0167880906004324-main.txt.entities (deflated 65%)\n",
            "updating: content/ann/09596830094971.tokens (deflated 70%)\n",
            "updating: content/ann/1-s2.0-S0038071704003761-main.txt.tokens (deflated 70%)\n",
            "updating: content/ann/1-s2.0-S0048969712011783-main.txt.entities (deflated 64%)\n",
            "updating: content/ann/1-s2.0-S0272771412003058-main.txt.tokens (deflated 71%)\n",
            "updating: content/ann/Journal of Geophysical Research  Biogeosciences - 2010 - Clay - Carbon budgets of an upland blanket bog managed by.txt.entities (deflated 65%)\n",
            "updating: content/ann/1-s2.0-S0048969722023051-main.ann (deflated 51%)\n",
            "updating: content/ann/Modeling of net ecosystem exchange and its components for a humid grassland ecosystem - Lawton - 200.txt.entities (deflated 10%)\n",
            "updating: content/ann/1-s2.0-S0167880920301638-main.txt.entities (deflated 64%)\n",
            "updating: content/ann/1-s2.0-026974919500009G-main.txt.tokens (deflated 72%)\n",
            "updating: content/ann/Effect of grazing intensity and soil characteristics on soil organic carbon and nitrogen stocks in a temperate long term grassland.ann (deflated 44%)\n",
            "updating: content/ann/1-s2.0-S0038071704003761-main.ann (deflated 73%)\n",
            "updating: content/ann/1-s2.0-0038071795001867-main.entities (deflated 58%)\n",
            "updating: content/ann/Kolstad+et+al+2017_Cervid+exclusion+alters+boreal+forest+properties+with+little+cascading+impacts+on+soils.txt.tokens (deflated 70%)\n",
            "updating: content/ann/1-s2.0-S0167880914000309-main.txt.tokens (deflated 71%)\n",
            "updating: content/ann/1-s2.0-S0038071703002992-main.ann (deflated 73%)\n",
            "updating: content/ann/1-s2.0-S0269749111006440-main.ann (stored 0%)\n",
            "updating: content/ann/1-s2.0-S0048969718325233-main.ann (deflated 81%)\n",
            "updating: content/ann/1-s2.0-S0167880997000807-main.txt.entities (deflated 72%)\n",
            "updating: content/ann/1-s2.0-S0038071710004396-main.ann (deflated 65%)\n"
          ]
        },
        {
          "output_type": "error",
          "ename": "NameError",
          "evalue": "ignored",
          "traceback": [
            "\u001b[0;31m---------------------------------------------------------------------------\u001b[0m",
            "\u001b[0;31mNameError\u001b[0m                                 Traceback (most recent call last)",
            "\u001b[0;32m<ipython-input-87-4f1af3205b20>\u001b[0m in \u001b[0;36m<module>\u001b[0;34m\u001b[0m\n\u001b[1;32m      1\u001b[0m \u001b[0mget_ipython\u001b[0m\u001b[0;34m(\u001b[0m\u001b[0;34m)\u001b[0m\u001b[0;34m.\u001b[0m\u001b[0msystem\u001b[0m\u001b[0;34m(\u001b[0m\u001b[0;34m'zip -r /content/ann.zip /content/ann/'\u001b[0m\u001b[0;34m)\u001b[0m\u001b[0;34m\u001b[0m\u001b[0;34m\u001b[0m\u001b[0m\n\u001b[0;32m----> 2\u001b[0;31m \u001b[0mdownload\u001b[0m\u001b[0;34m(\u001b[0m\u001b[0;34m'/content/ann.zip'\u001b[0m\u001b[0;34m)\u001b[0m\u001b[0;34m\u001b[0m\u001b[0;34m\u001b[0m\u001b[0m\n\u001b[0m",
            "\u001b[0;31mNameError\u001b[0m: name 'download' is not defined"
          ]
        }
      ]
    }
  ]
}