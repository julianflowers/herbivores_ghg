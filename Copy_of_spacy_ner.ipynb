{
  "nbformat": 4,
  "nbformat_minor": 0,
  "metadata": {
    "colab": {
      "name": "Copy of spacy_ner.ipynb",
      "provenance": [],
      "mount_file_id": "1L7ku04dSi2zjmjjnmp1pN4UFAjIvJoqK",
      "authorship_tag": "ABX9TyNhazqDnyq6u5HGw4DwIxAM",
      "include_colab_link": true
    },
    "kernelspec": {
      "name": "python3",
      "display_name": "Python 3"
    },
    "language_info": {
      "name": "python"
    }
  },
  "cells": [
    {
      "cell_type": "markdown",
      "metadata": {
        "id": "view-in-github",
        "colab_type": "text"
      },
      "source": [
        "<a href=\"https://colab.research.google.com/github/julianflowers/herbivores_ghg/blob/master/Copy_of_spacy_ner.ipynb\" target=\"_parent\"><img src=\"https://colab.research.google.com/assets/colab-badge.svg\" alt=\"Open In Colab\"/></a>"
      ]
    },
    {
      "cell_type": "markdown",
      "source": [
        "# Introduction\n",
        "\n",
        "This notebook outlines how to use natural language processing (NLP) to extract locations and numbers from documents\n",
        "\n",
        "It uses Python modules (like R packages) which are designed for NLP and find relevant information in texts. This process is known as *named entity recognition* (NER) and relies on language models - very large datasets of words which have been pre-grouped into categories (*trained*), and breaking down texts into words (*tokens*) which are then matched with these datasets and assigned a category if one is found. This process is called *annotation*. "
      ],
      "metadata": {
        "id": "Nw-5rM8MS6De"
      }
    },
    {
      "cell_type": "markdown",
      "source": [
        "## Getting started"
      ],
      "metadata": {
        "id": "zNfp6AsAUyM1"
      }
    },
    {
      "cell_type": "markdown",
      "source": [
        "The first step is install relevant packages and load them into Python. The gold standard NLP package is called `spacy` https://spacy.io/. We will also install a core language model which has been trained on the whole of wikipedia as well as other datasets like pubmed - this is called `en_core_web_lg` (**l**ar**g**e **en**glish core web-based model). "
      ],
      "metadata": {
        "id": "Nn0adO-5Uh2P"
      }
    },
    {
      "cell_type": "code",
      "execution_count": 2,
      "metadata": {
        "id": "vtLfL_JEQj0S",
        "outputId": "0cbdfce4-4ba9-4afa-a3cd-275b93496823",
        "colab": {
          "base_uri": "https://localhost:8080/",
          "height": 1000
        }
      },
      "outputs": [
        {
          "output_type": "stream",
          "name": "stdout",
          "text": [
            "Looking in indexes: https://pypi.org/simple, https://us-python.pkg.dev/colab-wheels/public/simple/\n",
            "Requirement already satisfied: spacy in /usr/local/lib/python3.7/dist-packages (3.3.1)\n",
            "Requirement already satisfied: murmurhash<1.1.0,>=0.28.0 in /usr/local/lib/python3.7/dist-packages (from spacy) (1.0.7)\n",
            "Requirement already satisfied: tqdm<5.0.0,>=4.38.0 in /usr/local/lib/python3.7/dist-packages (from spacy) (4.64.0)\n",
            "Requirement already satisfied: packaging>=20.0 in /usr/local/lib/python3.7/dist-packages (from spacy) (21.3)\n",
            "Requirement already satisfied: requests<3.0.0,>=2.13.0 in /usr/local/lib/python3.7/dist-packages (from spacy) (2.23.0)\n",
            "Requirement already satisfied: wasabi<1.1.0,>=0.9.1 in /usr/local/lib/python3.7/dist-packages (from spacy) (0.9.1)\n",
            "Requirement already satisfied: langcodes<4.0.0,>=3.2.0 in /usr/local/lib/python3.7/dist-packages (from spacy) (3.3.0)\n",
            "Requirement already satisfied: srsly<3.0.0,>=2.4.3 in /usr/local/lib/python3.7/dist-packages (from spacy) (2.4.3)\n",
            "Requirement already satisfied: cymem<2.1.0,>=2.0.2 in /usr/local/lib/python3.7/dist-packages (from spacy) (2.0.6)\n",
            "Requirement already satisfied: thinc<8.1.0,>=8.0.14 in /usr/local/lib/python3.7/dist-packages (from spacy) (8.0.17)\n",
            "Requirement already satisfied: numpy>=1.15.0 in /usr/local/lib/python3.7/dist-packages (from spacy) (1.21.6)\n",
            "Requirement already satisfied: blis<0.8.0,>=0.4.0 in /usr/local/lib/python3.7/dist-packages (from spacy) (0.7.8)\n",
            "Requirement already satisfied: catalogue<2.1.0,>=2.0.6 in /usr/local/lib/python3.7/dist-packages (from spacy) (2.0.7)\n",
            "Requirement already satisfied: typer<0.5.0,>=0.3.0 in /usr/local/lib/python3.7/dist-packages (from spacy) (0.4.2)\n",
            "Requirement already satisfied: pathy>=0.3.5 in /usr/local/lib/python3.7/dist-packages (from spacy) (0.6.2)\n",
            "Requirement already satisfied: setuptools in /usr/local/lib/python3.7/dist-packages (from spacy) (57.4.0)\n",
            "Requirement already satisfied: spacy-loggers<2.0.0,>=1.0.0 in /usr/local/lib/python3.7/dist-packages (from spacy) (1.0.2)\n",
            "Requirement already satisfied: jinja2 in /usr/local/lib/python3.7/dist-packages (from spacy) (2.11.3)\n",
            "Requirement already satisfied: pydantic!=1.8,!=1.8.1,<1.9.0,>=1.7.4 in /usr/local/lib/python3.7/dist-packages (from spacy) (1.8.2)\n",
            "Requirement already satisfied: typing-extensions<4.2.0,>=3.7.4 in /usr/local/lib/python3.7/dist-packages (from spacy) (4.1.1)\n",
            "Requirement already satisfied: spacy-legacy<3.1.0,>=3.0.9 in /usr/local/lib/python3.7/dist-packages (from spacy) (3.0.9)\n",
            "Requirement already satisfied: preshed<3.1.0,>=3.0.2 in /usr/local/lib/python3.7/dist-packages (from spacy) (3.0.6)\n",
            "Requirement already satisfied: zipp>=0.5 in /usr/local/lib/python3.7/dist-packages (from catalogue<2.1.0,>=2.0.6->spacy) (3.8.0)\n",
            "Requirement already satisfied: pyparsing!=3.0.5,>=2.0.2 in /usr/local/lib/python3.7/dist-packages (from packaging>=20.0->spacy) (3.0.9)\n",
            "Requirement already satisfied: smart-open<6.0.0,>=5.2.1 in /usr/local/lib/python3.7/dist-packages (from pathy>=0.3.5->spacy) (5.2.1)\n",
            "Requirement already satisfied: idna<3,>=2.5 in /usr/local/lib/python3.7/dist-packages (from requests<3.0.0,>=2.13.0->spacy) (2.10)\n",
            "Requirement already satisfied: urllib3!=1.25.0,!=1.25.1,<1.26,>=1.21.1 in /usr/local/lib/python3.7/dist-packages (from requests<3.0.0,>=2.13.0->spacy) (1.24.3)\n",
            "Requirement already satisfied: certifi>=2017.4.17 in /usr/local/lib/python3.7/dist-packages (from requests<3.0.0,>=2.13.0->spacy) (2022.6.15)\n",
            "Requirement already satisfied: chardet<4,>=3.0.2 in /usr/local/lib/python3.7/dist-packages (from requests<3.0.0,>=2.13.0->spacy) (3.0.4)\n",
            "Requirement already satisfied: click<9.0.0,>=7.1.1 in /usr/local/lib/python3.7/dist-packages (from typer<0.5.0,>=0.3.0->spacy) (7.1.2)\n",
            "Requirement already satisfied: MarkupSafe>=0.23 in /usr/local/lib/python3.7/dist-packages (from jinja2->spacy) (2.0.1)\n",
            "Looking in indexes: https://pypi.org/simple, https://us-python.pkg.dev/colab-wheels/public/simple/\n",
            "Collecting en-core-web-lg==3.0.0\n",
            "  Downloading https://github.com/explosion/spacy-models/releases/download/en_core_web_lg-3.0.0/en_core_web_lg-3.0.0-py3-none-any.whl (778.8 MB)\n",
            "\u001b[K     |████████████████████████████████| 778.8 MB 19 kB/s \n",
            "\u001b[?25hCollecting spacy<3.1.0,>=3.0.0\n",
            "  Downloading spacy-3.0.8-cp37-cp37m-manylinux_2_17_x86_64.manylinux2014_x86_64.whl (5.8 MB)\n",
            "\u001b[K     |████████████████████████████████| 5.8 MB 4.4 MB/s \n",
            "\u001b[?25hRequirement already satisfied: pathy>=0.3.5 in /usr/local/lib/python3.7/dist-packages (from spacy<3.1.0,>=3.0.0->en-core-web-lg==3.0.0) (0.6.2)\n",
            "Requirement already satisfied: thinc<8.1.0,>=8.0.3 in /usr/local/lib/python3.7/dist-packages (from spacy<3.1.0,>=3.0.0->en-core-web-lg==3.0.0) (8.0.17)\n",
            "Requirement already satisfied: murmurhash<1.1.0,>=0.28.0 in /usr/local/lib/python3.7/dist-packages (from spacy<3.1.0,>=3.0.0->en-core-web-lg==3.0.0) (1.0.7)\n",
            "Requirement already satisfied: pydantic!=1.8,!=1.8.1,<1.9.0,>=1.7.4 in /usr/local/lib/python3.7/dist-packages (from spacy<3.1.0,>=3.0.0->en-core-web-lg==3.0.0) (1.8.2)\n",
            "Requirement already satisfied: tqdm<5.0.0,>=4.38.0 in /usr/local/lib/python3.7/dist-packages (from spacy<3.1.0,>=3.0.0->en-core-web-lg==3.0.0) (4.64.0)\n",
            "Collecting typer<0.4.0,>=0.3.0\n",
            "  Downloading typer-0.3.2-py3-none-any.whl (21 kB)\n",
            "Requirement already satisfied: packaging>=20.0 in /usr/local/lib/python3.7/dist-packages (from spacy<3.1.0,>=3.0.0->en-core-web-lg==3.0.0) (21.3)\n",
            "Collecting typing-extensions<4.0.0.0,>=3.7.4\n",
            "  Downloading typing_extensions-3.10.0.2-py3-none-any.whl (26 kB)\n",
            "Requirement already satisfied: spacy-legacy<3.1.0,>=3.0.5 in /usr/local/lib/python3.7/dist-packages (from spacy<3.1.0,>=3.0.0->en-core-web-lg==3.0.0) (3.0.9)\n",
            "Requirement already satisfied: requests<3.0.0,>=2.13.0 in /usr/local/lib/python3.7/dist-packages (from spacy<3.1.0,>=3.0.0->en-core-web-lg==3.0.0) (2.23.0)\n",
            "Requirement already satisfied: preshed<3.1.0,>=3.0.2 in /usr/local/lib/python3.7/dist-packages (from spacy<3.1.0,>=3.0.0->en-core-web-lg==3.0.0) (3.0.6)\n",
            "Requirement already satisfied: blis<0.8.0,>=0.4.0 in /usr/local/lib/python3.7/dist-packages (from spacy<3.1.0,>=3.0.0->en-core-web-lg==3.0.0) (0.7.8)\n",
            "Requirement already satisfied: wasabi<1.1.0,>=0.8.1 in /usr/local/lib/python3.7/dist-packages (from spacy<3.1.0,>=3.0.0->en-core-web-lg==3.0.0) (0.9.1)\n",
            "Requirement already satisfied: jinja2 in /usr/local/lib/python3.7/dist-packages (from spacy<3.1.0,>=3.0.0->en-core-web-lg==3.0.0) (2.11.3)\n",
            "Requirement already satisfied: catalogue<2.1.0,>=2.0.4 in /usr/local/lib/python3.7/dist-packages (from spacy<3.1.0,>=3.0.0->en-core-web-lg==3.0.0) (2.0.7)\n",
            "Requirement already satisfied: cymem<2.1.0,>=2.0.2 in /usr/local/lib/python3.7/dist-packages (from spacy<3.1.0,>=3.0.0->en-core-web-lg==3.0.0) (2.0.6)\n",
            "Requirement already satisfied: numpy>=1.15.0 in /usr/local/lib/python3.7/dist-packages (from spacy<3.1.0,>=3.0.0->en-core-web-lg==3.0.0) (1.21.6)\n",
            "Requirement already satisfied: srsly<3.0.0,>=2.4.1 in /usr/local/lib/python3.7/dist-packages (from spacy<3.1.0,>=3.0.0->en-core-web-lg==3.0.0) (2.4.3)\n",
            "Requirement already satisfied: setuptools in /usr/local/lib/python3.7/dist-packages (from spacy<3.1.0,>=3.0.0->en-core-web-lg==3.0.0) (57.4.0)\n",
            "Requirement already satisfied: zipp>=0.5 in /usr/local/lib/python3.7/dist-packages (from catalogue<2.1.0,>=2.0.4->spacy<3.1.0,>=3.0.0->en-core-web-lg==3.0.0) (3.8.0)\n",
            "Requirement already satisfied: pyparsing!=3.0.5,>=2.0.2 in /usr/local/lib/python3.7/dist-packages (from packaging>=20.0->spacy<3.1.0,>=3.0.0->en-core-web-lg==3.0.0) (3.0.9)\n",
            "Requirement already satisfied: smart-open<6.0.0,>=5.2.1 in /usr/local/lib/python3.7/dist-packages (from pathy>=0.3.5->spacy<3.1.0,>=3.0.0->en-core-web-lg==3.0.0) (5.2.1)\n",
            "Requirement already satisfied: idna<3,>=2.5 in /usr/local/lib/python3.7/dist-packages (from requests<3.0.0,>=2.13.0->spacy<3.1.0,>=3.0.0->en-core-web-lg==3.0.0) (2.10)\n",
            "Requirement already satisfied: chardet<4,>=3.0.2 in /usr/local/lib/python3.7/dist-packages (from requests<3.0.0,>=2.13.0->spacy<3.1.0,>=3.0.0->en-core-web-lg==3.0.0) (3.0.4)\n",
            "Requirement already satisfied: certifi>=2017.4.17 in /usr/local/lib/python3.7/dist-packages (from requests<3.0.0,>=2.13.0->spacy<3.1.0,>=3.0.0->en-core-web-lg==3.0.0) (2022.6.15)\n",
            "Requirement already satisfied: urllib3!=1.25.0,!=1.25.1,<1.26,>=1.21.1 in /usr/local/lib/python3.7/dist-packages (from requests<3.0.0,>=2.13.0->spacy<3.1.0,>=3.0.0->en-core-web-lg==3.0.0) (1.24.3)\n",
            "Requirement already satisfied: click<7.2.0,>=7.1.1 in /usr/local/lib/python3.7/dist-packages (from typer<0.4.0,>=0.3.0->spacy<3.1.0,>=3.0.0->en-core-web-lg==3.0.0) (7.1.2)\n",
            "Requirement already satisfied: MarkupSafe>=0.23 in /usr/local/lib/python3.7/dist-packages (from jinja2->spacy<3.1.0,>=3.0.0->en-core-web-lg==3.0.0) (2.0.1)\n",
            "Installing collected packages: typing-extensions, typer, spacy, en-core-web-lg\n",
            "  Attempting uninstall: typing-extensions\n",
            "    Found existing installation: typing-extensions 4.1.1\n",
            "    Uninstalling typing-extensions-4.1.1:\n",
            "      Successfully uninstalled typing-extensions-4.1.1\n",
            "  Attempting uninstall: typer\n",
            "    Found existing installation: typer 0.4.2\n",
            "    Uninstalling typer-0.4.2:\n",
            "      Successfully uninstalled typer-0.4.2\n",
            "  Attempting uninstall: spacy\n",
            "    Found existing installation: spacy 3.3.1\n",
            "    Uninstalling spacy-3.3.1:\n",
            "      Successfully uninstalled spacy-3.3.1\n",
            "\u001b[31mERROR: pip's dependency resolver does not currently take into account all the packages that are installed. This behaviour is the source of the following dependency conflicts.\n",
            "en-core-web-sm 3.3.0 requires spacy<3.4.0,>=3.3.0.dev0, but you have spacy 3.0.8 which is incompatible.\u001b[0m\n",
            "Successfully installed en-core-web-lg-3.0.0 spacy-3.0.8 typer-0.3.2 typing-extensions-3.10.0.2\n"
          ]
        },
        {
          "output_type": "display_data",
          "data": {
            "application/vnd.colab-display-data+json": {
              "pip_warning": {
                "packages": [
                  "spacy",
                  "typing_extensions"
                ]
              }
            }
          },
          "metadata": {}
        }
      ],
      "source": [
        "! pip install spacy\n",
        "import spacy\n",
        "from spacy import displacy\n",
        "!pip install https://github.com/explosion/spacy-models/releases/download/en_core_web_lg-3.0.0/en_core_web_lg-3.0.0-py3-none-any.whl\n"
      ]
    },
    {
      "cell_type": "markdown",
      "source": [
        "We'll also install `spacypdfreader` - which unsurpisingly reads pdfs into the colab python environment"
      ],
      "metadata": {
        "id": "xyg_A53sV2mJ"
      }
    },
    {
      "cell_type": "markdown",
      "source": [
        ""
      ],
      "metadata": {
        "id": "eJCohYXXTQl4"
      }
    },
    {
      "cell_type": "code",
      "source": [
        "!pip install spacypdfreader\n"
      ],
      "metadata": {
        "id": "0e_0TCraTE8Y",
        "outputId": "5801e5aa-c297-4efd-c358-b2459744b5cf",
        "colab": {
          "base_uri": "https://localhost:8080/"
        }
      },
      "execution_count": 3,
      "outputs": [
        {
          "output_type": "stream",
          "name": "stdout",
          "text": [
            "Looking in indexes: https://pypi.org/simple, https://us-python.pkg.dev/colab-wheels/public/simple/\n",
            "Collecting spacypdfreader\n",
            "  Downloading spacypdfreader-0.2.1-py3-none-any.whl (9.4 kB)\n",
            "Requirement already satisfied: spacy<4.0.0,>=3.0.0 in /usr/local/lib/python3.7/dist-packages (from spacypdfreader) (3.0.8)\n",
            "Collecting rich<11.0.0,>=10.15.2\n",
            "  Downloading rich-10.16.2-py3-none-any.whl (214 kB)\n",
            "\u001b[K     |████████████████████████████████| 214 kB 5.1 MB/s \n",
            "\u001b[?25hCollecting pdfminer.six<20211013,>=20211012\n",
            "  Downloading pdfminer.six-20211012-py3-none-any.whl (5.6 MB)\n",
            "\u001b[K     |████████████████████████████████| 5.6 MB 65.4 MB/s \n",
            "\u001b[?25hCollecting cryptography\n",
            "  Downloading cryptography-37.0.4-cp36-abi3-manylinux_2_24_x86_64.whl (4.1 MB)\n",
            "\u001b[K     |████████████████████████████████| 4.1 MB 35.8 MB/s \n",
            "\u001b[?25hRequirement already satisfied: chardet in /usr/local/lib/python3.7/dist-packages (from pdfminer.six<20211013,>=20211012->spacypdfreader) (3.0.4)\n",
            "Requirement already satisfied: typing-extensions<5.0,>=3.7.4 in /usr/local/lib/python3.7/dist-packages (from rich<11.0.0,>=10.15.2->spacypdfreader) (3.10.0.2)\n",
            "Requirement already satisfied: pygments<3.0.0,>=2.6.0 in /usr/local/lib/python3.7/dist-packages (from rich<11.0.0,>=10.15.2->spacypdfreader) (2.6.1)\n",
            "Collecting commonmark<0.10.0,>=0.9.0\n",
            "  Downloading commonmark-0.9.1-py2.py3-none-any.whl (51 kB)\n",
            "\u001b[K     |████████████████████████████████| 51 kB 6.2 MB/s \n",
            "\u001b[?25hCollecting colorama<0.5.0,>=0.4.0\n",
            "  Downloading colorama-0.4.5-py2.py3-none-any.whl (16 kB)\n",
            "Requirement already satisfied: spacy-legacy<3.1.0,>=3.0.5 in /usr/local/lib/python3.7/dist-packages (from spacy<4.0.0,>=3.0.0->spacypdfreader) (3.0.9)\n",
            "Requirement already satisfied: thinc<8.1.0,>=8.0.3 in /usr/local/lib/python3.7/dist-packages (from spacy<4.0.0,>=3.0.0->spacypdfreader) (8.0.17)\n",
            "Requirement already satisfied: requests<3.0.0,>=2.13.0 in /usr/local/lib/python3.7/dist-packages (from spacy<4.0.0,>=3.0.0->spacypdfreader) (2.23.0)\n",
            "Requirement already satisfied: jinja2 in /usr/local/lib/python3.7/dist-packages (from spacy<4.0.0,>=3.0.0->spacypdfreader) (2.11.3)\n",
            "Requirement already satisfied: preshed<3.1.0,>=3.0.2 in /usr/local/lib/python3.7/dist-packages (from spacy<4.0.0,>=3.0.0->spacypdfreader) (3.0.6)\n",
            "Requirement already satisfied: typer<0.4.0,>=0.3.0 in /usr/local/lib/python3.7/dist-packages (from spacy<4.0.0,>=3.0.0->spacypdfreader) (0.3.2)\n",
            "Requirement already satisfied: srsly<3.0.0,>=2.4.1 in /usr/local/lib/python3.7/dist-packages (from spacy<4.0.0,>=3.0.0->spacypdfreader) (2.4.3)\n",
            "Requirement already satisfied: pydantic!=1.8,!=1.8.1,<1.9.0,>=1.7.4 in /usr/local/lib/python3.7/dist-packages (from spacy<4.0.0,>=3.0.0->spacypdfreader) (1.8.2)\n",
            "Requirement already satisfied: cymem<2.1.0,>=2.0.2 in /usr/local/lib/python3.7/dist-packages (from spacy<4.0.0,>=3.0.0->spacypdfreader) (2.0.6)\n",
            "Requirement already satisfied: blis<0.8.0,>=0.4.0 in /usr/local/lib/python3.7/dist-packages (from spacy<4.0.0,>=3.0.0->spacypdfreader) (0.7.8)\n",
            "Requirement already satisfied: catalogue<2.1.0,>=2.0.4 in /usr/local/lib/python3.7/dist-packages (from spacy<4.0.0,>=3.0.0->spacypdfreader) (2.0.7)\n",
            "Requirement already satisfied: pathy>=0.3.5 in /usr/local/lib/python3.7/dist-packages (from spacy<4.0.0,>=3.0.0->spacypdfreader) (0.6.2)\n",
            "Requirement already satisfied: numpy>=1.15.0 in /usr/local/lib/python3.7/dist-packages (from spacy<4.0.0,>=3.0.0->spacypdfreader) (1.21.6)\n",
            "Requirement already satisfied: setuptools in /usr/local/lib/python3.7/dist-packages (from spacy<4.0.0,>=3.0.0->spacypdfreader) (57.4.0)\n",
            "Requirement already satisfied: wasabi<1.1.0,>=0.8.1 in /usr/local/lib/python3.7/dist-packages (from spacy<4.0.0,>=3.0.0->spacypdfreader) (0.9.1)\n",
            "Requirement already satisfied: murmurhash<1.1.0,>=0.28.0 in /usr/local/lib/python3.7/dist-packages (from spacy<4.0.0,>=3.0.0->spacypdfreader) (1.0.7)\n",
            "Requirement already satisfied: packaging>=20.0 in /usr/local/lib/python3.7/dist-packages (from spacy<4.0.0,>=3.0.0->spacypdfreader) (21.3)\n",
            "Requirement already satisfied: tqdm<5.0.0,>=4.38.0 in /usr/local/lib/python3.7/dist-packages (from spacy<4.0.0,>=3.0.0->spacypdfreader) (4.64.0)\n",
            "Requirement already satisfied: zipp>=0.5 in /usr/local/lib/python3.7/dist-packages (from catalogue<2.1.0,>=2.0.4->spacy<4.0.0,>=3.0.0->spacypdfreader) (3.8.0)\n",
            "Requirement already satisfied: pyparsing!=3.0.5,>=2.0.2 in /usr/local/lib/python3.7/dist-packages (from packaging>=20.0->spacy<4.0.0,>=3.0.0->spacypdfreader) (3.0.9)\n",
            "Requirement already satisfied: smart-open<6.0.0,>=5.2.1 in /usr/local/lib/python3.7/dist-packages (from pathy>=0.3.5->spacy<4.0.0,>=3.0.0->spacypdfreader) (5.2.1)\n",
            "Requirement already satisfied: idna<3,>=2.5 in /usr/local/lib/python3.7/dist-packages (from requests<3.0.0,>=2.13.0->spacy<4.0.0,>=3.0.0->spacypdfreader) (2.10)\n",
            "Requirement already satisfied: certifi>=2017.4.17 in /usr/local/lib/python3.7/dist-packages (from requests<3.0.0,>=2.13.0->spacy<4.0.0,>=3.0.0->spacypdfreader) (2022.6.15)\n",
            "Requirement already satisfied: urllib3!=1.25.0,!=1.25.1,<1.26,>=1.21.1 in /usr/local/lib/python3.7/dist-packages (from requests<3.0.0,>=2.13.0->spacy<4.0.0,>=3.0.0->spacypdfreader) (1.24.3)\n",
            "Requirement already satisfied: click<7.2.0,>=7.1.1 in /usr/local/lib/python3.7/dist-packages (from typer<0.4.0,>=0.3.0->spacy<4.0.0,>=3.0.0->spacypdfreader) (7.1.2)\n",
            "Requirement already satisfied: cffi>=1.12 in /usr/local/lib/python3.7/dist-packages (from cryptography->pdfminer.six<20211013,>=20211012->spacypdfreader) (1.15.1)\n",
            "Requirement already satisfied: pycparser in /usr/local/lib/python3.7/dist-packages (from cffi>=1.12->cryptography->pdfminer.six<20211013,>=20211012->spacypdfreader) (2.21)\n",
            "Requirement already satisfied: MarkupSafe>=0.23 in /usr/local/lib/python3.7/dist-packages (from jinja2->spacy<4.0.0,>=3.0.0->spacypdfreader) (2.0.1)\n",
            "Installing collected packages: cryptography, commonmark, colorama, rich, pdfminer.six, spacypdfreader\n",
            "Successfully installed colorama-0.4.5 commonmark-0.9.1 cryptography-37.0.4 pdfminer.six-20211012 rich-10.16.2 spacypdfreader-0.2.1\n"
          ]
        }
      ]
    },
    {
      "cell_type": "code",
      "source": [
        "from spacypdfreader import pdf_reader"
      ],
      "metadata": {
        "id": "UwolNSHOTSO3"
      },
      "execution_count": 4,
      "outputs": []
    },
    {
      "cell_type": "markdown",
      "source": [
        "And finally we can upload some files to process..."
      ],
      "metadata": {
        "id": "UIccsAsqWK67"
      }
    },
    {
      "cell_type": "code",
      "source": [
        "from google.colab import files\n",
        "\n",
        "uploaded = files.upload()"
      ],
      "metadata": {
        "colab": {
          "base_uri": "https://localhost:8080/",
          "resources": {
            "http://localhost:8080/nbextensions/google.colab/files.js": {
              "data": "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",
              "ok": true,
              "headers": [
                [
                  "content-type",
                  "application/javascript"
                ]
              ],
              "status": 200,
              "status_text": ""
            }
          },
          "height": 214
        },
        "id": "Ju_hQoj-cVy7",
        "outputId": "4c0383d3-596f-4578-e1d9-27782bb70ae6"
      },
      "execution_count": 5,
      "outputs": [
        {
          "output_type": "display_data",
          "data": {
            "text/plain": [
              "<IPython.core.display.HTML object>"
            ],
            "text/html": [
              "\n",
              "     <input type=\"file\" id=\"files-9de3cc05-2516-4a0a-a003-a503442b2869\" name=\"files[]\" multiple disabled\n",
              "        style=\"border:none\" />\n",
              "     <output id=\"result-9de3cc05-2516-4a0a-a003-a503442b2869\">\n",
              "      Upload widget is only available when the cell has been executed in the\n",
              "      current browser session. Please rerun this cell to enable.\n",
              "      </output>\n",
              "      <script src=\"/nbextensions/google.colab/files.js\"></script> "
            ]
          },
          "metadata": {}
        },
        {
          "output_type": "stream",
          "name": "stdout",
          "text": [
            "Saving The Legacy of Destructive Snow Goose Foraging on Supratidal Marsh Habitat in the Hudson Bay Lowlands.pdf to The Legacy of Destructive Snow Goose Foraging on Supratidal Marsh Habitat in the Hudson Bay Lowlands.pdf\n",
            "Saving Abdalla et al. 2009 N2O Ireland (1).pdf to Abdalla et al. 2009 N2O Ireland (1).pdf\n",
            "Saving Allard et al. 2007 CO2 N2O CH4 France (1).pdf to Allard et al. 2007 CO2 N2O CH4 France (1).pdf\n"
          ]
        }
      ]
    },
    {
      "cell_type": "markdown",
      "source": [
        "## Named entity recognition\n",
        "\n",
        "We need to load the language model. The large model has 18 categories. Of most interest will probably be:\n",
        "\n",
        "\n",
        "*   CARDINAL - numbers\n",
        "*   GPE - geopolitical entities (e.g. countries)\n",
        "*    LOC - non-GPE locations\n",
        "*   DATE\n",
        "*  PERS\n",
        "*  ORG\n",
        "\n",
        "\n",
        "\n",
        "\n",
        "\n",
        "\n",
        "\n",
        "\n",
        "\n"
      ],
      "metadata": {
        "id": "F7MqGC2bWYGb"
      }
    },
    {
      "cell_type": "code",
      "source": [
        "ner = spacy.load(\"en_core_web_lg\")\n"
      ],
      "metadata": {
        "id": "N1VQUpusQtQk",
        "colab": {
          "base_uri": "https://localhost:8080/"
        },
        "outputId": "5cb60c27-2adc-41da-fb88-59a6c5567425"
      },
      "execution_count": 6,
      "outputs": [
        {
          "output_type": "stream",
          "name": "stderr",
          "text": [
            "/usr/local/lib/python3.7/dist-packages/spacy/util.py:837: UserWarning: [W095] Model 'en_core_web_lg' (3.0.0) was trained with spaCy v3.0 and may not be 100% compatible with the current version (3.3.1). If you see errors or degraded performance, download a newer compatible model or retrain your custom model with the current spaCy version. For more details and available updates, run: python -m spacy validate\n",
            "  message = f\"Error running command:\\n\\n{cmd_str}\\n\\n\"\n"
          ]
        }
      ]
    },
    {
      "cell_type": "markdown",
      "source": [
        "Read in a pdf to a text object"
      ],
      "metadata": {
        "id": "Vlt3BmQqWg7B"
      }
    },
    {
      "cell_type": "code",
      "source": [
        "text = pdf_reader(\"/content/The Legacy of Destructive Snow Goose Foraging on Supratidal Marsh Habitat in the Hudson Bay Lowlands.pdf\", ner )"
      ],
      "metadata": {
        "id": "-rzeWQpIReYj"
      },
      "execution_count": 7,
      "outputs": []
    },
    {
      "cell_type": "code",
      "source": [
        "text"
      ],
      "metadata": {
        "id": "_I8QxyVyTrbp"
      },
      "execution_count": null,
      "outputs": []
    },
    {
      "cell_type": "markdown",
      "source": [
        "And run the code below to visualised how the NLP process has annotated the document"
      ],
      "metadata": {
        "id": "IKacPKEUWlsw"
      }
    },
    {
      "cell_type": "code",
      "source": [
        "displacy.render(text,style=\"ent\",jupyter=True)"
      ],
      "metadata": {
        "id": "1gJQq614WQaV"
      },
      "execution_count": null,
      "outputs": []
    },
    {
      "cell_type": "markdown",
      "source": [
        "or see a list of the named entities"
      ],
      "metadata": {
        "id": "9yTSmvVWWxEU"
      }
    },
    {
      "cell_type": "code",
      "source": [
        "ner(text)\n",
        "for entity in text.ents:\n",
        "    print(entity.text,entity.label_)"
      ],
      "metadata": {
        "id": "hbAMO57-RzAV"
      },
      "execution_count": null,
      "outputs": []
    },
    {
      "cell_type": "markdown",
      "source": [
        "Let's try another document"
      ],
      "metadata": {
        "id": "uORAXoloW1_M"
      }
    },
    {
      "cell_type": "code",
      "source": [
        "text1 = pdf_reader(\"/content/Allard et al. 2007 CO2 N2O CH4 France (1).pdf\", ner)"
      ],
      "metadata": {
        "id": "7rcwIHIpZUw6"
      },
      "execution_count": 14,
      "outputs": []
    },
    {
      "cell_type": "code",
      "source": [
        "displacy.render(text1,style=\"ent\",jupyter=True)"
      ],
      "metadata": {
        "id": "CMTkSQZOZtKe"
      },
      "execution_count": null,
      "outputs": []
    },
    {
      "cell_type": "markdown",
      "source": [
        "We can just extract the entities we need by creating a list of all the text annotated in the category of interest e.g. LOC"
      ],
      "metadata": {
        "id": "Clz5_-D9W62Y"
      }
    },
    {
      "cell_type": "code",
      "source": [
        "list_of_loc=[]\n",
        "\n",
        "# Appending entities which have the label 'LOC' to the list\n",
        "for entity in text1.ents:\n",
        "  if entity.label_=='LOC':\n",
        "    list_of_loc.append(entity.text)\n",
        "\n",
        "list_of_gpe=[]\n",
        "\n",
        "# Appending entities which have the label 'LOC' to the list\n",
        "for entity in text1.ents:\n",
        "  if entity.label_=='GPE':\n",
        "    list_of_gpe.append(entity.text)"
      ],
      "metadata": {
        "id": "Ne_XEZMzVLwz"
      },
      "execution_count": 16,
      "outputs": []
    },
    {
      "cell_type": "code",
      "source": [
        "list_of_loc"
      ],
      "metadata": {
        "colab": {
          "base_uri": "https://localhost:8080/"
        },
        "id": "zSEKW3gaal6b",
        "outputId": "722a5349-6a62-4d2f-eb33-c58c20761610"
      },
      "execution_count": 17,
      "outputs": [
        {
          "output_type": "execute_result",
          "data": {
            "text/plain": [
              "['Urals',\n",
              " 't3',\n",
              " 'Europe',\n",
              " 'the Last Glacial\\nMaximum',\n",
              " 'the U.K. Soil Biol',\n",
              " 'Europe',\n",
              " 'Europe',\n",
              " 'Europe',\n",
              " 'Breidt',\n",
              " 'Vuichard',\n",
              " 'Europe']"
            ]
          },
          "metadata": {},
          "execution_count": 17
        }
      ]
    },
    {
      "cell_type": "code",
      "source": [
        "list_of_gpe"
      ],
      "metadata": {
        "colab": {
          "base_uri": "https://localhost:8080/"
        },
        "id": "R-OmgxdVa34L",
        "outputId": "3ca11a2b-924d-4dd5-a40f-902e77e8973c"
      },
      "execution_count": 18,
      "outputs": [
        {
          "output_type": "execute_result",
          "data": {
            "text/plain": [
              "['Bre´zet',\n",
              " 'France',\n",
              " 'France',\n",
              " 'Le Roc',\n",
              " 'France',\n",
              " 'France',\n",
              " 'France',\n",
              " 'France',\n",
              " 'Andosol',\n",
              " 'France',\n",
              " 'Batjes',\n",
              " 'Hall',\n",
              " 'France',\n",
              " 'UK',\n",
              " 'USA',\n",
              " 'Fleach',\n",
              " 'Fleach',\n",
              " 'Retsch',\n",
              " 'Germany',\n",
              " 'Moss',\n",
              " 'Denmark',\n",
              " 'Magnugistics',\n",
              " 'USA',\n",
              " 'Batjes',\n",
              " 'Granli',\n",
              " 'Bockman',\n",
              " 'Jarvis',\n",
              " 'S.C.',\n",
              " 'Headon',\n",
              " 'A.',\n",
              " 'A.S.',\n",
              " 'P.H.',\n",
              " 'A.',\n",
              " 'Grunwald',\n",
              " 'Vesala',\n",
              " 'Batjes',\n",
              " 'N.H.',\n",
              " 'Batjes',\n",
              " 'N.H.',\n",
              " 'Soussana',\n",
              " 'J.F.',\n",
              " 'F.S.',\n",
              " 'Matson',\n",
              " 'H.A.',\n",
              " 'New York',\n",
              " 'A.',\n",
              " 'Ogee',\n",
              " 'Grunwald',\n",
              " 'B.',\n",
              " 'Knohl',\n",
              " 'Loustau',\n",
              " 'Miglietta',\n",
              " 'Ourcival',\n",
              " 'Pilegaard',\n",
              " 'Soussana',\n",
              " 'J.F.',\n",
              " 'McTaggart',\n",
              " 'I.P.',\n",
              " 'K.J.',\n",
              " 'J.-M.',\n",
              " 'Blanchart',\n",
              " 'M.C.',\n",
              " 'Ndandou',\n",
              " 'J.F.',\n",
              " 'Nutr',\n",
              " 'C.R.',\n",
              " 'K.J.',\n",
              " 'Ball',\n",
              " 'B.C.',\n",
              " 'Jolivot',\n",
              " 'Environ',\n",
              " 'W.A.',\n",
              " 'Gilmanov',\n",
              " 'Soussana',\n",
              " 'J.F.',\n",
              " 'Aires',\n",
              " 'Dore',\n",
              " 'Jacobs',\n",
              " 'Sutton',\n",
              " 'Environ',\n",
              " 'Bockman',\n",
              " 'O.C.',\n",
              " 'Essex',\n",
              " 'England',\n",
              " 'Tokyo',\n",
              " 'Japan',\n",
              " 'A.',\n",
              " 'Folberth',\n",
              " 'S.C.',\n",
              " 'Yamulki',\n",
              " 'Stauch',\n",
              " 'V.J.',\n",
              " 'Environ',\n",
              " 'Kirschbaum',\n",
              " 'M.U.F.',\n",
              " 'Canberra',\n",
              " 'Australia',\n",
              " 'Boca Raton',\n",
              " 'Berlin',\n",
              " 'L.P.',\n",
              " 'Netherlands',\n",
              " 'Katul',\n",
              " 'Ellsworth',\n",
              " 'US',\n",
              " 'R.L.',\n",
              " 'C.S.',\n",
              " 'Dhour',\n",
              " 'Jouany',\n",
              " 'Ecosyst',\n",
              " 'Environ',\n",
              " 'N.',\n",
              " 'Gilmanov',\n",
              " 'A.',\n",
              " 'Havrankova',\n",
              " 'Knohl',\n",
              " 'A.',\n",
              " 'Loustau',\n",
              " 'Miglietta',\n",
              " 'J.-M.',\n",
              " 'S.',\n",
              " 'Rotenberg',\n",
              " 'F.',\n",
              " 'Vesala',\n",
              " 'Yakir',\n",
              " 'J.M.O.',\n",
              " 'J.F.',\n",
              " 'Arrouays',\n",
              " 'J.F.',\n",
              " 'Pilegaard',\n",
              " 'P.',\n",
              " 'Amman',\n",
              " 'C.',\n",
              " 'Raschi',\n",
              " 'Ecosyst',\n",
              " 'Environ',\n",
              " 'K.R.',\n",
              " 'Aust',\n",
              " 'E.J.',\n",
              " 'Pilegaard',\n",
              " 'Grelle',\n",
              " 'A.S.',\n",
              " 'Vesala',\n",
              " 'Loustau',\n",
              " 'P.G.',\n",
              " 'J.A.',\n",
              " 'Schorran',\n",
              " 'D.W.',\n",
              " 'J.S.',\n",
              " 'Leuning']"
            ]
          },
          "metadata": {},
          "execution_count": 18
        }
      ]
    },
    {
      "cell_type": "code",
      "source": [
        "list_of_numbers=[]\n",
        "\n",
        "\n",
        "# Appending entities which have the label 'LOC' to the list\n",
        "for entity in text1.ents:\n",
        "  if entity.label_=='CARDINAL':\n",
        "    list_of_numbers.append(entity.text)\n",
        "\n",
        "list_of_numbers"
      ],
      "metadata": {
        "colab": {
          "base_uri": "https://localhost:8080/"
        },
        "id": "e-_jC2m-Lp6K",
        "outputId": "4a6495bd-71c2-4234-81ee-24c6ba9a40e8"
      },
      "execution_count": 19,
      "outputs": [
        {
          "output_type": "execute_result",
          "data": {
            "text/plain": [
              "['234',\n",
              " 'two',\n",
              " 'half',\n",
              " 'four',\n",
              " 'two',\n",
              " '97',\n",
              " '69',\n",
              " '89',\n",
              " '1',\n",
              " '1',\n",
              " '18',\n",
              " '48',\n",
              " '47–58',\n",
              " '0.52',\n",
              " '150 millions',\n",
              " 'two',\n",
              " 'One',\n",
              " 'half',\n",
              " 'two',\n",
              " '2',\n",
              " '2.1',\n",
              " '35',\n",
              " '7 8C',\n",
              " '0.7 8C',\n",
              " '14.8',\n",
              " '2.1.1',\n",
              " 'two',\n",
              " '2.81',\n",
              " 'half',\n",
              " '80',\n",
              " '174',\n",
              " 'three',\n",
              " '2.2',\n",
              " '47–58',\n",
              " 'two',\n",
              " '5–10',\n",
              " '2.3',\n",
              " '0.08',\n",
              " '2.4',\n",
              " 'Eight',\n",
              " 'two',\n",
              " 't0',\n",
              " '3400Cx',\n",
              " '2.5',\n",
              " 'Eight',\n",
              " 'seven',\n",
              " '2.6',\n",
              " '1',\n",
              " '50',\n",
              " '47–58',\n",
              " '2',\n",
              " '3',\n",
              " '4',\n",
              " '5',\n",
              " '127',\n",
              " '2',\n",
              " '3',\n",
              " '2.7',\n",
              " '50 8C',\n",
              " '2300',\n",
              " '2.8',\n",
              " '16',\n",
              " '1',\n",
              " '47–58',\n",
              " '51',\n",
              " '14',\n",
              " '1',\n",
              " '3',\n",
              " '3.1',\n",
              " '1',\n",
              " '1128',\n",
              " '2',\n",
              " '3',\n",
              " '1',\n",
              " '5',\n",
              " '8C',\n",
              " '1',\n",
              " '3.2',\n",
              " '2',\n",
              " '3',\n",
              " '1',\n",
              " 'about 4',\n",
              " 'half',\n",
              " '0.9',\n",
              " '2',\n",
              " '3',\n",
              " 'half',\n",
              " '1',\n",
              " '0.9',\n",
              " '106',\n",
              " '1',\n",
              " '1.2',\n",
              " '390',\n",
              " '0.5',\n",
              " '443',\n",
              " '0.5',\n",
              " '425',\n",
              " '391',\n",
              " '137',\n",
              " '1',\n",
              " '1',\n",
              " '3.3',\n",
              " '3',\n",
              " 'close to',\n",
              " '3',\n",
              " '2',\n",
              " '52',\n",
              " '47–58',\n",
              " '3',\n",
              " '3',\n",
              " '42',\n",
              " '91',\n",
              " '3',\n",
              " '2',\n",
              " '3',\n",
              " '2',\n",
              " '3',\n",
              " '3.4',\n",
              " 'between 100 and 150',\n",
              " '5B',\n",
              " '6',\n",
              " '3.5',\n",
              " '0.36',\n",
              " 'about two',\n",
              " '2',\n",
              " '37.2',\n",
              " '0.019',\n",
              " '0.003',\n",
              " '61.2',\n",
              " '0.013',\n",
              " '47–58',\n",
              " '5',\n",
              " '0.5',\n",
              " '0.1',\n",
              " '0.01',\n",
              " '9.8',\n",
              " '2',\n",
              " '3.6',\n",
              " 'about\\nhalf',\n",
              " '1',\n",
              " '3.7',\n",
              " '89',\n",
              " '6',\n",
              " '54',\n",
              " '47–58',\n",
              " 'eight',\n",
              " '8',\n",
              " '2',\n",
              " '37',\n",
              " 'three',\n",
              " '2',\n",
              " '4',\n",
              " 'two',\n",
              " 'half',\n",
              " 'two',\n",
              " '4.1',\n",
              " '47–58',\n",
              " '55',\n",
              " '2',\n",
              " 'two',\n",
              " '2',\n",
              " 'two',\n",
              " '75–99',\n",
              " '2',\n",
              " '4',\n",
              " '5–10',\n",
              " 'two',\n",
              " '2',\n",
              " '11',\n",
              " '5.5',\n",
              " '11',\n",
              " 'two',\n",
              " '4.2',\n",
              " '80',\n",
              " '140',\n",
              " '2',\n",
              " 'two',\n",
              " '2',\n",
              " '2',\n",
              " '150 and 60',\n",
              " '2',\n",
              " 'two',\n",
              " '6',\n",
              " '5B',\n",
              " '56',\n",
              " '47–58',\n",
              " '4.3',\n",
              " '2',\n",
              " 'eight',\n",
              " '82',\n",
              " '42',\n",
              " '2',\n",
              " '56',\n",
              " '0.1',\n",
              " '0.6',\n",
              " '0.4',\n",
              " '2',\n",
              " '3',\n",
              " '5',\n",
              " 'three',\n",
              " '348',\n",
              " '711–714',\n",
              " '63',\n",
              " '219–230',\n",
              " '47–58',\n",
              " '28',\n",
              " '30',\n",
              " '151–163',\n",
              " '27',\n",
              " '230–235',\n",
              " '437',\n",
              " '113',\n",
              " '53–74',\n",
              " '113',\n",
              " '19–31',\n",
              " '121',\n",
              " '135–152',\n",
              " '108',\n",
              " '121',\n",
              " '12',\n",
              " '300',\n",
              " '41',\n",
              " 'two',\n",
              " '10',\n",
              " '939–950',\n",
              " '28',\n",
              " '359–362',\n",
              " '439',\n",
              " '103–110',\n",
              " '659–668',\n",
              " '4',\n",
              " '423–430',\n",
              " '3–43',\n",
              " '2',\n",
              " '259–274',\n",
              " '1521–1542',\n",
              " '1–12',\n",
              " '2',\n",
              " '121',\n",
              " '30–46',\n",
              " '58',\n",
              " '47–58',\n",
              " '11',\n",
              " '1424–1439',\n",
              " '4',\n",
              " '229–233',\n",
              " '302',\n",
              " '20',\n",
              " 'nine',\n",
              " '121',\n",
              " '121–134',\n",
              " '7',\n",
              " '279–289',\n",
              " '50',\n",
              " '1329–1334',\n",
              " 'two',\n",
              " 'ecosys-',\n",
              " '10',\n",
              " '498–508',\n",
              " '8',\n",
              " '519–530',\n",
              " '106',\n",
              " '85–100']"
            ]
          },
          "metadata": {},
          "execution_count": 19
        }
      ]
    },
    {
      "cell_type": "markdown",
      "source": [
        "and then we can write these lists to text files which we can open in Excel (or R) for further analysis or filtering."
      ],
      "metadata": {
        "id": "H4nPyemyX93v"
      }
    },
    {
      "cell_type": "code",
      "source": [
        "names = list_of_numbers\n",
        "with open(\"numbers.txt\", mode=\"w\") as file:\n",
        "    file.write(\"\\n\".join(names))\n",
        "\n",
        "locs = list_of_loc\n",
        "with open(\"locs.txt\", mode='w') as file:\n",
        "     file.write(\"\\n\".join(locs))"
      ],
      "metadata": {
        "id": "EhvEakPfOylp"
      },
      "execution_count": 20,
      "outputs": []
    }
  ]
}