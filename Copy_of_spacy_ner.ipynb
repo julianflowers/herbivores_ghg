{
  "nbformat": 4,
  "nbformat_minor": 0,
  "metadata": {
    "colab": {
      "name": "Copy of spacy_ner.ipynb",
      "provenance": [],
      "mount_file_id": "1L7ku04dSi2zjmjjnmp1pN4UFAjIvJoqK",
      "authorship_tag": "ABX9TyMn8zvJa6NkPWFhAJTzAi5Y",
      "include_colab_link": true
    },
    "kernelspec": {
      "name": "python3",
      "display_name": "Python 3"
    },
    "language_info": {
      "name": "python"
    }
  },
  "cells": [
    {
      "cell_type": "markdown",
      "metadata": {
        "id": "view-in-github",
        "colab_type": "text"
      },
      "source": [
        "<a href=\"https://colab.research.google.com/github/julianflowers/herbivores_ghg/blob/master/Copy_of_spacy_ner.ipynb\" target=\"_parent\"><img src=\"https://colab.research.google.com/assets/colab-badge.svg\" alt=\"Open In Colab\"/></a>"
      ]
    },
    {
      "cell_type": "code",
      "execution_count": null,
      "metadata": {
        "id": "vtLfL_JEQj0S"
      },
      "outputs": [],
      "source": [
        "import spacy\n",
        "from spacy import displacy\n",
        "!pip install https://github.com/explosion/spacy-models/releases/download/en_core_web_lg-3.0.0/en_core_web_lg-3.0.0-py3-none-any.whl\n"
      ]
    },
    {
      "cell_type": "code",
      "source": [
        "!pip install spacypdfreader\n"
      ],
      "metadata": {
        "id": "0e_0TCraTE8Y"
      },
      "execution_count": null,
      "outputs": []
    },
    {
      "cell_type": "code",
      "source": [
        "from spacypdfreader import pdf_reader"
      ],
      "metadata": {
        "id": "UwolNSHOTSO3"
      },
      "execution_count": 5,
      "outputs": []
    },
    {
      "cell_type": "code",
      "source": [
        "from google.colab import files\n",
        "uploaded = files.upload()"
      ],
      "metadata": {
        "id": "8U5qIzyRa66E",
        "outputId": "f5b7257e-dfe3-46a3-e041-51bf9e6ab228",
        "colab": {
          "resources": {
            "http://localhost:8080/nbextensions/google.colab/files.js": {
              "data": "Ly8gQ29weXJpZ2h0IDIwMTcgR29vZ2xlIExMQwovLwovLyBMaWNlbnNlZCB1bmRlciB0aGUgQXBhY2hlIExpY2Vuc2UsIFZlcnNpb24gMi4wICh0aGUgIkxpY2Vuc2UiKTsKLy8geW91IG1heSBub3QgdXNlIHRoaXMgZmlsZSBleGNlcHQgaW4gY29tcGxpYW5jZSB3aXRoIHRoZSBMaWNlbnNlLgovLyBZb3UgbWF5IG9idGFpbiBhIGNvcHkgb2YgdGhlIExpY2Vuc2UgYXQKLy8KLy8gICAgICBodHRwOi8vd3d3LmFwYWNoZS5vcmcvbGljZW5zZXMvTElDRU5TRS0yLjAKLy8KLy8gVW5sZXNzIHJlcXVpcmVkIGJ5IGFwcGxpY2FibGUgbGF3IG9yIGFncmVlZCB0byBpbiB3cml0aW5nLCBzb2Z0d2FyZQovLyBkaXN0cmlidXRlZCB1bmRlciB0aGUgTGljZW5zZSBpcyBkaXN0cmlidXRlZCBvbiBhbiAiQVMgSVMiIEJBU0lTLAovLyBXSVRIT1VUIFdBUlJBTlRJRVMgT1IgQ09ORElUSU9OUyBPRiBBTlkgS0lORCwgZWl0aGVyIGV4cHJlc3Mgb3IgaW1wbGllZC4KLy8gU2VlIHRoZSBMaWNlbnNlIGZvciB0aGUgc3BlY2lmaWMgbGFuZ3VhZ2UgZ292ZXJuaW5nIHBlcm1pc3Npb25zIGFuZAovLyBsaW1pdGF0aW9ucyB1bmRlciB0aGUgTGljZW5zZS4KCi8qKgogKiBAZmlsZW92ZXJ2aWV3IEhlbHBlcnMgZm9yIGdvb2dsZS5jb2xhYiBQeXRob24gbW9kdWxlLgogKi8KKGZ1bmN0aW9uKHNjb3BlKSB7CmZ1bmN0aW9uIHNwYW4odGV4dCwgc3R5bGVBdHRyaWJ1dGVzID0ge30pIHsKICBjb25zdCBlbGVtZW50ID0gZG9jdW1lbnQuY3JlYXRlRWxlbWVudCgnc3BhbicpOwogIGVsZW1lbnQudGV4dENvbnRlbnQgPSB0ZXh0OwogIGZvciAoY29uc3Qga2V5IG9mIE9iamVjdC5rZXlzKHN0eWxlQXR0cmlidXRlcykpIHsKICAgIGVsZW1lbnQuc3R5bGVba2V5XSA9IHN0eWxlQXR0cmlidXRlc1trZXldOwogIH0KICByZXR1cm4gZWxlbWVudDsKfQoKLy8gTWF4IG51bWJlciBvZiBieXRlcyB3aGljaCB3aWxsIGJlIHVwbG9hZGVkIGF0IGEgdGltZS4KY29uc3QgTUFYX1BBWUxPQURfU0laRSA9IDEwMCAqIDEwMjQ7CgpmdW5jdGlvbiBfdXBsb2FkRmlsZXMoaW5wdXRJZCwgb3V0cHV0SWQpIHsKICBjb25zdCBzdGVwcyA9IHVwbG9hZEZpbGVzU3RlcChpbnB1dElkLCBvdXRwdXRJZCk7CiAgY29uc3Qgb3V0cHV0RWxlbWVudCA9IGRvY3VtZW50LmdldEVsZW1lbnRCeUlkKG91dHB1dElkKTsKICAvLyBDYWNoZSBzdGVwcyBvbiB0aGUgb3V0cHV0RWxlbWVudCB0byBtYWtlIGl0IGF2YWlsYWJsZSBmb3IgdGhlIG5leHQgY2FsbAogIC8vIHRvIHVwbG9hZEZpbGVzQ29udGludWUgZnJvbSBQeXRob24uCiAgb3V0cHV0RWxlbWVudC5zdGVwcyA9IHN0ZXBzOwoKICByZXR1cm4gX3VwbG9hZEZpbGVzQ29udGludWUob3V0cHV0SWQpOwp9CgovLyBUaGlzIGlzIHJvdWdobHkgYW4gYXN5bmMgZ2VuZXJhdG9yIChub3Qgc3VwcG9ydGVkIGluIHRoZSBicm93c2VyIHlldCksCi8vIHdoZXJlIHRoZXJlIGFyZSBtdWx0aXBsZSBhc3luY2hyb25vdXMgc3RlcHMgYW5kIHRoZSBQeXRob24gc2lkZSBpcyBnb2luZwovLyB0byBwb2xsIGZvciBjb21wbGV0aW9uIG9mIGVhY2ggc3RlcC4KLy8gVGhpcyB1c2VzIGEgUHJvbWlzZSB0byBibG9jayB0aGUgcHl0aG9uIHNpZGUgb24gY29tcGxldGlvbiBvZiBlYWNoIHN0ZXAsCi8vIHRoZW4gcGFzc2VzIHRoZSByZXN1bHQgb2YgdGhlIHByZXZpb3VzIHN0ZXAgYXMgdGhlIGlucHV0IHRvIHRoZSBuZXh0IHN0ZXAuCmZ1bmN0aW9uIF91cGxvYWRGaWxlc0NvbnRpbnVlKG91dHB1dElkKSB7CiAgY29uc3Qgb3V0cHV0RWxlbWVudCA9IGRvY3VtZW50LmdldEVsZW1lbnRCeUlkKG91dHB1dElkKTsKICBjb25zdCBzdGVwcyA9IG91dHB1dEVsZW1lbnQuc3RlcHM7CgogIGNvbnN0IG5leHQgPSBzdGVwcy5uZXh0KG91dHB1dEVsZW1lbnQubGFzdFByb21pc2VWYWx1ZSk7CiAgcmV0dXJuIFByb21pc2UucmVzb2x2ZShuZXh0LnZhbHVlLnByb21pc2UpLnRoZW4oKHZhbHVlKSA9PiB7CiAgICAvLyBDYWNoZSB0aGUgbGFzdCBwcm9taXNlIHZhbHVlIHRvIG1ha2UgaXQgYXZhaWxhYmxlIHRvIHRoZSBuZXh0CiAgICAvLyBzdGVwIG9mIHRoZSBnZW5lcmF0b3IuCiAgICBvdXRwdXRFbGVtZW50Lmxhc3RQcm9taXNlVmFsdWUgPSB2YWx1ZTsKICAgIHJldHVybiBuZXh0LnZhbHVlLnJlc3BvbnNlOwogIH0pOwp9CgovKioKICogR2VuZXJhdG9yIGZ1bmN0aW9uIHdoaWNoIGlzIGNhbGxlZCBiZXR3ZWVuIGVhY2ggYXN5bmMgc3RlcCBvZiB0aGUgdXBsb2FkCiAqIHByb2Nlc3MuCiAqIEBwYXJhbSB7c3RyaW5nfSBpbnB1dElkIEVsZW1lbnQgSUQgb2YgdGhlIGlucHV0IGZpbGUgcGlja2VyIGVsZW1lbnQuCiAqIEBwYXJhbSB7c3RyaW5nfSBvdXRwdXRJZCBFbGVtZW50IElEIG9mIHRoZSBvdXRwdXQgZGlzcGxheS4KICogQHJldHVybiB7IUl0ZXJhYmxlPCFPYmplY3Q+fSBJdGVyYWJsZSBvZiBuZXh0IHN0ZXBzLgogKi8KZnVuY3Rpb24qIHVwbG9hZEZpbGVzU3RlcChpbnB1dElkLCBvdXRwdXRJZCkgewogIGNvbnN0IGlucHV0RWxlbWVudCA9IGRvY3VtZW50LmdldEVsZW1lbnRCeUlkKGlucHV0SWQpOwogIGlucHV0RWxlbWVudC5kaXNhYmxlZCA9IGZhbHNlOwoKICBjb25zdCBvdXRwdXRFbGVtZW50ID0gZG9jdW1lbnQuZ2V0RWxlbWVudEJ5SWQob3V0cHV0SWQpOwogIG91dHB1dEVsZW1lbnQuaW5uZXJIVE1MID0gJyc7CgogIGNvbnN0IHBpY2tlZFByb21pc2UgPSBuZXcgUHJvbWlzZSgocmVzb2x2ZSkgPT4gewogICAgaW5wdXRFbGVtZW50LmFkZEV2ZW50TGlzdGVuZXIoJ2NoYW5nZScsIChlKSA9PiB7CiAgICAgIHJlc29sdmUoZS50YXJnZXQuZmlsZXMpOwogICAgfSk7CiAgfSk7CgogIGNvbnN0IGNhbmNlbCA9IGRvY3VtZW50LmNyZWF0ZUVsZW1lbnQoJ2J1dHRvbicpOwogIGlucHV0RWxlbWVudC5wYXJlbnRFbGVtZW50LmFwcGVuZENoaWxkKGNhbmNlbCk7CiAgY2FuY2VsLnRleHRDb250ZW50ID0gJ0NhbmNlbCB1cGxvYWQnOwogIGNvbnN0IGNhbmNlbFByb21pc2UgPSBuZXcgUHJvbWlzZSgocmVzb2x2ZSkgPT4gewogICAgY2FuY2VsLm9uY2xpY2sgPSAoKSA9PiB7CiAgICAgIHJlc29sdmUobnVsbCk7CiAgICB9OwogIH0pOwoKICAvLyBXYWl0IGZvciB0aGUgdXNlciB0byBwaWNrIHRoZSBmaWxlcy4KICBjb25zdCBmaWxlcyA9IHlpZWxkIHsKICAgIHByb21pc2U6IFByb21pc2UucmFjZShbcGlja2VkUHJvbWlzZSwgY2FuY2VsUHJvbWlzZV0pLAogICAgcmVzcG9uc2U6IHsKICAgICAgYWN0aW9uOiAnc3RhcnRpbmcnLAogICAgfQogIH07CgogIGNhbmNlbC5yZW1vdmUoKTsKCiAgLy8gRGlzYWJsZSB0aGUgaW5wdXQgZWxlbWVudCBzaW5jZSBmdXJ0aGVyIHBpY2tzIGFyZSBub3QgYWxsb3dlZC4KICBpbnB1dEVsZW1lbnQuZGlzYWJsZWQgPSB0cnVlOwoKICBpZiAoIWZpbGVzKSB7CiAgICByZXR1cm4gewogICAgICByZXNwb25zZTogewogICAgICAgIGFjdGlvbjogJ2NvbXBsZXRlJywKICAgICAgfQogICAgfTsKICB9CgogIGZvciAoY29uc3QgZmlsZSBvZiBmaWxlcykgewogICAgY29uc3QgbGkgPSBkb2N1bWVudC5jcmVhdGVFbGVtZW50KCdsaScpOwogICAgbGkuYXBwZW5kKHNwYW4oZmlsZS5uYW1lLCB7Zm9udFdlaWdodDogJ2JvbGQnfSkpOwogICAgbGkuYXBwZW5kKHNwYW4oCiAgICAgICAgYCgke2ZpbGUudHlwZSB8fCAnbi9hJ30pIC0gJHtmaWxlLnNpemV9IGJ5dGVzLCBgICsKICAgICAgICBgbGFzdCBtb2RpZmllZDogJHsKICAgICAgICAgICAgZmlsZS5sYXN0TW9kaWZpZWREYXRlID8gZmlsZS5sYXN0TW9kaWZpZWREYXRlLnRvTG9jYWxlRGF0ZVN0cmluZygpIDoKICAgICAgICAgICAgICAgICAgICAgICAgICAgICAgICAgICAgJ24vYSd9IC0gYCkpOwogICAgY29uc3QgcGVyY2VudCA9IHNwYW4oJzAlIGRvbmUnKTsKICAgIGxpLmFwcGVuZENoaWxkKHBlcmNlbnQpOwoKICAgIG91dHB1dEVsZW1lbnQuYXBwZW5kQ2hpbGQobGkpOwoKICAgIGNvbnN0IGZpbGVEYXRhUHJvbWlzZSA9IG5ldyBQcm9taXNlKChyZXNvbHZlKSA9PiB7CiAgICAgIGNvbnN0IHJlYWRlciA9IG5ldyBGaWxlUmVhZGVyKCk7CiAgICAgIHJlYWRlci5vbmxvYWQgPSAoZSkgPT4gewogICAgICAgIHJlc29sdmUoZS50YXJnZXQucmVzdWx0KTsKICAgICAgfTsKICAgICAgcmVhZGVyLnJlYWRBc0FycmF5QnVmZmVyKGZpbGUpOwogICAgfSk7CiAgICAvLyBXYWl0IGZvciB0aGUgZGF0YSB0byBiZSByZWFkeS4KICAgIGxldCBmaWxlRGF0YSA9IHlpZWxkIHsKICAgICAgcHJvbWlzZTogZmlsZURhdGFQcm9taXNlLAogICAgICByZXNwb25zZTogewogICAgICAgIGFjdGlvbjogJ2NvbnRpbnVlJywKICAgICAgfQogICAgfTsKCiAgICAvLyBVc2UgYSBjaHVua2VkIHNlbmRpbmcgdG8gYXZvaWQgbWVzc2FnZSBzaXplIGxpbWl0cy4gU2VlIGIvNjIxMTU2NjAuCiAgICBsZXQgcG9zaXRpb24gPSAwOwogICAgZG8gewogICAgICBjb25zdCBsZW5ndGggPSBNYXRoLm1pbihmaWxlRGF0YS5ieXRlTGVuZ3RoIC0gcG9zaXRpb24sIE1BWF9QQVlMT0FEX1NJWkUpOwogICAgICBjb25zdCBjaHVuayA9IG5ldyBVaW50OEFycmF5KGZpbGVEYXRhLCBwb3NpdGlvbiwgbGVuZ3RoKTsKICAgICAgcG9zaXRpb24gKz0gbGVuZ3RoOwoKICAgICAgY29uc3QgYmFzZTY0ID0gYnRvYShTdHJpbmcuZnJvbUNoYXJDb2RlLmFwcGx5KG51bGwsIGNodW5rKSk7CiAgICAgIHlpZWxkIHsKICAgICAgICByZXNwb25zZTogewogICAgICAgICAgYWN0aW9uOiAnYXBwZW5kJywKICAgICAgICAgIGZpbGU6IGZpbGUubmFtZSwKICAgICAgICAgIGRhdGE6IGJhc2U2NCwKICAgICAgICB9LAogICAgICB9OwoKICAgICAgbGV0IHBlcmNlbnREb25lID0gZmlsZURhdGEuYnl0ZUxlbmd0aCA9PT0gMCA/CiAgICAgICAgICAxMDAgOgogICAgICAgICAgTWF0aC5yb3VuZCgocG9zaXRpb24gLyBmaWxlRGF0YS5ieXRlTGVuZ3RoKSAqIDEwMCk7CiAgICAgIHBlcmNlbnQudGV4dENvbnRlbnQgPSBgJHtwZXJjZW50RG9uZX0lIGRvbmVgOwoKICAgIH0gd2hpbGUgKHBvc2l0aW9uIDwgZmlsZURhdGEuYnl0ZUxlbmd0aCk7CiAgfQoKICAvLyBBbGwgZG9uZS4KICB5aWVsZCB7CiAgICByZXNwb25zZTogewogICAgICBhY3Rpb246ICdjb21wbGV0ZScsCiAgICB9CiAgfTsKfQoKc2NvcGUuZ29vZ2xlID0gc2NvcGUuZ29vZ2xlIHx8IHt9OwpzY29wZS5nb29nbGUuY29sYWIgPSBzY29wZS5nb29nbGUuY29sYWIgfHwge307CnNjb3BlLmdvb2dsZS5jb2xhYi5fZmlsZXMgPSB7CiAgX3VwbG9hZEZpbGVzLAogIF91cGxvYWRGaWxlc0NvbnRpbnVlLAp9Owp9KShzZWxmKTsK",
              "ok": true,
              "headers": [
                [
                  "content-type",
                  "application/javascript"
                ]
              ],
              "status": 200,
              "status_text": ""
            }
          },
          "base_uri": "https://localhost:8080/",
          "height": 38
        }
      },
      "execution_count": null,
      "outputs": [
        {
          "output_type": "display_data",
          "data": {
            "text/plain": [
              "<IPython.core.display.HTML object>"
            ],
            "text/html": [
              "\n",
              "     <input type=\"file\" id=\"files-2fdfcab2-b43e-49c7-a614-29945a982466\" name=\"files[]\" multiple disabled\n",
              "        style=\"border:none\" />\n",
              "     <output id=\"result-2fdfcab2-b43e-49c7-a614-29945a982466\">\n",
              "      Upload widget is only available when the cell has been executed in the\n",
              "      current browser session. Please rerun this cell to enable.\n",
              "      </output>\n",
              "      <script src=\"/nbextensions/google.colab/files.js\"></script> "
            ]
          },
          "metadata": {}
        }
      ]
    },
    {
      "cell_type": "code",
      "source": [
        "ner = spacy.load(\"en_core_web_lg\")\n"
      ],
      "metadata": {
        "id": "N1VQUpusQtQk",
        "colab": {
          "base_uri": "https://localhost:8080/"
        },
        "outputId": "59b3a809-a927-4e19-c871-fe73f29b53ed"
      },
      "execution_count": 3,
      "outputs": [
        {
          "output_type": "stream",
          "name": "stderr",
          "text": [
            "/usr/local/lib/python3.7/dist-packages/spacy/util.py:837: UserWarning: [W095] Model 'en_core_web_lg' (3.0.0) was trained with spaCy v3.0 and may not be 100% compatible with the current version (3.3.1). If you see errors or degraded performance, download a newer compatible model or retrain your custom model with the current spaCy version. For more details and available updates, run: python -m spacy validate\n",
            "  message = f\"Error running command:\\n\\n{cmd_str}\\n\\n\"\n"
          ]
        }
      ]
    },
    {
      "cell_type": "code",
      "source": [
        "text = pdf_reader(\"/content/9995c9d0bab3b678e4835d05490b4c993120 (1).pdf\", ner )"
      ],
      "metadata": {
        "id": "-rzeWQpIReYj",
        "outputId": "7d4be1c8-4225-464f-96ae-c3000ce8c817",
        "colab": {
          "base_uri": "https://localhost:8080/",
          "height": 218
        }
      },
      "execution_count": 4,
      "outputs": [
        {
          "output_type": "error",
          "ename": "NameError",
          "evalue": "ignored",
          "traceback": [
            "\u001b[0;31m---------------------------------------------------------------------------\u001b[0m",
            "\u001b[0;31mNameError\u001b[0m                                 Traceback (most recent call last)",
            "\u001b[0;32m<ipython-input-4-18a6e608d146>\u001b[0m in \u001b[0;36m<module>\u001b[0;34m()\u001b[0m\n\u001b[0;32m----> 1\u001b[0;31m \u001b[0mtext\u001b[0m \u001b[0;34m=\u001b[0m \u001b[0mpdf_reader\u001b[0m\u001b[0;34m(\u001b[0m\u001b[0;34m\"/content/9995c9d0bab3b678e4835d05490b4c993120 (1).pdf\"\u001b[0m\u001b[0;34m,\u001b[0m \u001b[0mner\u001b[0m \u001b[0;34m)\u001b[0m\u001b[0;34m\u001b[0m\u001b[0;34m\u001b[0m\u001b[0m\n\u001b[0m",
            "\u001b[0;31mNameError\u001b[0m: name 'pdf_reader' is not defined"
          ]
        }
      ]
    },
    {
      "cell_type": "code",
      "source": [
        "text"
      ],
      "metadata": {
        "id": "_I8QxyVyTrbp"
      },
      "execution_count": null,
      "outputs": []
    },
    {
      "cell_type": "code",
      "source": [
        "displacy.render(text,style=\"ent\",jupyter=True)"
      ],
      "metadata": {
        "id": "1gJQq614WQaV"
      },
      "execution_count": null,
      "outputs": []
    },
    {
      "cell_type": "code",
      "source": [
        "\n",
        "ner(text)\n",
        "for entity in text.ents:\n",
        "    print(entity.text,entity.label_)"
      ],
      "metadata": {
        "id": "hbAMO57-RzAV"
      },
      "execution_count": null,
      "outputs": []
    },
    {
      "cell_type": "code",
      "source": [
        "text1 = pdf_reader(\"/content/sustainability-12-02425-v2.pdf\", ner)"
      ],
      "metadata": {
        "id": "7rcwIHIpZUw6"
      },
      "execution_count": null,
      "outputs": []
    },
    {
      "cell_type": "code",
      "source": [
        "displacy.render(text1,style=\"ent\",jupyter=True)"
      ],
      "metadata": {
        "id": "CMTkSQZOZtKe"
      },
      "execution_count": null,
      "outputs": []
    },
    {
      "cell_type": "code",
      "source": [
        "list_of_loc=[]\n",
        "\n",
        "# Appending entities which have the label 'LOC' to the list\n",
        "for entity in text1.ents:\n",
        "  if entity.label_=='LOC':\n",
        "    list_of_loc.append(entity.text)\n",
        "\n",
        "list_of_gpe=[]\n",
        "\n",
        "# Appending entities which have the label 'LOC' to the list\n",
        "for entity in text1.ents:\n",
        "  if entity.label_=='GPE':\n",
        "    list_of_gpe.append(entity.text)"
      ],
      "metadata": {
        "id": "Ne_XEZMzVLwz"
      },
      "execution_count": null,
      "outputs": []
    },
    {
      "cell_type": "code",
      "source": [
        "list_of_loc"
      ],
      "metadata": {
        "colab": {
          "base_uri": "https://localhost:8080/"
        },
        "id": "zSEKW3gaal6b",
        "outputId": "4d02b033-a53b-4f7b-dd2d-effc23ce0798"
      },
      "execution_count": null,
      "outputs": [
        {
          "output_type": "execute_result",
          "data": {
            "text/plain": [
              "['Nile Basin\\n\\n',\n",
              " 'Upper Blue Nile',\n",
              " 'Upper Blue Nile',\n",
              " 'Upper Blue Nile',\n",
              " 'Upper Blue Nile',\n",
              " 'Upper Blue Nile',\n",
              " 'the Upper Blue Nile',\n",
              " 'Upper Blue Nile',\n",
              " 'Upper Blue Nile',\n",
              " 'the Upper Blue Nile',\n",
              " 'the Upper Blue Nile',\n",
              " 'a\\nSand',\n",
              " 'Slope',\n",
              " 'Upper Blue Nile',\n",
              " 'Upper Blue Nile',\n",
              " 'the Upper Blue Nile',\n",
              " 'Upper Blue Nile',\n",
              " 'Upper Blue Nile',\n",
              " 'the Loess Plateau',\n",
              " 'the Upper Blue Nile',\n",
              " 'the Yanqi Basin',\n",
              " 'Subtropical Forests',\n",
              " 'the Loess Plateau',\n",
              " 'Northern Ethiopia',\n",
              " 'Northern Loess Plateau',\n",
              " 'Northern Ethiopia',\n",
              " 'the Bale Mountains',\n",
              " 'Eastern Ethiopia’s',\n",
              " 'the White Nile Basin',\n",
              " 'the Blue Nile',\n",
              " 'Northwestern Ethiopia',\n",
              " 'North-Western Ethiopia',\n",
              " 'Loess Plateau',\n",
              " 'the Loess Plateau',\n",
              " 'Upper Blue Nile',\n",
              " 'the Amhara Region',\n",
              " 'Northwestern Ethiopia',\n",
              " 'the Upper Blue Nile',\n",
              " 'Upper Blue Nile',\n",
              " 'Lake Tana',\n",
              " 'the Northwestern Highlands',\n",
              " 'Mt. Res',\n",
              " 'Tropical Humid Highland',\n",
              " 'Ethiopian Central Highlands',\n",
              " 'North-western',\n",
              " 'North China',\n",
              " 'Southwestern China',\n",
              " 'Southern Ethiopia']"
            ]
          },
          "metadata": {},
          "execution_count": 26
        }
      ]
    },
    {
      "cell_type": "code",
      "source": [
        "list_of_gpe"
      ],
      "metadata": {
        "colab": {
          "base_uri": "https://localhost:8080/"
        },
        "id": "R-OmgxdVa34L",
        "outputId": "df4d5b9b-5716-41e2-f405-76d56154786f"
      },
      "execution_count": null,
      "outputs": [
        {
          "output_type": "execute_result",
          "data": {
            "text/plain": [
              "['Japan',\n",
              " 'Bahir Dar',\n",
              " 'Ethiopia',\n",
              " 'Japan',\n",
              " 'Japan',\n",
              " 'Bahir Dar',\n",
              " 'Ethiopia',\n",
              " 'Japan',\n",
              " 'Ethiopia',\n",
              " 'TN',\n",
              " 'TN',\n",
              " 'TN',\n",
              " 'TN',\n",
              " 'TN',\n",
              " 'TN',\n",
              " 'TN',\n",
              " 'TN',\n",
              " 'TN',\n",
              " 'Ethiopia',\n",
              " 'Ethiopia',\n",
              " 'Ethiopia',\n",
              " 'TN',\n",
              " 'TN',\n",
              " 'TN',\n",
              " 'Ethiopia',\n",
              " 'TN',\n",
              " 'TN',\n",
              " 'Ethiopia',\n",
              " 'Guder',\n",
              " 'TN',\n",
              " 'Ethiopia',\n",
              " 'Guder',\n",
              " 'Midland',\n",
              " 'TN',\n",
              " 'Ethiopia',\n",
              " 'Guder',\n",
              " 'Japan',\n",
              " 'Kyoto',\n",
              " 'Japan',\n",
              " 'Kyoto Japan',\n",
              " 'TN',\n",
              " 'TN',\n",
              " 'TN',\n",
              " 'Agricolae',\n",
              " 'TN',\n",
              " 'TN',\n",
              " 'TN',\n",
              " 'TN',\n",
              " 'TN',\n",
              " 'TN',\n",
              " 'TN',\n",
              " 'TN',\n",
              " 'TN',\n",
              " 'TN',\n",
              " 'TN',\n",
              " 'Agricolae',\n",
              " 'TN',\n",
              " 'TN',\n",
              " 'TN',\n",
              " 'TN',\n",
              " 'TN',\n",
              " 'TN',\n",
              " 'TN',\n",
              " 'TN',\n",
              " 'TN',\n",
              " 'TN',\n",
              " 'TN',\n",
              " 'TN',\n",
              " 'TN',\n",
              " 'TN',\n",
              " 'TN',\n",
              " 'TN',\n",
              " 'TN',\n",
              " 'TN',\n",
              " 'TN',\n",
              " 'TN',\n",
              " 'TN',\n",
              " 'TN',\n",
              " 'TN',\n",
              " 'TN',\n",
              " 'TN',\n",
              " 'TN',\n",
              " 'TN',\n",
              " 'TN',\n",
              " 'TN',\n",
              " 'TN',\n",
              " 'TN',\n",
              " 'TN',\n",
              " 'TN',\n",
              " 'TN',\n",
              " 'TN',\n",
              " 'TN',\n",
              " 'TN',\n",
              " 'TN',\n",
              " 'TN',\n",
              " 'TN',\n",
              " 'TN',\n",
              " 'TN',\n",
              " 'TN',\n",
              " 'TN',\n",
              " 'TN',\n",
              " 'TN',\n",
              " 'TN',\n",
              " 'TN',\n",
              " 'TN',\n",
              " 'TN',\n",
              " 'TN',\n",
              " 'TN',\n",
              " 'TN',\n",
              " 'Guder',\n",
              " 'TN',\n",
              " 'TN',\n",
              " 'TN',\n",
              " 'TN',\n",
              " 'TN',\n",
              " 'China',\n",
              " 'China',\n",
              " 'TN',\n",
              " 'TN',\n",
              " 'TN',\n",
              " 'TN',\n",
              " 'TN',\n",
              " 'Ethiopia',\n",
              " 'TN',\n",
              " 'Ethiopia',\n",
              " 'TN',\n",
              " 'TN',\n",
              " 'TN',\n",
              " 'TN',\n",
              " 'Ethiopia',\n",
              " 'TN',\n",
              " 'TN',\n",
              " 'TN',\n",
              " 'TN',\n",
              " 'TN',\n",
              " 'TN',\n",
              " 'Ethiopia',\n",
              " 'TN',\n",
              " 'Ethiopia',\n",
              " 'Ethiopia',\n",
              " 'TN',\n",
              " 'TN',\n",
              " 'Ethiopia',\n",
              " 'TN',\n",
              " 'TN',\n",
              " 'TN',\n",
              " 'TN',\n",
              " 'TN',\n",
              " 'TN',\n",
              " 'TN',\n",
              " 'TN',\n",
              " 'TN',\n",
              " 'TN',\n",
              " 'TN',\n",
              " 'Ebabu et al',\n",
              " 'TN',\n",
              " 'Ethiopia',\n",
              " 'Ethiopia',\n",
              " 'TN',\n",
              " 'Ethiopia',\n",
              " 'TN',\n",
              " 'TN',\n",
              " 'TN',\n",
              " 'TN',\n",
              " 'TN',\n",
              " 'TN',\n",
              " 'TN',\n",
              " 'TN',\n",
              " 'TN',\n",
              " 'TN',\n",
              " 'TN',\n",
              " 'TN',\n",
              " 'TN',\n",
              " 'TN',\n",
              " 'TN',\n",
              " 'TN',\n",
              " 'TN',\n",
              " 'TN',\n",
              " 'TN',\n",
              " 'TN',\n",
              " 'TN',\n",
              " 'TN',\n",
              " 'TN',\n",
              " 'G.A.',\n",
              " 'N.H.',\n",
              " 'G.A.',\n",
              " 'N.H.',\n",
              " 'G.A.',\n",
              " 'G.A.',\n",
              " 'G.A.',\n",
              " 'N.H.',\n",
              " 'G.A.',\n",
              " 'E.A.',\n",
              " 'N.H.',\n",
              " 'T.T.',\n",
              " 'N.H.',\n",
              " 'E.A.',\n",
              " 'N.H.',\n",
              " 'N.H.',\n",
              " 'China',\n",
              " 'J.P. Soil',\n",
              " 'Garhwal',\n",
              " 'Rewald',\n",
              " 'B.',\n",
              " 'Abiyu',\n",
              " 'Godbold',\n",
              " 'Northwest Ethiopia',\n",
              " 'China',\n",
              " 'Wesemael',\n",
              " 'S. Soil',\n",
              " 'China',\n",
              " 'Cambridge',\n",
              " 'UK',\n",
              " 'R. Soil',\n",
              " 'Tigray',\n",
              " 'Ecosyst',\n",
              " 'Environ',\n",
              " 'R. Soil',\n",
              " 'China',\n",
              " 'Tigray',\n",
              " 'Ethiopia',\n",
              " 'S.A.',\n",
              " 'Grevillea',\n",
              " 'Environ',\n",
              " 'Ethiopia',\n",
              " 'Guteta',\n",
              " 'Arsamma',\n",
              " 'Y. Soil',\n",
              " 'Guangxi',\n",
              " 'China',\n",
              " 'Ethiopia',\n",
              " 'Bewket',\n",
              " 'Ethiopia',\n",
              " 'Environ',\n",
              " 'W. Land',\n",
              " 'Tanzania',\n",
              " 'Ecosyst',\n",
              " 'Environ',\n",
              " 'Dessalegn',\n",
              " 'Walley',\n",
              " 'Ethiopia',\n",
              " 'Catnea',\n",
              " 'Y.G.',\n",
              " 'Bastola',\n",
              " 'S.A.',\n",
              " 'China',\n",
              " 'G.I.',\n",
              " 'Birge',\n",
              " 'P.E.',\n",
              " 'S.E.',\n",
              " 'S.D.',\n",
              " 'S.D.',\n",
              " 'J. Soil',\n",
              " 'J.C.',\n",
              " 'K. Soil',\n",
              " 'Cameroon',\n",
              " 'Fenta',\n",
              " 'Adgo',\n",
              " 'Y.A.',\n",
              " 'Adgo',\n",
              " 'Berihun',\n",
              " 'Adgo',\n",
              " 'Sultan',\n",
              " 'M. Exploring',\n",
              " 'Ethiopia',\n",
              " 'Ethiopia',\n",
              " 'Bahir Dar',\n",
              " 'Ethiopia',\n",
              " 'Adgo',\n",
              " 'Fenta',\n",
              " 'Ethiopia',\n",
              " 'Adgo',\n",
              " 'Ethiopia',\n",
              " 'Adgo',\n",
              " 'Admasu',\n",
              " 'Adgo',\n",
              " 'Ethiopia',\n",
              " 'Vienna',\n",
              " 'Austria',\n",
              " 'Niu',\n",
              " 'Marin-Spiotta',\n",
              " 'E.',\n",
              " 'Ließ',\n",
              " 'N.P.',\n",
              " 'Berihu',\n",
              " 'Girmay',\n",
              " 'Sebhatleab',\n",
              " 'Sigua',\n",
              " 'G.C. Soil',\n",
              " 'Ethiopia',\n",
              " 'Hunan Province',\n",
              " 'China',\n",
              " 'Lillesø',\n",
              " 'J.-P.B.',\n",
              " 'Natural Vegetation',\n",
              " 'Ethiopia',\n",
              " 'Kidane',\n",
              " 'Sertse',\n",
              " 'Adgo',\n",
              " 'Fagita Lekoma District',\n",
              " 'North-Western',\n",
              " 'Ethiopia',\n",
              " 'Adgo',\n",
              " 'A.A.',\n",
              " 'Ebabu',\n",
              " 'Ethiopia',\n",
              " 'Environ',\n",
              " 'Rewald',\n",
              " 'B.',\n",
              " 'Sheil',\n",
              " 'Uganda',\n",
              " 'Metema',\n",
              " 'Ethiopia',\n",
              " 'D.J.',\n",
              " 'Ecosyst',\n",
              " 'Environ',\n",
              " 'W. Soil',\n",
              " 'Z.P. Land',\n",
              " 'China',\n",
              " 'Sichuan province',\n",
              " 'Batjes',\n",
              " 'Turrión',\n",
              " 'Ethiopia',\n",
              " 'Ostrowska',\n",
              " 'Ind.',\n",
              " 'Basel',\n",
              " 'Switzerland']"
            ]
          },
          "metadata": {},
          "execution_count": 28
        }
      ]
    }
  ]
}