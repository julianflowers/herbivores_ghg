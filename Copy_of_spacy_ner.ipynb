{
  "nbformat": 4,
  "nbformat_minor": 0,
  "metadata": {
    "colab": {
      "name": "Copy of spacy_ner.ipynb",
      "provenance": [],
      "mount_file_id": "1L7ku04dSi2zjmjjnmp1pN4UFAjIvJoqK",
      "authorship_tag": "ABX9TyMVO+FE+QSWeKWUH2Jey2wz",
      "include_colab_link": true
    },
    "kernelspec": {
      "name": "python3",
      "display_name": "Python 3"
    },
    "language_info": {
      "name": "python"
    }
  },
  "cells": [
    {
      "cell_type": "markdown",
      "metadata": {
        "id": "view-in-github",
        "colab_type": "text"
      },
      "source": [
        "<a href=\"https://colab.research.google.com/github/julianflowers/herbivores_ghg/blob/master/Copy_of_spacy_ner.ipynb\" target=\"_parent\"><img src=\"https://colab.research.google.com/assets/colab-badge.svg\" alt=\"Open In Colab\"/></a>"
      ]
    },
    {
      "cell_type": "code",
      "execution_count": null,
      "metadata": {
        "id": "vtLfL_JEQj0S"
      },
      "outputs": [],
      "source": [
        "import spacy\n",
        "from spacy import displacy\n",
        "!pip install https://github.com/explosion/spacy-models/releases/download/en_core_web_lg-3.0.0/en_core_web_lg-3.0.0-py3-none-any.whl\n"
      ]
    },
    {
      "cell_type": "code",
      "source": [
        "!pip install spacypdfreader\n"
      ],
      "metadata": {
        "id": "0e_0TCraTE8Y"
      },
      "execution_count": null,
      "outputs": []
    },
    {
      "cell_type": "code",
      "source": [
        "from spacypdfreader import pdf_reader"
      ],
      "metadata": {
        "id": "UwolNSHOTSO3"
      },
      "execution_count": null,
      "outputs": []
    },
    {
      "cell_type": "code",
      "source": [
        "ner = spacy.load(\"en_core_web_lg\")\n"
      ],
      "metadata": {
        "id": "N1VQUpusQtQk",
        "colab": {
          "base_uri": "https://localhost:8080/"
        },
        "outputId": "d0d8c31b-4d91-4494-b1f2-03c3d8dfce5e"
      },
      "execution_count": null,
      "outputs": [
        {
          "output_type": "stream",
          "name": "stderr",
          "text": [
            "/usr/local/lib/python3.7/dist-packages/spacy/util.py:837: UserWarning: [W095] Model 'en_core_web_lg' (3.0.0) was trained with spaCy v3.0 and may not be 100% compatible with the current version (3.3.1). If you see errors or degraded performance, download a newer compatible model or retrain your custom model with the current spaCy version. For more details and available updates, run: python -m spacy validate\n",
            "  warnings.warn(warn_msg)\n"
          ]
        }
      ]
    },
    {
      "cell_type": "code",
      "source": [
        "text = pdf_reader(\"/content/9995c9d0bab3b678e4835d05490b4c993120 (1).pdf\", ner )"
      ],
      "metadata": {
        "id": "-rzeWQpIReYj"
      },
      "execution_count": null,
      "outputs": []
    },
    {
      "cell_type": "code",
      "source": [
        "text"
      ],
      "metadata": {
        "id": "_I8QxyVyTrbp"
      },
      "execution_count": null,
      "outputs": []
    },
    {
      "cell_type": "code",
      "source": [
        "displacy.render(text,style=\"ent\",jupyter=True)"
      ],
      "metadata": {
        "id": "1gJQq614WQaV"
      },
      "execution_count": null,
      "outputs": []
    },
    {
      "cell_type": "code",
      "source": [
        "\n",
        "ner(text)\n",
        "for entity in text.ents:\n",
        "    print(entity.text,entity.label_)"
      ],
      "metadata": {
        "id": "hbAMO57-RzAV"
      },
      "execution_count": null,
      "outputs": []
    },
    {
      "cell_type": "code",
      "source": [
        "text1 = pdf_reader(\"/content/sustainability-12-02425-v2.pdf\", ner)"
      ],
      "metadata": {
        "id": "7rcwIHIpZUw6"
      },
      "execution_count": null,
      "outputs": []
    },
    {
      "cell_type": "code",
      "source": [
        "displacy.render(text1,style=\"ent\",jupyter=True)"
      ],
      "metadata": {
        "id": "CMTkSQZOZtKe"
      },
      "execution_count": null,
      "outputs": []
    },
    {
      "cell_type": "code",
      "source": [
        "list_of_loc=[]\n",
        "\n",
        "# Appending entities which have the label 'LOC' to the list\n",
        "for entity in text1.ents:\n",
        "  if entity.label_=='LOC':\n",
        "    list_of_loc.append(entity.text)\n",
        "\n",
        "list_of_gpe=[]\n",
        "\n",
        "# Appending entities which have the label 'LOC' to the list\n",
        "for entity in text1.ents:\n",
        "  if entity.label_=='GPE':\n",
        "    list_of_gpe.append(entity.text)"
      ],
      "metadata": {
        "id": "Ne_XEZMzVLwz"
      },
      "execution_count": null,
      "outputs": []
    },
    {
      "cell_type": "code",
      "source": [
        "list_of_loc"
      ],
      "metadata": {
        "colab": {
          "base_uri": "https://localhost:8080/"
        },
        "id": "zSEKW3gaal6b",
        "outputId": "4d02b033-a53b-4f7b-dd2d-effc23ce0798"
      },
      "execution_count": null,
      "outputs": [
        {
          "output_type": "execute_result",
          "data": {
            "text/plain": [
              "['Nile Basin\\n\\n',\n",
              " 'Upper Blue Nile',\n",
              " 'Upper Blue Nile',\n",
              " 'Upper Blue Nile',\n",
              " 'Upper Blue Nile',\n",
              " 'Upper Blue Nile',\n",
              " 'the Upper Blue Nile',\n",
              " 'Upper Blue Nile',\n",
              " 'Upper Blue Nile',\n",
              " 'the Upper Blue Nile',\n",
              " 'the Upper Blue Nile',\n",
              " 'a\\nSand',\n",
              " 'Slope',\n",
              " 'Upper Blue Nile',\n",
              " 'Upper Blue Nile',\n",
              " 'the Upper Blue Nile',\n",
              " 'Upper Blue Nile',\n",
              " 'Upper Blue Nile',\n",
              " 'the Loess Plateau',\n",
              " 'the Upper Blue Nile',\n",
              " 'the Yanqi Basin',\n",
              " 'Subtropical Forests',\n",
              " 'the Loess Plateau',\n",
              " 'Northern Ethiopia',\n",
              " 'Northern Loess Plateau',\n",
              " 'Northern Ethiopia',\n",
              " 'the Bale Mountains',\n",
              " 'Eastern Ethiopia’s',\n",
              " 'the White Nile Basin',\n",
              " 'the Blue Nile',\n",
              " 'Northwestern Ethiopia',\n",
              " 'North-Western Ethiopia',\n",
              " 'Loess Plateau',\n",
              " 'the Loess Plateau',\n",
              " 'Upper Blue Nile',\n",
              " 'the Amhara Region',\n",
              " 'Northwestern Ethiopia',\n",
              " 'the Upper Blue Nile',\n",
              " 'Upper Blue Nile',\n",
              " 'Lake Tana',\n",
              " 'the Northwestern Highlands',\n",
              " 'Mt. Res',\n",
              " 'Tropical Humid Highland',\n",
              " 'Ethiopian Central Highlands',\n",
              " 'North-western',\n",
              " 'North China',\n",
              " 'Southwestern China',\n",
              " 'Southern Ethiopia']"
            ]
          },
          "metadata": {},
          "execution_count": 26
        }
      ]
    },
    {
      "cell_type": "code",
      "source": [
        "list_of_gpe"
      ],
      "metadata": {
        "colab": {
          "base_uri": "https://localhost:8080/"
        },
        "id": "R-OmgxdVa34L",
        "outputId": "df4d5b9b-5716-41e2-f405-76d56154786f"
      },
      "execution_count": null,
      "outputs": [
        {
          "output_type": "execute_result",
          "data": {
            "text/plain": [
              "['Japan',\n",
              " 'Bahir Dar',\n",
              " 'Ethiopia',\n",
              " 'Japan',\n",
              " 'Japan',\n",
              " 'Bahir Dar',\n",
              " 'Ethiopia',\n",
              " 'Japan',\n",
              " 'Ethiopia',\n",
              " 'TN',\n",
              " 'TN',\n",
              " 'TN',\n",
              " 'TN',\n",
              " 'TN',\n",
              " 'TN',\n",
              " 'TN',\n",
              " 'TN',\n",
              " 'TN',\n",
              " 'Ethiopia',\n",
              " 'Ethiopia',\n",
              " 'Ethiopia',\n",
              " 'TN',\n",
              " 'TN',\n",
              " 'TN',\n",
              " 'Ethiopia',\n",
              " 'TN',\n",
              " 'TN',\n",
              " 'Ethiopia',\n",
              " 'Guder',\n",
              " 'TN',\n",
              " 'Ethiopia',\n",
              " 'Guder',\n",
              " 'Midland',\n",
              " 'TN',\n",
              " 'Ethiopia',\n",
              " 'Guder',\n",
              " 'Japan',\n",
              " 'Kyoto',\n",
              " 'Japan',\n",
              " 'Kyoto Japan',\n",
              " 'TN',\n",
              " 'TN',\n",
              " 'TN',\n",
              " 'Agricolae',\n",
              " 'TN',\n",
              " 'TN',\n",
              " 'TN',\n",
              " 'TN',\n",
              " 'TN',\n",
              " 'TN',\n",
              " 'TN',\n",
              " 'TN',\n",
              " 'TN',\n",
              " 'TN',\n",
              " 'TN',\n",
              " 'Agricolae',\n",
              " 'TN',\n",
              " 'TN',\n",
              " 'TN',\n",
              " 'TN',\n",
              " 'TN',\n",
              " 'TN',\n",
              " 'TN',\n",
              " 'TN',\n",
              " 'TN',\n",
              " 'TN',\n",
              " 'TN',\n",
              " 'TN',\n",
              " 'TN',\n",
              " 'TN',\n",
              " 'TN',\n",
              " 'TN',\n",
              " 'TN',\n",
              " 'TN',\n",
              " 'TN',\n",
              " 'TN',\n",
              " 'TN',\n",
              " 'TN',\n",
              " 'TN',\n",
              " 'TN',\n",
              " 'TN',\n",
              " 'TN',\n",
              " 'TN',\n",
              " 'TN',\n",
              " 'TN',\n",
              " 'TN',\n",
              " 'TN',\n",
              " 'TN',\n",
              " 'TN',\n",
              " 'TN',\n",
              " 'TN',\n",
              " 'TN',\n",
              " 'TN',\n",
              " 'TN',\n",
              " 'TN',\n",
              " 'TN',\n",
              " 'TN',\n",
              " 'TN',\n",
              " 'TN',\n",
              " 'TN',\n",
              " 'TN',\n",
              " 'TN',\n",
              " 'TN',\n",
              " 'TN',\n",
              " 'TN',\n",
              " 'TN',\n",
              " 'TN',\n",
              " 'TN',\n",
              " 'TN',\n",
              " 'Guder',\n",
              " 'TN',\n",
              " 'TN',\n",
              " 'TN',\n",
              " 'TN',\n",
              " 'TN',\n",
              " 'China',\n",
              " 'China',\n",
              " 'TN',\n",
              " 'TN',\n",
              " 'TN',\n",
              " 'TN',\n",
              " 'TN',\n",
              " 'Ethiopia',\n",
              " 'TN',\n",
              " 'Ethiopia',\n",
              " 'TN',\n",
              " 'TN',\n",
              " 'TN',\n",
              " 'TN',\n",
              " 'Ethiopia',\n",
              " 'TN',\n",
              " 'TN',\n",
              " 'TN',\n",
              " 'TN',\n",
              " 'TN',\n",
              " 'TN',\n",
              " 'Ethiopia',\n",
              " 'TN',\n",
              " 'Ethiopia',\n",
              " 'Ethiopia',\n",
              " 'TN',\n",
              " 'TN',\n",
              " 'Ethiopia',\n",
              " 'TN',\n",
              " 'TN',\n",
              " 'TN',\n",
              " 'TN',\n",
              " 'TN',\n",
              " 'TN',\n",
              " 'TN',\n",
              " 'TN',\n",
              " 'TN',\n",
              " 'TN',\n",
              " 'TN',\n",
              " 'Ebabu et al',\n",
              " 'TN',\n",
              " 'Ethiopia',\n",
              " 'Ethiopia',\n",
              " 'TN',\n",
              " 'Ethiopia',\n",
              " 'TN',\n",
              " 'TN',\n",
              " 'TN',\n",
              " 'TN',\n",
              " 'TN',\n",
              " 'TN',\n",
              " 'TN',\n",
              " 'TN',\n",
              " 'TN',\n",
              " 'TN',\n",
              " 'TN',\n",
              " 'TN',\n",
              " 'TN',\n",
              " 'TN',\n",
              " 'TN',\n",
              " 'TN',\n",
              " 'TN',\n",
              " 'TN',\n",
              " 'TN',\n",
              " 'TN',\n",
              " 'TN',\n",
              " 'TN',\n",
              " 'TN',\n",
              " 'G.A.',\n",
              " 'N.H.',\n",
              " 'G.A.',\n",
              " 'N.H.',\n",
              " 'G.A.',\n",
              " 'G.A.',\n",
              " 'G.A.',\n",
              " 'N.H.',\n",
              " 'G.A.',\n",
              " 'E.A.',\n",
              " 'N.H.',\n",
              " 'T.T.',\n",
              " 'N.H.',\n",
              " 'E.A.',\n",
              " 'N.H.',\n",
              " 'N.H.',\n",
              " 'China',\n",
              " 'J.P. Soil',\n",
              " 'Garhwal',\n",
              " 'Rewald',\n",
              " 'B.',\n",
              " 'Abiyu',\n",
              " 'Godbold',\n",
              " 'Northwest Ethiopia',\n",
              " 'China',\n",
              " 'Wesemael',\n",
              " 'S. Soil',\n",
              " 'China',\n",
              " 'Cambridge',\n",
              " 'UK',\n",
              " 'R. Soil',\n",
              " 'Tigray',\n",
              " 'Ecosyst',\n",
              " 'Environ',\n",
              " 'R. Soil',\n",
              " 'China',\n",
              " 'Tigray',\n",
              " 'Ethiopia',\n",
              " 'S.A.',\n",
              " 'Grevillea',\n",
              " 'Environ',\n",
              " 'Ethiopia',\n",
              " 'Guteta',\n",
              " 'Arsamma',\n",
              " 'Y. Soil',\n",
              " 'Guangxi',\n",
              " 'China',\n",
              " 'Ethiopia',\n",
              " 'Bewket',\n",
              " 'Ethiopia',\n",
              " 'Environ',\n",
              " 'W. Land',\n",
              " 'Tanzania',\n",
              " 'Ecosyst',\n",
              " 'Environ',\n",
              " 'Dessalegn',\n",
              " 'Walley',\n",
              " 'Ethiopia',\n",
              " 'Catnea',\n",
              " 'Y.G.',\n",
              " 'Bastola',\n",
              " 'S.A.',\n",
              " 'China',\n",
              " 'G.I.',\n",
              " 'Birge',\n",
              " 'P.E.',\n",
              " 'S.E.',\n",
              " 'S.D.',\n",
              " 'S.D.',\n",
              " 'J. Soil',\n",
              " 'J.C.',\n",
              " 'K. Soil',\n",
              " 'Cameroon',\n",
              " 'Fenta',\n",
              " 'Adgo',\n",
              " 'Y.A.',\n",
              " 'Adgo',\n",
              " 'Berihun',\n",
              " 'Adgo',\n",
              " 'Sultan',\n",
              " 'M. Exploring',\n",
              " 'Ethiopia',\n",
              " 'Ethiopia',\n",
              " 'Bahir Dar',\n",
              " 'Ethiopia',\n",
              " 'Adgo',\n",
              " 'Fenta',\n",
              " 'Ethiopia',\n",
              " 'Adgo',\n",
              " 'Ethiopia',\n",
              " 'Adgo',\n",
              " 'Admasu',\n",
              " 'Adgo',\n",
              " 'Ethiopia',\n",
              " 'Vienna',\n",
              " 'Austria',\n",
              " 'Niu',\n",
              " 'Marin-Spiotta',\n",
              " 'E.',\n",
              " 'Ließ',\n",
              " 'N.P.',\n",
              " 'Berihu',\n",
              " 'Girmay',\n",
              " 'Sebhatleab',\n",
              " 'Sigua',\n",
              " 'G.C. Soil',\n",
              " 'Ethiopia',\n",
              " 'Hunan Province',\n",
              " 'China',\n",
              " 'Lillesø',\n",
              " 'J.-P.B.',\n",
              " 'Natural Vegetation',\n",
              " 'Ethiopia',\n",
              " 'Kidane',\n",
              " 'Sertse',\n",
              " 'Adgo',\n",
              " 'Fagita Lekoma District',\n",
              " 'North-Western',\n",
              " 'Ethiopia',\n",
              " 'Adgo',\n",
              " 'A.A.',\n",
              " 'Ebabu',\n",
              " 'Ethiopia',\n",
              " 'Environ',\n",
              " 'Rewald',\n",
              " 'B.',\n",
              " 'Sheil',\n",
              " 'Uganda',\n",
              " 'Metema',\n",
              " 'Ethiopia',\n",
              " 'D.J.',\n",
              " 'Ecosyst',\n",
              " 'Environ',\n",
              " 'W. Soil',\n",
              " 'Z.P. Land',\n",
              " 'China',\n",
              " 'Sichuan province',\n",
              " 'Batjes',\n",
              " 'Turrión',\n",
              " 'Ethiopia',\n",
              " 'Ostrowska',\n",
              " 'Ind.',\n",
              " 'Basel',\n",
              " 'Switzerland']"
            ]
          },
          "metadata": {},
          "execution_count": 28
        }
      ]
    }
  ]
}